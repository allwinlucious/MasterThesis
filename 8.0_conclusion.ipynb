{
 "cells": [
  {
   "cell_type": "markdown",
   "id": "3a00eba6-b236-497a-9aa3-f2e9e1bbf96e",
   "metadata": {},
   "source": [
    "# 8. Conclusion\n",
    "\n",
    "This thesis presented an approach to estimate joint torques in collaborative robots using\n",
    "machine learning techniques by utilizing dual-encoder and motor current measurements.\n",
    "\n",
    "Based on GRU architecture, the model demonstrated exemplary performance in learning\n",
    "the dynamic interactions in the joint, between the robot links and between the robot\n",
    "and its environment. For the single joint model, an improvement of **58.8%** was observed\n",
    "compared to the traditional method. When extended to all joints, the model showed\n",
    "improvements of around **40-50%** on all joints except one. These results demonstrate the\n",
    "model’s potential over the traditional motor current-based approach.\n",
    "\n",
    "A key advantage of this model is that it eliminates the need for a costly Force/Torque\n",
    "Sensor (FTS) or joint torque sensors in robots. By enabling joint torque/wrench estimation without additional hardware, the model can reduce the costs of collaborative robots.\n",
    "Furthermore, the model met real-time inference requirements by achieving an average inference time of **0.33 ms** when integrated into the real robot. The utility of the developed\n",
    "model was successfully demonstrated in a real-world application to estimate the payload\n",
    "of the robot.\n",
    "\n",
    "Overall, the integration of this model into collaborative robots could lead to significant cost\n",
    "benefits, reduction of weight and structural complexity by not requiring torque sensors at\n",
    "all joints."
   ]
  },
  {
   "cell_type": "markdown",
   "id": "c8968cbe-7ab0-4a5f-8205-f1f41af449a3",
   "metadata": {},
   "source": [
    "## 8.1 Future Work\n",
    "While the results obtained in this thesis is promising, several areas require further work.\n",
    "1. **More variation in training data**: Although the model demonstrated its general-\n",
    "ization capability to different tools and trajectories similar to the training data. It\n",
    "fails to generalize when the motion is different e.g. jogging in Cartesian space. This\n",
    "limitation highlights the need for a different data collection approach by including\n",
    "all types of motion and configurations the robot typically encounters.\n",
    "1. **Real Time Integration**: Although the model meets real time inference require-\n",
    "ments, as highlighted in Section 6.6, more work needs to be done to reduce the\n",
    "maximum inference time e.g. setting the right priority, finding more efficient mod-\n",
    "els.\n",
    "1. **Integration with Control System**: Integration of the developed model with\n",
    "control strategies like Hybrid/Force control could be used for a variety of useful\n",
    "applications like polishing, sanding etc."
   ]
  }
 ],
 "metadata": {
  "citation-manager": {
   "items": {}
  },
  "kernelspec": {
   "display_name": "Python 3 (ipykernel)",
   "language": "python",
   "name": "python3"
  },
  "language_info": {
   "codemirror_mode": {
    "name": "ipython",
    "version": 3
   },
   "file_extension": ".py",
   "mimetype": "text/x-python",
   "name": "python",
   "nbconvert_exporter": "python",
   "pygments_lexer": "ipython3",
   "version": "3.8.19"
  }
 },
 "nbformat": 4,
 "nbformat_minor": 5
}
