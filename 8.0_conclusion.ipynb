{
 "cells": [
  {
   "cell_type": "markdown",
   "id": "3a00eba6-b236-497a-9aa3-f2e9e1bbf96e",
   "metadata": {},
   "source": [
    "# 6.0 Conclusion"
   ]
  },
  {
   "cell_type": "markdown",
   "id": "c8968cbe-7ab0-4a5f-8205-f1f41af449a3",
   "metadata": {},
   "source": [
    "## 6.1 Future Work"
   ]
  },
  {
   "cell_type": "code",
   "execution_count": null,
   "id": "9f7ed205-442e-43c9-be9d-d00d671d9f77",
   "metadata": {},
   "outputs": [],
   "source": []
  }
 ],
 "metadata": {
  "citation-manager": {
   "items": {}
  },
  "kernelspec": {
   "display_name": "Python 3 (ipykernel)",
   "language": "python",
   "name": "python3"
  },
  "language_info": {
   "codemirror_mode": {
    "name": "ipython",
    "version": 3
   },
   "file_extension": ".py",
   "mimetype": "text/x-python",
   "name": "python",
   "nbconvert_exporter": "python",
   "pygments_lexer": "ipython3",
   "version": "3.8.19"
  }
 },
 "nbformat": 4,
 "nbformat_minor": 5
}
