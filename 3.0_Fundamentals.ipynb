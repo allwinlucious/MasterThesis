{
 "cells": [
  {
   "cell_type": "code",
   "execution_count": 5,
   "id": "026093b4-972b-45c0-9d54-e3a529728d61",
   "metadata": {
    "editable": true,
    "slideshow": {
     "slide_type": ""
    },
    "tags": []
   },
   "outputs": [],
   "source": [
    "from IPython.display import Latex"
   ]
  },
  {
   "cell_type": "raw",
   "id": "6891e3a0-e9eb-431c-8c96-c515804f659b",
   "metadata": {
    "editable": true,
    "slideshow": {
     "slide_type": ""
    },
    "tags": []
   },
   "source": [
    "# 3.0 Fundamentals"
   ]
  },
  {
   "cell_type": "markdown",
   "id": "23de1bc5-c4e7-4220-97ad-c7c1b987c752",
   "metadata": {},
   "source": [
    "#### robot, encoder, hdt. hdt to torque formaula, motor current torque estimate."
   ]
  },
  {
   "cell_type": "markdown",
   "id": "eadeaab5-6f80-4bd6-8308-a9d2a174251e",
   "metadata": {},
   "source": [
    "## 3.1 Kinematics\n",
    "\n",
    "This section introduces some basic concepts and algorithmic implementations about the kinematics of a robot\n",
    "used in the rest of the thesis. The conversions between coordinate frames and the chosen convention are covered in the first sub-section. The forward kinematics and the geometric Jacobian computation process are then briefly explained, along with its implementation"
   ]
  },
  {
   "cell_type": "markdown",
   "id": "23288e58-b538-4d7a-aae6-9da96a89d211",
   "metadata": {
    "editable": true,
    "slideshow": {
     "slide_type": ""
    },
    "tags": []
   },
   "source": [
    "### 3.1.1 Homogeneous Transformations\n"
   ]
  },
  {
   "cell_type": "markdown",
   "id": "a7bc7078-e08d-4210-8dc2-431cdeea41a9",
   "metadata": {
    "citation-manager": {
     "citations": {
      "fq99f": [
       {
        "id": "17740253/LY2FP5ZV",
        "source": "zotero"
       }
      ]
     }
    },
    "editable": true,
    "slideshow": {
     "slide_type": ""
    },
    "tags": []
   },
   "source": [
    "Homogeneous transformations are a popular and effective method for representing the relationships between coordinate frames, widely used in robotics, computer graphics, and computer vision <cite id=\"fq99f\"><a href=\"#zotero%7C17740253%2FLY2FP5ZV\">(Ghosal, 2006)</a></cite>. To understand how these transformations are derived, consider two reference frames, $\\text{RF}_{i-1}$ and $\\text{RF}_i$, with origins $O_{i-1}$ and $O_i$, respectively. Suppose there is a point $P$, represented by the vector ${}^{i}\\mathbf{x}_i \\in \\mathbb{R}^3$ in the frame $\\text{RF}_i$. The goal is to express this point in the coordinate frame $\\text{RF}_{i-1}$. Through basic geometric considerations, the point $p$ in frame $\\text{RF}_{i-1}$, represented by the vector ${}^{i-1}\\mathbf{x}_i$, is obtained as follows:\n",
    "\\begin{equation}\n",
    "{}^{i-1}\\mathbf{x}_i = {}^{i-1}\\mathbf{R}_i \\, {}^{i}\\mathbf{x}_i + {}^{i-1}\\mathbf{p}_i,\n",
    "\\label{eq:3.1} \\tag{3.1}\n",
    "\\end{equation}\n",
    "\n",
    "where ${}^{i-1}\\mathbf{R}_{i} \\in \\text{SO}(3)$ is a rotation matrix describing the rotation from $\\text{RF}_i$ to $\\text{RF}_{i-1}$, and ${}^{i-1}\\mathbf{p}_{i}\\in \\mathbb{R}^3$ is the translation vector between the two frames. The set $\\text{SO}(3)$ consists of all orthogonal matrices with a determinant of +1, representing pure rotation matrices.\n",
    "\n",
    "To use homogeneous transformations,  a fourth component with a value of one is added to the vector $\\mathbf{x}$, transforming it into a homogeneous vector $\\tilde{\\mathbf{x}}$:\n",
    "\n",
    "\\begin{equation}\n",
    "\\tilde{\\mathbf{x}} = \\begin{bmatrix} \\mathbf{x} \\\\ 1 \\end{bmatrix}.\n",
    "\\label{eq:3.2} \\tag{3.2}\n",
    "\\end{equation}\n",
    "\n",
    "This enables the transformation to be written in a compact form:\n",
    "\\begin{equation}\n",
    "{}^{i-1}\\tilde{\\mathbf{x}}_i =\n",
    "\\underbrace{\n",
    "\\begin{pmatrix}\n",
    "{}^{i-1}\\mathbf{R}_i & {}^{i-1}\\mathbf{p}_i \\\\\n",
    "\\mathbf{0}^\\mathrm{T} & 1\n",
    "\\end{pmatrix}}_{{} = {}^{i-1}\\mathbf{T}_i}\n",
    "{}^{i}\\tilde{\\mathbf{x}}_i,\n",
    "\\label{eq:3.3} \\tag{3.3}\n",
    "\\end{equation}\n",
    "The matrix ${}^{i-1}\\mathbf{T}_i$, is known as the homogeneous transformation matrix. This matrix effectively contains all the necessary information to convert a point from one reference frame to another, integrating both rotation and translation in a single operation. "
   ]
  },
  {
   "cell_type": "markdown",
   "id": "c13d05d1-cb76-4512-8664-98393adcd83e",
   "metadata": {
    "editable": true,
    "slideshow": {
     "slide_type": ""
    },
    "tags": []
   },
   "source": [
    "### 3.1.2 Denavit-Hartenberg Convention"
   ]
  },
  {
   "cell_type": "markdown",
   "id": "5988c15c-3851-42f5-b943-47746d3a1aee",
   "metadata": {
    "citation-manager": {
     "citations": {
      "10z4u": [
       {
        "id": "17740253/3J5DS9LQ",
        "source": "zotero"
       }
      ],
      "gx4bn": [
       {
        "id": "17740253/LY2FP5ZV",
        "source": "zotero"
       }
      ],
      "zhen5": [
       {
        "id": "17740253/LY2FP5ZV",
        "source": "zotero"
       }
      ]
     }
    },
    "editable": true,
    "slideshow": {
     "slide_type": ""
    },
    "tags": []
   },
   "source": [
    "\n",
    "Although reference frames attached to the links can be chosen arbitrarily, it is practical to select them systematically. A widely used convention for describing the position and orientation of successive link frames relative to each other is the Denavit-Hartenberg (DH) convention <cite id=\"gx4bn\"><a href=\"#zotero%7C17740253%2FLY2FP5ZV\">(Ghosal, 2006)</a></cite><cite id=\"10z4u\"><a href=\"#zotero%7C17740253%2F3J5DS9LQ\">(Denavit &#38; Hartenberg, 2021)</a></cite>\n",
    "\n",
    "\n",
    "#### define the parmaetrs \n",
    "\n",
    "The homogeneous transformation between frame $i$ and $i-1$ is obtained by multiplying the rotation $\\mathbf{T}_{R_z}$ around the $\\hat{\\mathbf{z}}_{i-1}$-axis, the translation $\\mathbf{T}_{T_z}$ along the $\\hat{\\mathbf{z}}_{i-1}$-axis, the translation $\\mathbf{T}_{T_x}$ along the $\\hat{\\mathbf{x}}_i$-axis, and the rotation $\\mathbf{T}_{R_x}$ around the $\\hat{\\mathbf{x}}_i$-axis, as follows:\n",
    "\n",
    "\\begin{equation}\n",
    "{}^{i-1}\\mathbf{T}_i(\\theta_i, d_i, a_i, \\alpha_i) = \\mathbf{T}_{R_z}(\\theta_i) \\mathbf{T}_{T_z}(d_i) \\mathbf{T}_{T_x}(a_i) \\mathbf{T}_{R_x}(\\alpha_i)\n",
    "\\label{eq:3.4} \\tag{3.4}\n",
    "\\end{equation}\n",
    "\n",
    "This sequence of transformations can be represented by the following matrix multiplications:\n",
    "\n",
    "$$\n",
    "\\mathbf{T}_{R_z}(\\theta_i) = \\begin{bmatrix}\n",
    "c_{\\theta_i} & -s_{\\theta_i} & 0 & 0 \\\\\n",
    "s_{\\theta_i} & c_{\\theta_i} & 0 & 0 \\\\\n",
    "0 & 0 & 1 & 0 \\\\\n",
    "0 & 0 & 0 & 1\n",
    "\\end{bmatrix}\n",
    "$$\n",
    "\n",
    "$$\n",
    "\\mathbf{T}_{T_z}(d_i) = \\begin{bmatrix}\n",
    "1 & 0 & 0 & 0 \\\\\n",
    "0 & 1 & 0 & 0 \\\\\n",
    "0 & 0 & 1 & d_i \\\\\n",
    "0 & 0 & 0 & 1\n",
    "\\end{bmatrix}\n",
    "$$\n",
    "\n",
    "$$\n",
    "\\mathbf{T}_{T_x}(a_i) = \\begin{bmatrix}\n",
    "1 & 0 & 0 & a_i \\\\\n",
    "0 & 1 & 0 & 0 \\\\\n",
    "0 & 0 & 1 & 0 \\\\\n",
    "0 & 0 & 0 & 1\n",
    "\\end{bmatrix}\n",
    "$$\n",
    "\n",
    "$$\n",
    "\\mathbf{T}_{R_x}(\\alpha_i) = \\begin{bmatrix}\n",
    "1 & 0 & 0 & 0 \\\\\n",
    "0 & c_{\\alpha_i} & -s_{\\alpha_i} & 0 \\\\\n",
    "0 & s_{\\alpha_i} & c_{\\alpha_i} & 0 \\\\\n",
    "0 & 0 & 0 & 1\n",
    "\\end{bmatrix}\n",
    "$$\n",
    "\n",
    "Combining these, the homogeneous transformation matrix is:\n",
    "\n",
    "\\begin{equation}\n",
    "{}^{i-1}\\mathbf{T}_i(\\theta_i, d_i, a_i, \\alpha_i) = \n",
    "\\begin{bmatrix}\n",
    "c_{\\theta_i} & -s_{\\theta_i} c_{\\alpha_i} & s_{\\theta_i} s_{\\alpha_i} & a_i c_{\\theta_i} \\\\\n",
    "s_{\\theta_i} & c_{\\theta_i} c_{\\alpha_i} & -c_{\\theta_i} s_{\\alpha_i} & a_i s_{\\theta_i} \\\\\n",
    "0 & s_{\\alpha_i} & c_{\\alpha_i} & d_i \\\\\n",
    "0 & 0 & 0 & 1\n",
    "\\end{bmatrix}\n",
    "\\label{eq:3.5} \\tag{3.5}\n",
    "\\end{equation}\n",
    "\n",
    "In this expression, $c_{\\theta_i}$ and $s_{\\theta_i}$ represent $\\cos(\\theta_i)$ and $\\sin(\\theta_i)$, respectively. Notably, the homogeneous transformation ${}^{i-1}\\mathbf{T}_i(\\theta_i, d_i, a_i, \\alpha_i)$ depends on a single variable once the reference frame is established and the other parameters are fixed. This variable is determined by the type of joint: $d_i$ for prismatic joints and $\\theta_i$ for revolute joints. A more elaborate theory can be found in <cite id=\"zhen5\"><a href=\"#zotero%7C17740253%2FLY2FP5ZV\">(Ghosal, 2006)</a></cite>."
   ]
  },
  {
   "cell_type": "code",
   "execution_count": 14,
   "id": "7591178f-0741-4e60-b1a3-a14e98bd8d8f",
   "metadata": {
    "editable": true,
    "slideshow": {
     "slide_type": ""
    },
    "tags": []
   },
   "outputs": [],
   "source": [
    "def dh_transform(a, alpha, d, theta):\n",
    "    \"\"\"\n",
    "    Compute Denavit-Hartenberg transformation matrix.\n",
    "    \"\"\"\n",
    "    return np.array([\n",
    "        [np.cos(theta), -np.sin(theta) * np.cos(alpha),  np.sin(theta) * np.sin(alpha), a * np.cos(theta)],\n",
    "        [np.sin(theta),  np.cos(theta) * np.cos(alpha), -np.cos(theta) * np.sin(alpha), a * np.sin(theta)],\n",
    "        [0,             np.sin(alpha),                 np.cos(alpha),                 d],\n",
    "        [0,             0,                             0,                             1]\n",
    "    ])"
   ]
  },
  {
   "cell_type": "markdown",
   "id": "7d8aab57-0394-4a95-9529-4fe1006aea9e",
   "metadata": {
    "editable": true,
    "slideshow": {
     "slide_type": ""
    },
    "tags": []
   },
   "source": [
    "### 3.1.3 Forward Kinematics"
   ]
  },
  {
   "cell_type": "markdown",
   "id": "9d2f6fe0-01d9-4369-939b-be01c047a6a0",
   "metadata": {
    "citation-manager": {
     "citations": {
      "wc30q": [
       {
        "id": "17740253/LY2FP5ZV",
        "source": "zotero"
       }
      ]
     }
    },
    "editable": true,
    "slideshow": {
     "slide_type": ""
    },
    "tags": []
   },
   "source": [
    "The kinematic representation of a robot manipulator consists of multiple links connected by joints. The links are generally rigid bodies that form the robot’s structure, while the joints are the movable components that connect these links. Joints can be either active, with an actuator, or passive, without an actuator. Additionally, joints are commonly foound in serial robots are usually prismatic or revolute. Each type of such joint adds one degree of freedom (dof) to the system: the joint position $q_i$ for prismatic joints or the joint angle $q_i$ for revolute joints. The dof of an active joint can be controlled individually by a microcontroller, which relies on feedback from an encoder measuring the joint's position. The entire kinematic structure is typically referred to as a chain, which can be of two types:\n",
    "\n",
    "* Open chain: This configuration has only one path in the structure that connects the two extremes, commonly referred to as the base and the end-effector.\n",
    "* Closed chain: This configuration includes loops within the kinematic structure.\n",
    "\n",
    "\n",
    "In this thesis, only active revolute joints arranged in an open chain are considered.\n",
    "\n",
    "A common problem in robotics is determining the Cartesian position $\\mathbf{x} \\in \\mathbb{R}^3$ of a specific point on a link given the joint angles $\\mathbf{q} \\in \\mathbb{R}^n$. This problem is known as forward kinematics, which can be efficiently solved using homogeneous transformations. For instance, the position of the origin of the end-effector’s reference frame $\\text{RF}_e$ in the base frame $\\text{RF}_b$ can be determined using the following equation:\n",
    "\n",
    "$$\n",
    "{}^b\\mathbf{T}_e(\\mathbf{q}) = {}^b\\mathbf{T}_0 \\, {}^0\\mathbf{T}_1(q_1) \\cdots {}^{n-1}\\mathbf{T}_e(q_n) \\, {}^n\\mathbf{T}_e,\n",
    "$$\n",
    "\n",
    "where ${}^b\\mathbf{T}_0$ and ${}^n\\mathbf{T}_e$ are two constant homogeneous transformations needed to convert a point from frame 0 to the base frame and from the end-effector frame to frame $n$, respectively. For a more detailed description, refer to the relevant section in\n",
    " <cite id=\"wc30q\"><a href=\"#zotero%7C17740253%2FLY2FP5ZV\">(Ghosal, 2006)</a></cite>."
   ]
  },
  {
   "cell_type": "markdown",
   "id": "ab237694-2961-42b4-a10b-701a5911021b",
   "metadata": {
    "editable": true,
    "slideshow": {
     "slide_type": ""
    },
    "tags": []
   },
   "source": [
    "### 3.1.4 Geometric Jacobian"
   ]
  },
  {
   "cell_type": "markdown",
   "id": "1620f400-9053-4989-a53a-25eac182ef1d",
   "metadata": {
    "editable": true,
    "slideshow": {
     "slide_type": ""
    },
    "tags": []
   },
   "source": [
    "The differential kinematic gives the relationship between the joint velocities q̇ and\n",
    "the task space instantaneous velocities [ ṗ T , ω T ] T . where the vector ṗ = [ ẋ, ẏ, ż] T\n",
    "describes the Cartesian linear velocities, and ω = [ω x , ω y , ω z ] T are the angular\n",
    "velocities in the base frame. The matrix that maps these two quantities is called\n",
    "geometric Jacobian J (q) ∈ R 6×n\n",
    "$$\n",
    "\\begin{bmatrix}\n",
    "\\dot{\\mathbf{p}} \\\\\n",
    "\\boldsymbol{\\omega}\n",
    "\\end{bmatrix}\n",
    "= \\mathbf{J}(\\mathbf{q}) \\dot{\\mathbf{q}}.\n",
    "$$\n",
    "The reason why it is called geometric Jacobian is that the derivation is done in a\n",
    "geometric way and not directly via a time differentiation of the forward kinematics.\n",
    "This last Jacobian is called analytic Jacobian. Throughout this thesis, Jacobians are\n",
    "always meant to be the geometric Jacobians.\n",
    "It is helpful for the derivation to partition the Jacobian into 3 × 1 sub-vectors called\n",
    "j p,i and j o,i , where j p,i describes the contribution of joint i to the linear velocity\n",
    "and j o,i (q) describes the contribution of joint i to the angular velocity. With the\n",
    "partitioned Jacobian equation (2.6) is re-written as\n",
    "$$\n",
    "\\begin{pmatrix}\n",
    "\\dot{\\mathbf{p}} \\\\\n",
    "\\boldsymbol{\\omega}\n",
    "\\end{pmatrix}\n",
    "= \\begin{pmatrix}\n",
    "j_{p,1} & \\cdots & j_{p,n} \\\\\n",
    "j_{o,1} & \\cdots & j_{o,n}\n",
    "\\end{pmatrix}\n",
    "\\dot{\\mathbf{q}}.\n",
    "$$\n",
    "In the following, only revolute joints are considered for the Jacobian computation.\n",
    "An exaustive explanation can be found in [18]. It is convenient to proceed separately\n",
    "for the computation of the linear and angular velocity.\n",
    "#### Linear Velocity\n",
    "The linear velocity of the desired frame RF e due to the angular velocity of a\n",
    "revolute joint i can be calculated as follows\n",
    "$$\n",
    "J_{p,i} \\dot{q}_i = \\boldsymbol{\\omega}_{i-1,i} \\times \\mathbf{r}_{i-1,e} \\\\\n",
    "= \\dot{q}_i \\mathbf{z}_{i-1} \\times (\\mathbf{p}_{0,e} - \\mathbf{p}_{0,i-1}).\n",
    "$$\n",
    "The vector z i−1 describes the rotation axis of joint i, the vectors p 0,e and p 0,i−1 are\n",
    "the position of frame RF e and i − 1 relative to the base frame and represented in frame i. The joint velocity of revolute joint i is denoted by q̇ i and\n",
    "$$\n",
    "\\mathbf{J}_{p,i} = \\mathbf{z}_{i-1} \\times (\\mathbf{p}_{0,s} - \\mathbf{p}_{0,i-1}),\n",
    "$$\n",
    "holds.\n",
    "#### Angular Velocity\n",
    "The expression to calculate the relative angular velocity between two consecutive elements in the robot chain is given by\n",
    "\\begin{equation}\n",
    "\\boldsymbol{\\omega}_{i-1,i} = \\dot{q}_i \\mathbf{z}_{i-1}\n",
    "\\end{equation}\n",
    "where $\\boldsymbol{\\omega}_{i-1,i}$ describes the relative angular velocity from frame $i-1$ to frame $i$. For a revolute joint, the Jacobian that relates the angular velocity in the joint space to the angular velocity in the Cartesian space is given by\n",
    "\\begin{equation}\n",
    "\\mathbf{J}_{o,i} \\dot{q}_i = \\dot{q}_i \\mathbf{z}_{i-1}\n",
    "\\end{equation}\n",
    "and then\n",
    "\\begin{equation}\n",
    "\\mathbf{J}_{o,i} = \\mathbf{z}_{i-1}\n",
    "\\end{equation}\n",
    "where $\\mathbf{z}_{i-1}$ is the third column of ${}^0\\mathbf{R}_{i-1}$, hence the rotation axis of joint $i$, that is computed by\n",
    "\\begin{equation}\n",
    "\\mathbf{z}_{i-1} = {}^0\\mathbf{R}_1(q_1) \\cdots {}^{i-2}\\mathbf{R}_{i-1}(q_{i-1}) \\mathbf{z}_0.\n",
    "\\end{equation}\n",
    "Here, $\\mathbf{z}_0 = [0, 0, 1]^\\mathrm{T}$ allows the selection of the third column.\n",
    "\n"
   ]
  },
  {
   "cell_type": "code",
   "execution_count": 19,
   "id": "cc781da9-22d3-4a84-b0d9-524b3571e61b",
   "metadata": {
    "editable": true,
    "slideshow": {
     "slide_type": ""
    },
    "tags": []
   },
   "outputs": [],
   "source": [
    "def compute_geometric_jacobian(joint_angles,dh_params = 0):\n",
    "    \"\"\"\n",
    "    Compute the geometric Jacobian for a robot given DH parameters and joint angles.\n",
    "\n",
    "    :param dh_params: List of DH parameters [(a, alpha, d, theta), ...]\n",
    "    :param joint_angles: List of joint angles [theta1, theta2, ..., thetaN]\n",
    "    :return: Geometric Jacobian matrix (6 x N)\n",
    "    \"\"\"\n",
    "    num_joints = len(joint_angles)\n",
    "    T = np.eye(4)\n",
    "    transformations = [T.copy()]\n",
    "    \n",
    "    # Compute forward kinematics to get transformations\n",
    "    for i, (a, alpha, d, theta) in enumerate(dh_params):\n",
    "        theta += joint_angles[i]  # Update theta with joint angle\n",
    "        T_i = dh_transform(a, alpha, d, theta)\n",
    "        T = np.dot(T, T_i)\n",
    "        transformations.append(T.copy())\n",
    "    \n",
    "    # Initialize Jacobian matrix\n",
    "    jacobian = np.zeros((6, num_joints))\n",
    "    \n",
    "    # End-effector position\n",
    "    T_0_n = transformations[-1]\n",
    "    o_n = T_0_n[:3, 3]\n",
    "\n",
    "    # Compute each column of the Jacobian\n",
    "    for i in range(num_joints):\n",
    "        T_0_i = transformations[i]\n",
    "        o_i = T_0_i[:3, 3]\n",
    "        z_i = T_0_i[:3, 2]\n",
    "\n",
    "        jacobian[:3, i] = np.cross(z_i, (o_n - o_i))  # Linear part\n",
    "        jacobian[3:, i] = z_i  # Angular part\n",
    "\n",
    "    return jacobian"
   ]
  },
  {
   "cell_type": "markdown",
   "id": "501b8199-c1bd-4878-95bf-b7c8941c1bc3",
   "metadata": {
    "editable": true,
    "slideshow": {
     "slide_type": ""
    },
    "tags": []
   },
   "source": [
    "## 3.2 LARA 8 Kinematic Description"
   ]
  },
  {
   "cell_type": "markdown",
   "id": "9a278b63-176e-4a46-8c75-f61cf91fd256",
   "metadata": {
    "editable": true,
    "slideshow": {
     "slide_type": ""
    },
    "tags": []
   },
   "source": [
    "\n",
    "![convert to latex](Resources/Lara8.png \"Lara8\")\n",
    "\n",
    "\n",
    "The robot used for the experiments in this work is LARA 8, a collaborative robotic\n",
    "arm from the company NEURA Robotics GmbH. It is a 6-axis serial kinematics\n",
    "that has six independently actuated revolute joints and seven links. Figure[] shows the DH\n",
    "frames, the DH parameters and the actuated joints of LARA 8. The DH-parameters\n",
    "are given in Table [cite]\n",
    "\n",
    "| frame | theta (rad) | d (m) | a (m) | alpha (rad) |\n",
    "|---|---|---|---|---|\n",
    "| K1 | 0 | 0.26 | 0 | $\\frac{\\pi}{2}$ |\n",
    "| K2 | $\\frac{\\pi}{2}$ | 0 | 0.6 | $\\pi$ |\n",
    "| K3 | $\\frac{\\pi}{2}$ | 0 | 0 | $\\frac{\\pi}{2}$ |\n",
    "| K4 | 0 | 0.7 | 0 | $-\\frac{\\pi}{2}$ |\n",
    "| K5 | 0 | 0 | 0 | $\\frac{\\pi}{2}$ |\n",
    "| K6 | 0 | 0.1735 | 0 | 0 |\n"
   ]
  },
  {
   "cell_type": "markdown",
   "id": "43ed72f4-f946-48d5-b200-61bab29f104a",
   "metadata": {
    "editable": true,
    "slideshow": {
     "slide_type": ""
    },
    "tags": []
   },
   "source": [
    "## 3.3 Dynamics"
   ]
  },
  {
   "cell_type": "markdown",
   "id": "67b8874b-b476-4fe3-8c47-1465042b4511",
   "metadata": {
    "editable": true,
    "slideshow": {
     "slide_type": ""
    },
    "tags": []
   },
   "source": [
    "This section lays out the theoretical groundwork for understanding the dynamics of serial manipulators. The derivation of  differential equations of motion for a generic open-chain robotic manipulator with $n$ degrees of freedom (dof) is done following the Euler-Lagrange Formulation. These differential equations form the dynamic model of the robot, describing the relationship between joint positions ($q$), velocities ($\\dot{q}$), and accelerations ($\\ddot{q}$) with the torques ($\\tau$) applied to these joints by actuators.\n",
    "\n",
    "Following this, the topic of friction, its modeling and algorithmic implementation is introduced. The final part of the section addresses the calculation and algorithmic implementation necessary for converting torques at the Tool Center Point (TCP) to joint torques and vice versa."
   ]
  },
  {
   "cell_type": "markdown",
   "id": "6fb0dea5-1f02-4c24-9e4a-41b7e05ab043",
   "metadata": {
    "editable": true,
    "slideshow": {
     "slide_type": ""
    },
    "tags": []
   },
   "source": [
    "### 3.2.1 Euler-Lagrange Formulation"
   ]
  },
  {
   "cell_type": "markdown",
   "id": "6b22e14c-6e4a-4dd5-933a-45ae9f5dee33",
   "metadata": {
    "editable": true,
    "slideshow": {
     "slide_type": ""
    },
    "tags": []
   },
   "source": [
    "\n",
    "This is an energy-based approach to derive the dynamic equations in symbolic form of a rigid multibody system. This approach provides a systematic way, independently from the coordinate reference frame, to derive the equation of motion. In order to compute the Lagrangian of the robot manipulator, denoted by $L$, the potential energy $U_i$ and the kinetic energy $T_i$ must be computed for each link $i$ with $i = 1, ..., n$. The kinetic energy of a generic link i consists of three contributions:\n",
    "a translational contribution due to the fact that the center of mass of the link has a non-zero absolute velocity $v_{c,i}$ , a rotational contribution due to the fact that the link is rotating with an absolute angular velocity $\\omega_i$ and a mutual contribution which can be shown that when modeling within the center of gravity (cog) is zero, thus\n",
    "$$\n",
    "T_i =\\frac{1}{2} m_i v^T_{c,i} v_{c,i} + \\frac{1}{2}\\omega^T_i I_{c,i}\\omega_i \n",
    "$$\n",
    "\n",
    "Where $m_i$ is the mass of link $i$ and $I_{c,i}$ represents the inertia tensor relative to the cog of link $i$. One can notice that to obtain the robot’s kinetic energy, it is necessary to compute the differential kinematics for each cog. Consequently, it involves the computation of n “partial” geometric Jacobians. For example, at link $i$,this geometric Jacobian is composed of the first $i$ columns, in general different from zero, and the last $n − i$ columns are zero i.e.,\n",
    "$$\n",
    "\\begin{pmatrix}\n",
    "    \\mathbf{v}_{c,i} \\\\\n",
    "    \\boldsymbol{\\omega}_i\n",
    "\\end{pmatrix} =\n",
    "\\begin{pmatrix}\n",
    "    \\mathbf{J}_{p,i}^{(1)} & \\cdots & \\mathbf{J}_{p,i}^{(i)} & 0 & \\cdots & 0 \\\\\n",
    "    \\mathbf{J}_{o,i}^{(1)} & \\cdots & \\mathbf{J}_{o,i}^{(i)} & 0 & \\cdots & 0\n",
    "\\end{pmatrix}\n",
    "\\dot{\\mathbf{q}}\n",
    "$$\n",
    "Here, $j^{(1)}_{p,i}$ denotes the ith column of the first three lines of the geometric Jacobian, which relates the velocity in the joint space with the linear velocity in the task space.\n",
    "\n",
    "Analogously,$j^{(1)}_{o,i}$denotes the ith column of the last three lines of the geometric Jacobian, which relates the velocity in the joint space with the angular velocity in the task space. The total kinetic energy T can be obtained by summing all the kinetic energy of each link which is given by\n",
    "$$\n",
    "T = \\sum_{i=1}^{n} T_i\n",
    "$$\n",
    "The potential energy of a generic infinitely rigid stiff link $i$ depends only on the configuration of the robot and is given by\n",
    "$$\n",
    "U_i = -m_i \\bar{\\mathbf{g}}^\\mathrm{T} \\mathbf{r}_{0,ci}\n",
    "$$\n",
    "where ḡ is the gravity acceleration vector in the base frame and r 0,ci is the positionof the cog of link i expressed in reference frame RF 0 . The potential energy of the robot is given by\n",
    "$$\n",
    "U = \\sum_{i=1}^{n} U_i\n",
    "$$\n",
    "The Lagrangian can be written as the difference between the kinetic energy and the potential energy as follows\n",
    "$$\n",
    "L = T - U\n",
    "$$\n",
    "The Lagrangian equation is expressed by\n",
    "$$\n",
    "\\frac{d}{dt} \\left( \\frac{\\partial \\mathcal{L}}{\\partial \\dot{\\mathbf{q}}} \\right)^\\mathrm{T} - \\left( \\frac{\\partial \\mathcal{L}}{\\partial \\mathbf{q}} \\right)^\\mathrm{T} = \\mathbf{u},\n",
    "$$\n",
    "where $u$ are the generalized forces given by the nonconservative forces, which typically are: friction torques, torques provided by the actuators and torques induced by contact between the robot and the environment. Rearranging the equation yields the dynamical model in a compact form\n",
    "$$\n",
    "M(\\mathbf{q}) \\ddot{\\mathbf{q}} + \\mathbf{c}(\\mathbf{q}, \\dot{\\mathbf{q}}) + \\mathbf{g}(\\mathbf{q}) = \\mathbf{u}.\n",
    "$$\n",
    "Here, $M (q) ∈ R^{n×n}$ is a symmetric and positive definite matrix representing the robot’s inertia, $c(q, q̇) ∈ R^n$ is the vector containing the Coriolis, centrifugal and gyroscopic terms and $g(q) ∈ R^n$ is the gravity vector. The detailed derivation and more discussions can be found in [B. Siciliano, L.Sciavicco, L. Villani, and G. Oriolo. Robotics: Modelling, planning\n",
    "and control. Springer, 2009.]\n",
    "\n",
    "#### torque feed forward"
   ]
  },
  {
   "cell_type": "markdown",
   "id": "1785b0bd-18a4-4cf0-913d-4cadfc9eb190",
   "metadata": {
    "editable": true,
    "slideshow": {
     "slide_type": ""
    },
    "tags": []
   },
   "source": [
    "### 3.2.2 Friction Model"
   ]
  },
  {
   "cell_type": "markdown",
   "id": "a1803f26-fe71-4d98-b7c1-7fc7060b58b8",
   "metadata": {
    "editable": true,
    "slideshow": {
     "slide_type": ""
    },
    "tags": []
   },
   "source": [
    "Friction is a natural nonlinear phenomenon that is hard to model. Many simplifications can be done in order to have a satisfactory description of the friction phenomena. Various friction models have been proposed in the literature. A comprehensive overview, which discusses relevant analysis techniques and friction compensation methods, can be found in [21]. The static model provides a map between the joint velocity and friction force. The main friction phenomena that these models are able to capture are:\n",
    "* Coulomb friction F c being a force generated when two moving parts have a\n",
    "relative velocity v, characterized by\n",
    "$$ \n",
    "F_c(F_n, v) = \\mu F_n \\operatorname{sgn}(v).\n",
    "$$\n",
    "Here, $F_n$ is the force proportional to the normal load, μ is the frictional factor, and sgn( )  ̇ is the sign function. Since the sign function is present, this model cannot handle the case where the relative velocity is zero. The friction force at zero may be any values in the range [−F c , F c ] but sgn(0) = 0.\n",
    "* Viscous friction F v , in a robotic manipulator, is mainly caused by the viscosity\n",
    "of the lubricant and is proportional to the sliding velocity [22], given by\n",
    "$$ \n",
    "F_v(v) = \\beta v,\n",
    "$$\n",
    "where β is the viscous friction coefficient.\n",
    "* Static friction, also called stiction F s is not taken into account by the two previous models, therefore should be modeled separately. Since this effect is\n",
    "present, higher friction forces are generated when the robot is at rest, and motion can start only when the applied forces exceed F s . Static friction is\n",
    "characterized by\n",
    "$$ \n",
    "F_s(F_b, F_\\text{ext}) =\n",
    "\\begin{cases}\n",
    "F_\\text{ext} & \\text{if } v = 0 \\quad \\|F_\\text{ext}\\| < F_b \\\\\n",
    "F_b \\operatorname{sgn}(F_\\text{ext}) & \\text{if } v = 0 \\quad \\|F_\\text{ext}\\| \\geq F_b \\\\\n",
    "\\end{cases},\n",
    "$$\n",
    "In this thesis, the friction model proposed in [] is used which is a continuously differentiable model and captures all the 3 friction components mentioned above. "
   ]
  },
  {
   "cell_type": "markdown",
   "id": "97be472f-a683-4235-84b5-483fd7a447da",
   "metadata": {
    "editable": true,
    "slideshow": {
     "slide_type": ""
    },
    "tags": []
   },
   "source": [
    "### 3.2.3 Conversion of TCP forces to Joint torques"
   ]
  },
  {
   "cell_type": "markdown",
   "id": "93eeb0da-2c47-41f0-bff2-d3be3219dff6",
   "metadata": {
    "editable": true,
    "slideshow": {
     "slide_type": ""
    },
    "tags": []
   },
   "source": [
    "\n",
    "The conversion of external forces and torques applied to the end-effector of a 6-DOF robot to joint torques is achieved through the Jacobian matrix $\\mathbf{J}(\\mathbf{q})$, which relates joint velocities to the end-effector linear and angular velocities.\n",
    "\n",
    "#### External Force and Torque Representation\n",
    "\n",
    "External forces $\\mathbf{F}_{\\text{ext}}$ and torques $\\mathbf{\\tau}_{\\text{ext}}$ are combined into a wrench vector $\\mathbf{W}_{\\text{ext}}$:\n",
    "\n",
    "$$\n",
    "\\mathbf{W}_{\\text{ext}} = \\begin{bmatrix} \\mathbf{F}_{\\text{ext}} \\\\ \\mathbf{\\tau}_{\\text{ext}} \\end{bmatrix}\n",
    "$$\n",
    "\n",
    "#### Jacobian Matrix\n",
    "\n",
    "The Jacobian matrix $\\mathbf{J}(\\mathbf{q})$ maps joint velocities to the end-effector velocities:\n",
    "\n",
    "$$\n",
    "\\mathbf{J}(\\mathbf{q}) = \\begin{bmatrix} \\mathbf{J}_v(\\mathbf{q}) \\\\ \\mathbf{J}_\\omega(\\mathbf{q}) \\end{bmatrix}\n",
    "$$\n",
    "\n",
    "#### Conversion to Joint Torques\n",
    "\n",
    "The joint torques $\\mathbf{\\tau}_{\\text{joint}}$ are computed by:\n",
    "\n",
    "$$\n",
    "\\mathbf{\\tau}_{\\text{joint}} = \\mathbf{J}^\\top(\\mathbf{q}) \\mathbf{W}_{\\text{ext}}\n",
    "$$\n",
    "\n",
    "This equation projects the external wrench into the joint space, providing the necessary torques at each joint to counteract the external forces and torques.\n",
    "\n",
    "In summary, the Jacobian matrix serves as the key transformation tool, allowing for the translation of external forces and torques applied at the robot's end-effector into corresponding joint torques, enabling effective control and response to external interactions.\n",
    "\n",
    "Note that the Jacobain and the wrench are defined in the same coordinates."
   ]
  },
  {
   "cell_type": "code",
   "execution_count": 2,
   "id": "133225f2-77c4-46e4-8567-ff1b09389cca",
   "metadata": {},
   "outputs": [],
   "source": [
    "#implementation here"
   ]
  },
  {
   "cell_type": "markdown",
   "id": "25298469-2619-45e8-b094-350878c4cac1",
   "metadata": {
    "editable": true,
    "slideshow": {
     "slide_type": ""
    },
    "tags": []
   },
   "source": [
    "## 3.4 Machine Learning\n",
    "NN, RNN; GRU, LSTM, Pytorch, training loop."
   ]
  },
  {
   "cell_type": "markdown",
   "id": "0166d23a-b3a1-4cb5-bdcd-cf96d27babee",
   "metadata": {},
   "source": [
    "## References"
   ]
  },
  {
   "cell_type": "markdown",
   "id": "88188407-e12d-4caf-8112-533cda560f14",
   "metadata": {},
   "source": [
    "<!-- BIBLIOGRAPHY START -->\n",
    "<div class=\"csl-bib-body\">\n",
    "  <div class=\"csl-entry\"><i id=\"zotero|17740253/3J5DS9LQ\"></i>Denavit, J., &#38; Hartenberg, R. S. (2021). A Kinematic Notation for Lower-Pair Mechanisms Based on Matrices. <i>Journal of Applied Mechanics</i>, <i>22</i>(2), 215–221. <a href=\"https://doi.org/10.1115/1.4011045\">https://doi.org/10.1115/1.4011045</a></div>\n",
    "  <div class=\"csl-entry\"><i id=\"zotero|17740253/LY2FP5ZV\"></i>Ghosal, A. (2006). <i>ROBOTICS: FUNDAMENTAL CONCEPTS AND ANALYSIS</i>. OUP India. <a href=\"https://books.google.de/books?id=GsRhAAAACAAJ\">https://books.google.de/books?id=GsRhAAAACAAJ</a></div>\n",
    "</div>\n",
    "<!-- BIBLIOGRAPHY END -->"
   ]
  },
  {
   "cell_type": "code",
   "execution_count": null,
   "id": "5c070a6b-610e-42f7-ab40-9506b2792d69",
   "metadata": {},
   "outputs": [],
   "source": []
  }
 ],
 "metadata": {
  "citation-manager": {
   "items": {
    "zotero": {
     "17740253/3J5DS9LQ": {
      "DOI": "10.1115/1.4011045",
      "URL": "https://doi.org/10.1115/1.4011045",
      "abstract": "A symbolic notation devised by Reuleaux to describe mechanisms did not recognize the necessary number of variables needed for complete description. A reconsideration of the problem leads to a symbolic notation which permits the complete description of the kinematic properties of all lower-pair mechanisms by means of equations. The symbolic notation also yields a method for studying lower-pair mechanisms by means of matrix algebra; two examples of application to space mechanisms are given.",
      "accessed": {
       "date-parts": [
        [
         2024,
         8,
         8
        ]
       ]
      },
      "author": [
       {
        "family": "Denavit",
        "given": "J."
       },
       {
        "family": "Hartenberg",
        "given": "R. S."
       }
      ],
      "container-title": "Journal of Applied Mechanics",
      "id": "17740253/3J5DS9LQ",
      "issue": "2",
      "issued": {
       "date-parts": [
        [
         2021,
         6,
         4
        ]
       ]
      },
      "journalAbbreviation": "Journal of Applied Mechanics",
      "page": "215-221",
      "system_id": "zotero|17740253/3J5DS9LQ",
      "title": "A Kinematic Notation for Lower-Pair Mechanisms Based on Matrices",
      "type": "article-journal",
      "volume": "22"
     },
     "17740253/LY2FP5ZV": {
      "ISBN": "978-0-19-567391-3",
      "URL": "https://books.google.de/books?id=GsRhAAAACAAJ",
      "author": [
       {
        "family": "Ghosal",
        "given": "A."
       }
      ],
      "id": "17740253/LY2FP5ZV",
      "issued": {
       "date-parts": [
        [
         2006
        ]
       ]
      },
      "note": "LCCN: 2006279366",
      "publisher": "OUP India",
      "system_id": "zotero|17740253/LY2FP5ZV",
      "title": "ROBOTICS: FUNDAMENTAL CONCEPTS AND ANALYSIS",
      "type": "book"
     }
    }
   }
  },
  "kernelspec": {
   "display_name": "Python 3 (ipykernel)",
   "language": "python",
   "name": "python3"
  },
  "language_info": {
   "codemirror_mode": {
    "name": "ipython",
    "version": 3
   },
   "file_extension": ".py",
   "mimetype": "text/x-python",
   "name": "python",
   "nbconvert_exporter": "python",
   "pygments_lexer": "ipython3",
   "version": "3.8.19"
  }
 },
 "nbformat": 4,
 "nbformat_minor": 5
}
