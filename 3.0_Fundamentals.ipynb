{
 "cells": [
  {
   "cell_type": "markdown",
   "id": "361ad5f9-7c56-4344-87c1-8c021a66b835",
   "metadata": {
    "editable": true,
    "slideshow": {
     "slide_type": ""
    },
    "tags": []
   },
   "source": [
    "# Fundamentals"
   ]
  },
  {
   "cell_type": "markdown",
   "id": "a29a8ccd-d266-493f-8726-24ed08f0d1ef",
   "metadata": {},
   "source": [
    "## Joint Assembly"
   ]
  },
  {
   "cell_type": "markdown",
   "id": "bd3c56af-f0d0-401f-add0-97887657a87a",
   "metadata": {},
   "source": [
    "<figure style=\"text-align: center;\">\n",
    "    <img src=\"./Resources/Axis3.png\" style=\"width:50%; margin: auto;\">\n",
    "    <figcaption align=\"center\"> <b>Figure 3.1.: </b>Axis assembly of Joint-3 in LARA8. Adapted from [] </figcaption>\n",
    "</figure>"
   ]
  },
  {
   "cell_type": "markdown",
   "id": "6017e75b-10f3-4ae5-9feb-d4e95e43bc64",
   "metadata": {},
   "source": [
    "The general schema of the robot's axis is presented in Figure 3.1; a DC motor drives the axis and is the source of torque. The Harmonic Drive is the gearbox that significantly steps down the rotational speed while stepping up the torque. There are optical encoders on both sides of the Harmonic Drive; these encoders will henceforth be referred to as *\"motor-side\"* and *\"load-side\"* encoders. The link is connected to the gearbox's output shaft via a rigid coupling. Currently, In the robot software, the motor side encoder is used only to measure the joint velocity and the load side encoder is used to measure the joint angle. However, this thesis aims to find another application for these encoders."
   ]
  },
  {
   "cell_type": "markdown",
   "id": "6dc483ef-8aa2-46ae-9e8b-037f1256479d",
   "metadata": {},
   "source": [
    "### DC Motor\n",
    "\n",
    "The motor converts electric current  to mechanical torque which drives the robot's joint. According to **Taghirad et al.**, The relationship between the input current and the output torque of a motor can be expressed as\n",
    "\\begin{equation}\n",
    "K_m \\times I = J_m \\ddot\\theta + T_{f_m} + T_out,\n",
    "\\label{eq:3.1} \\tag{3.1}\n",
    "\\end{equation}\n",
    "where  $I$ is the motor current, and $K_m$  is the motor-torque-constant, $J$ is the motor inertia, $T_out$ is the output torque, $\\ddot\\theta$ is the acceleration of the motor shaft, and $T_{f_m}$ is the motor's frictional torque. "
   ]
  },
  {
   "cell_type": "markdown",
   "id": "8350e7ee-6505-4caa-9698-0859fa447598",
   "metadata": {},
   "source": [
    "### Encoders\n",
    "The motor-side and load-side encoders are both 24 bit optical encoders. These encoders provide both absolute and incremental measurements. The absolute track is used only during startup and afterwards the encoder uses the incremental measurements. These encoders are used in the feedback loop of the control system for measuring position and velocity of the joint. If the gearbox is rigid, the readings from both the encoders will be\n",
    "\\begin{equation}\n",
    "\\frac{\\theta_m}{N} = \\theta_l,\n",
    "\\label{eq:3.2} \\tag{3.2}\n",
    "\\end{equation} \n",
    "where $N$ is the gear ratio, $\\theta_m$ is the motor-side encoder reading and $\\theta_l$ is the load-side encoder reading. This implies that in scenarios where the gearbox is not prone to deformation, only one encoder is required."
   ]
  },
  {
   "cell_type": "markdown",
   "id": "e7c95883-aff3-4d82-866f-15f285e667e9",
   "metadata": {},
   "source": [
    "### Harmonic Drive Transmission"
   ]
  },
  {
   "cell_type": "markdown",
   "id": "10ac4eb5-6c05-470c-9318-ba784838f713",
   "metadata": {},
   "source": [
    "<figure style=\"text-align: center;\">\n",
    "<img src=\"./Resources/harmonic.jpg\" style=\"width:30%\">\n",
    "<figcaption align = \"center\"> <b>Figure 3.2.: </b>Elements of Harmonic Drive Transmission </figcaption>\n",
    "</figure>"
   ]
  },
  {
   "cell_type": "markdown",
   "id": "c22389e4-6a71-45b7-84a4-2ebf670f90ba",
   "metadata": {},
   "source": [
    "The Harmonic Drive Transmission (HDT) comprises three main parts: a wave generator, flexible spline or flex spline and circular spline. The wave generator is the input of the harmonic drive transmission and has an elliptical shape; when rotated, causes the flexible spline to follow its elliptical shape and to engage with the circular spline; although flexible, the flex spline is torsionally stiff enough to transmit large torques. According to **Taghirad et al.**, HDT's advantages include \"high torque capacity, concentric geometry, lightweight and compact design, zero backlash, high efficiency, and back driveability\"[]. But they suffer from \"high flexibility, resonance vibration, friction and structural damping nonlinearities\"[]. \n",
    "\n",
    "#### Stiffness\n",
    "\n",
    "When transmitting torque, the flexspline being flexible undergoes torsional deformation. A plot of the torsion angle against the torque is showin in Figure 3.3(a). An approximation of this torque-torsional relationship of the HDT is usually provided by the manaufacturer in the datasheet in the form of a piecewise linear function as shown in Figure 3.3(b).\n",
    "\n",
    "<figure style=\"text-align: center;\">\n",
    "    <div style=\"display: inline-block;\">\n",
    "        <img src=\"./Resources/torque-torsion-angle-diagram.png\" style=\"width:100%;\">\n",
    "        <figcaption>(a) Torsion vs Torque </figcaption>\n",
    "    </div>\n",
    "    <div style=\"display: inline-block; margin-left: 20px;\">\n",
    "        <img src=\"./Resources/spring-constant-diagram.png\" style=\"width:100%;\">\n",
    "        <figcaption>(b) Piecewise linear approximation of Torsion vs Torque</figcaption>\n",
    "    </div>\n",
    "    <figcaption style=\"margin-top: 10px;\"><b>Figure 3.3.: </b>Plots from datasheet of SHG-SHF_GearUnits []</figcaption>\n",
    "</figure>\n",
    "\n",
    "HDT's do not follow Equation 3.1 due to this behaviour and hence, the two seprate encoders are generally used in such systems involving HDT's. The relation between motor-side and load-side encoder readings in such systems is given by \n",
    "\\begin{equation}\n",
    "\\frac{\\theta_m}{N } = \\theta_l - \\theta_e,\n",
    "\\label{eq:3.3} \\tag{3.3}\n",
    "\\end{equation}\n",
    "where $ \\theta_e$ is the torsion angle. Below is an algorithmic implementation of this torsion-torque relationship."
   ]
  },
  {
   "cell_type": "code",
   "execution_count": 3,
   "id": "f4572fe3-d35f-4bc1-a64d-0e84d739f2d2",
   "metadata": {},
   "outputs": [],
   "source": [
    "def torsion_to_torque(encoder_error, T1, T2, T3, K1, K2, K3):\n",
    "    # encoder error in counts\n",
    "    # torque in Nm\n",
    "    count_to_radian = 2 * np.pi / (2**24)\n",
    "    torsion = torsion * count_to_radian\n",
    "    THETA1 = T1 / K1\n",
    "    THETA2 = THETA1 + (T2 - T1) / K2\n",
    "    return (torsion * K1 if torsion < THETA1 else\n",
    "            T1 + (torsion - THETA1) * K2 if torsion < THETA2 else\n",
    "            T2 + (torsion - THETA2) * K3)"
   ]
  },
  {
   "cell_type": "markdown",
   "id": "501b8199-c1bd-4878-95bf-b7c8941c1bc3",
   "metadata": {
    "editable": true,
    "slideshow": {
     "slide_type": ""
    },
    "tags": []
   },
   "source": [
    "##  LARA 8 Kinematic Description"
   ]
  },
  {
   "cell_type": "markdown",
   "id": "9a278b63-176e-4a46-8c75-f61cf91fd256",
   "metadata": {
    "editable": true,
    "slideshow": {
     "slide_type": ""
    },
    "tags": []
   },
   "source": [
    "\n",
    "![convert to latex](Resources/Lara8.png \"Lara8\")\n",
    "\n",
    "\n",
    "The robot used for the experiments in this thesis is LARA 8, a lightweight collaborative robotic\n",
    "arm from the company NEURA Robotics GmbH. It is a 6-axis serial meanipulator\n",
    "that has six independently actuated revolute joints and seven links. The maximum payload is 8kg. Figure[] shows the DH\n",
    "frames, the DH parameters and the actuated joints of LARA 8. The DH-parameters\n",
    "are given in Table [cite]\n",
    "\n",
    "| frame | theta (rad) | d (m) | a (m) | alpha (rad) |\n",
    "|---|---|---|---|---|\n",
    "| K1 | 0 | 0.26 | 0 | $\\frac{\\pi}{2}$ |\n",
    "| K2 | $\\frac{\\pi}{2}$ | 0 | 0.6 | $\\pi$ |\n",
    "| K3 | $\\frac{\\pi}{2}$ | 0 | 0 | $\\frac{\\pi}{2}$ |\n",
    "| K4 | 0 | 0.7 | 0 | $-\\frac{\\pi}{2}$ |\n",
    "| K5 | 0 | 0 | 0 | $\\frac{\\pi}{2}$ |\n",
    "| K6 | 0 | 0.1735 | 0 | 0 |\n"
   ]
  },
  {
   "cell_type": "markdown",
   "id": "9d7149cc-90e3-4a98-859c-2562dfec5290",
   "metadata": {},
   "source": [
    "## Kinematics\n",
    "\n",
    "The kinematics of a robot used in the thesis are introduced in this section along with some basic concepts and algorithmic implementations. The first subsection discusses the conversions between coordinate frames and the selected convention. Next, a brief explanation of the Geometric Jacobian computation procedure and forward kinematics is given."
   ]
  },
  {
   "cell_type": "markdown",
   "id": "3aaa5e34-403d-458f-a325-6b9f35720e9e",
   "metadata": {
    "editable": true,
    "slideshow": {
     "slide_type": ""
    },
    "tags": []
   },
   "source": [
    "### Denavit-Hartenberg Convention and Transformation Matrix"
   ]
  },
  {
   "cell_type": "markdown",
   "id": "a5c9a33e-7b00-452b-ae3e-665c76bc337b",
   "metadata": {
    "citation-manager": {
     "citations": {
      "10z4u": [
       {
        "id": "17740253/3J5DS9LQ",
        "source": "zotero"
       }
      ],
      "gx4bn": [
       {
        "id": "17740253/LY2FP5ZV",
        "source": "zotero"
       }
      ],
      "zhen5": [
       {
        "id": "17740253/LY2FP5ZV",
        "source": "zotero"
       }
      ]
     }
    },
    "editable": true,
    "slideshow": {
     "slide_type": ""
    },
    "tags": []
   },
   "source": [
    "Although reference frames attached to the links can be chosen arbitrarily, it is practical to select them systematically. A widely used convention for describing the \n",
    "kinematic geometry of robotic arms is the Denavit-Hartenberg (DH) convention <cite id=\"gx4bn\">(Ghosal, 2006)</cite><cite id=\"10z4u\">(Denavit & Hartenberg, 2021)</cite> and is followed in this thesis.\n",
    "\n",
    "The homogeneous transformation between frame $i$ and $i-1$ is obtained by multiplying the rotation $\\mathbf{T}_{R_z}$ around the $\\hat{\\mathbf{z}}_{i-1}$-axis, the translation $\\mathbf{T}_{T_z}$ along the $\\hat{\\mathbf{z}}_{i-1}$-axis, the translation $\\mathbf{T}_{T_x}$ along the $\\hat{\\mathbf{x}}_i$-axis, and the rotation $\\mathbf{T}_{R_x}$ around the $\\hat{\\mathbf{x}}_i$-axis, as follows:\n",
    "\n",
    "\\begin{equation}\n",
    "{}^{i-1}\\mathbf{T}_i(\\theta_i, d_i, a_i, \\alpha_i) = \\mathbf{T}_{R_z}(\\theta_i) \\mathbf{T}_{T_z}(d_i) \\mathbf{T}_{T_x}(a_i) \\mathbf{T}_{R_x}(\\alpha_i)\n",
    "\\end{equation}\n",
    "\n",
    "Combining these, the homogeneous transformation matrix is:\n",
    "\n",
    "\\begin{equation}\n",
    "{}^{i-1}\\mathbf{T}_i(\\theta_i, d_i, a_i, \\alpha_i) = \n",
    "\\begin{bmatrix}\n",
    "c_{\\theta_i} & -s_{\\theta_i} c_{\\alpha_i} & s_{\\theta_i} s_{\\alpha_i} & a_i c_{\\theta_i} \\\\\n",
    "s_{\\theta_i} & c_{\\theta_i} c_{\\alpha_i} & -c_{\\theta_i} s_{\\alpha_i} & a_i s_{\\theta_i} \\\\\n",
    "0 & s_{\\alpha_i} & c_{\\alpha_i} & d_i \\\\\n",
    "0 & 0 & 0 & 1\n",
    "\\end{bmatrix}\n",
    "\\end{equation}\n",
    "\n",
    "In this expression, $c_{\\theta_i}$ and $s_{\\theta_i}$ represent $\\cos(\\theta_i)$ and $\\sin(\\theta_i)$, respectively. Notably, the homogeneous transformation ${}^{i-1}\\mathbf{T}_i(\\theta_i, d_i, a_i, \\alpha_i)$ depends on a single variable once the reference frame is established and the other parameters are fixed. This variable is determined by the type of joint: $d_i$ for prismatic joints and $\\theta_i$ for revolute joints. A more elaborate theory can be found in <cite id=\"zhen5\">(Ghosal, 2006)</cite>."
   ]
  },
  {
   "cell_type": "code",
   "execution_count": 1,
   "id": "23246211-119a-4f0e-8dc1-bb15de955376",
   "metadata": {},
   "outputs": [],
   "source": [
    "def dh_transform(a, alpha, d, theta):\n",
    "    \"\"\"\n",
    "    Compute Denavit-Hartenberg transformation matrix.\n",
    "    \"\"\"\n",
    "    return np.array([\n",
    "        [np.cos(theta), -np.sin(theta) * np.cos(alpha),  np.sin(theta) * np.sin(alpha), a * np.cos(theta)],\n",
    "        [np.sin(theta),  np.cos(theta) * np.cos(alpha), -np.cos(theta) * np.sin(alpha), a * np.sin(theta)],\n",
    "        [0,             np.sin(alpha),                 np.cos(alpha),                 d],\n",
    "        [0,             0,                             0,                             1]\n",
    "    ])"
   ]
  },
  {
   "cell_type": "markdown",
   "id": "eb87c0f5-b285-47a3-8819-ae6da87b59c4",
   "metadata": {
    "editable": true,
    "slideshow": {
     "slide_type": ""
    },
    "tags": []
   },
   "source": [
    "### Forward Kinematics"
   ]
  },
  {
   "cell_type": "markdown",
   "id": "7adf4132-e001-4b1a-93c1-7be6c0000dc3",
   "metadata": {
    "editable": true,
    "slideshow": {
     "slide_type": ""
    },
    "tags": []
   },
   "source": [
    "In a robotic manipulator, the links are generally rigid bodies that form the robot’s structure, while the joints are the movable components that join two or multiple links. Joints can be  with an actuator (active joints), or without an actuator (passive joints).Joints commonly found in serial robots are usually prismatic or revolute. Each type of such joint adds one degree of freedom (dof) to the system: the joint position $d_i$ for prismatic joints or the joint angle $q_i$ for revolute joints. The entire kinematic structure is typically referred to as a chain, which can be of two types:\n",
    "\n",
    "* Open chain: In this configuration, the two extremes, also known as the base and the end-effector are connected by a single path in the structure.\n",
    "* Closed chain: The kinematic structure of this configuration has loops.\n",
    "\n",
    "The robot used in this thesis consists only of active revolute joint in an open chain configuration.\n",
    "\n",
    "A common problem in robotics is determining the Cartesian position and orientation $\\mathbf{x} \\in \\mathbb{R}^6$ of a specific point on a link given the joint angles $\\mathbf{q} \\in \\mathbb{R}^n$. This problem is known as forward kinematics, which can be efficiently solved using homogeneous transformations. The position of the origin of the end-effector’s reference frame $\\text{RF}_e$ in the base frame $\\text{RF}_b$ can be determined using the following equation:\n",
    "\n",
    "$$\n",
    "{}^b\\mathbf{T}_e(\\mathbf{q}) = {}^b\\mathbf{T}_0 \\, {}^0\\mathbf{T}_1(q_1) \\cdots {}^{n-1}\\mathbf{T}_e(q_n) \\, {}^n\\mathbf{T}_e,\n",
    "$$\n",
    "\n",
    "where the two constant homogeneous transformations required to convert a point from frame 0 to the base frame and from the end-effector frame to frame $n$, respectively, are denoted by ${}^b\\mathbf{T}_0$ and ${}^n\\mathbf{T}_e$.\n",
    "\n",
    " The following algorithmic implementation computes the transformation between all reference frames in the robot defined in the dh parameters."
   ]
  },
  {
   "cell_type": "code",
   "execution_count": 3,
   "id": "0f8afbf5-86a8-4665-9ce1-05d8d4de1817",
   "metadata": {},
   "outputs": [],
   "source": [
    "def compute_forward_kinematics(joint_angles, dh_params):\n",
    "    \"\"\"\n",
    "    Compute the forward kinematics for a robot given DH parameters and joint angles.\n",
    "\n",
    "    :param dh_params: List of DH parameters [(a, alpha, d, theta), ...]\n",
    "    :param joint_angles: List of joint angles [theta1, theta2, ..., thetaN]\n",
    "    :return: List of transformation matrices from base to each joint and the final transformation matrix T_0_n\n",
    "    \"\"\"\n",
    "    num_joints = len(joint_angles)\n",
    "    T = np.eye(4)\n",
    "    transformations = [T.copy()]\n",
    "    \n",
    "    # Compute forward kinematics to get transformations\n",
    "    for i, (a, alpha, d, theta) in enumerate(dh_params):\n",
    "        theta += joint_angles[i]  # Update theta with joint angle\n",
    "        T_i = dh_transform(a, alpha, d, theta)\n",
    "        T = np.dot(T, T_i)\n",
    "        transformations.append(T.copy())\n",
    "    \n",
    "    T_0_n = transformations[-1]  # Final transformation matrix to the TCP (end-effector)\n",
    "    return transformations, T_0_n"
   ]
  },
  {
   "cell_type": "markdown",
   "id": "58b3c1a0-03c9-4ac7-a692-887884435965",
   "metadata": {
    "editable": true,
    "slideshow": {
     "slide_type": ""
    },
    "tags": []
   },
   "source": [
    "###  Geometric Jacobian"
   ]
  },
  {
   "cell_type": "markdown",
   "id": "642ef827-c3dc-49f3-922f-41daf2c003c4",
   "metadata": {
    "editable": true,
    "slideshow": {
     "slide_type": ""
    },
    "tags": []
   },
   "source": [
    "The geometric Jacobian matrix, $J(q) ∈ R^(6×n)$, transforms the joint space velocities $q̇$, into Cartesian space velocities $ẋ$. This relationship is represented by the equation:\n",
    "\\begin{equation}\n",
    "\\dot{\\mathbf{x}} = \n",
    "\\begin{bmatrix}\n",
    "\\dot{\\mathbf{p}} \\\\\n",
    "\\boldsymbol{\\omega}\n",
    "\\end{bmatrix} \n",
    "= \\mathbf{J}(\\mathbf{q}) \\dot{\\mathbf{q}},\n",
    "\\end{equation}\n",
    "where $\\dot p = [ \\dot x, \\dot y, \\dot z ]^T $represents the linear velocities and $\\omega = [ \\omega_x, \\omega_y, \\omega_z ]^T$ represents the angular velocities of the robot's end-effector in the base frame. The geometric Jacobian is calculated based on the robot's geometry at a specific instance. An elaborate theortical background can be found in [], an algorithmic implementation is shown below. "
   ]
  },
  {
   "cell_type": "code",
   "execution_count": 4,
   "id": "44424543-fa5d-4d97-8adc-82d00e508fef",
   "metadata": {
    "editable": true,
    "slideshow": {
     "slide_type": ""
    },
    "tags": []
   },
   "outputs": [],
   "source": [
    "def compute_geometric_jacobian(transformations):\n",
    "    \"\"\"\n",
    "    Compute the geometric Jacobian for a robot given the transformation matrices.\n",
    "\n",
    "    :param transformations: List of transformation matrices from the base to each joint\n",
    "    :return: Geometric Jacobian matrix (6 x N) in the base frame\n",
    "    \"\"\"\n",
    "    num_joints = len(transformations) - 1  # Excluding the base frame\n",
    "    jacobian_base = np.zeros((6, num_joints))\n",
    "    \n",
    "    # End-effector position\n",
    "    T_0_n = transformations[-1]\n",
    "    o_n = T_0_n[:3, 3]\n",
    "\n",
    "    # Compute each column of the Jacobian in the base frame\n",
    "    for i in range(num_joints):\n",
    "        T_0_i = transformations[i]\n",
    "        o_i = T_0_i[:3, 3]\n",
    "        z_i = T_0_i[:3, 2]\n",
    "\n",
    "        jacobian_base[:3, i] = np.cross(z_i, (o_n - o_i))  # Linear part\n",
    "        jacobian_base[3:, i] = z_i  # Angular part\n",
    "\n",
    "    return jacobian_base"
   ]
  },
  {
   "cell_type": "code",
   "execution_count": 5,
   "id": "2caa3ef0-f050-4b3c-8fca-6a323112d1b0",
   "metadata": {},
   "outputs": [],
   "source": [
    "def convert_jacobian_to_tcp(jacobian_base, T_0_n):\n",
    "    \"\"\"\n",
    "    Convert a Jacobian from the base frame to the TCP frame.\n",
    "    \n",
    "    :param jacobian_base: Jacobian matrix in the base frame (6 x 6)\n",
    "    :param T_0_n: Transformation matrix from the base to the TCP (4 x 4)\n",
    "    :return: Jacobian matrix (6 x 6) in the TCP frame\n",
    "    \"\"\"\n",
    "    R_0_n = T_0_n[:3, :3]\n",
    "    T_base_to_tcp = np.block([\n",
    "        [R_0_n.T, np.zeros((3, 3))],\n",
    "        [np.zeros((3, 3)), R_0_n.T]\n",
    "    ])\n",
    "    \n",
    "    jacobian_tcp = np.dot(T_base_to_tcp, jacobian_base)\n",
    "    return jacobian_tcp"
   ]
  },
  {
   "cell_type": "markdown",
   "id": "43ed72f4-f946-48d5-b200-61bab29f104a",
   "metadata": {
    "editable": true,
    "slideshow": {
     "slide_type": ""
    },
    "tags": []
   },
   "source": [
    "##  Dynamics"
   ]
  },
  {
   "cell_type": "markdown",
   "id": "67b8874b-b476-4fe3-8c47-1465042b4511",
   "metadata": {
    "editable": true,
    "slideshow": {
     "slide_type": ""
    },
    "tags": []
   },
   "source": [
    "This section lays out the theoretical groundwork for understanding the dynamics of serial manipulators. First, equation of motion for a generic open-chain robotic manipulator is presented. These differential equations form the dynamic model of the robot, describing the relationship between joint positions ($q$), velocities ($\\dot{q}$), and accelerations ($\\ddot{q}$) with the torques ($\\tau$) applied to these joints by actuators.\n",
    "\n",
    "Following this, the topic of friction, its modeling and algorithmic implementation is introduced. The final part of the section addresses the calculation and algorithmic implementation necessary for converting torques at the Tool Center Point (TCP) to joint torques and vice versa."
   ]
  },
  {
   "cell_type": "markdown",
   "id": "6fb0dea5-1f02-4c24-9e4a-41b7e05ab043",
   "metadata": {
    "editable": true,
    "slideshow": {
     "slide_type": ""
    },
    "tags": []
   },
   "source": [
    "###  Equations of motion"
   ]
  },
  {
   "cell_type": "markdown",
   "id": "6b22e14c-6e4a-4dd5-933a-45ae9f5dee33",
   "metadata": {
    "editable": true,
    "jp-MarkdownHeadingCollapsed": true,
    "slideshow": {
     "slide_type": ""
    },
    "tags": []
   },
   "source": [
    "The general equation of motion for the robot under study, which is an open chain manipulator is given below. This equation presents the joint torque $\\tau$ required to move the robot's joints in accordance with a desired trajectory with joint positions $q$,joint velocities $\\dot{q}$, and joint accelerations $\\ddot{q}$. \n",
    "\\begin{equation}\n",
    " \\underbrace{M(\\mathbf{q}) \\ddot{\\mathbf{q}} + \\mathbf{C}(\\mathbf{q}, \\dot{\\mathbf{q}}) + \\mathbf{g}(\\mathbf{q}) + \\mathbf{\\tau_f}}_{\\text{Torque Feedforward}}+ \\mathbf{\\tau_{ext}}= \\mathbf{\\tau}.\n",
    "\\label{eq:3.8} \\tag{3.8}\n",
    "\\end{equation}\n",
    "Here, $M (q) ∈ R^{n×n}$ is a symmetric and positive definite matrix representing the robot’s inertia, $C(q, q̇) ∈ R^n$ is the vector containing the Coriolis, centrifugal and gyroscopic terms and $g(q) ∈ R^n$ is the gravity vector, $\\mathbf{\\tau_f}$ is the frictional torque and $\\mathbf{\\tau_{ext}}$ is the torque in the joint due to interaction of the robot with the environment. The term labeled as 'Torque Feedforward' in the equation can be computed for the desired trajectory, providing a preliminary estimate of the joint torques. This feedforward torque is used by the PID controllers in each joint to achieve the desired joint position, velocity, and acceleration. Although the controller will adjust the torque applied to the joint as needed, the feedforward torque serves as an initial estimate. The detailed derivation and more discussions can be found in [B. Siciliano, L.Sciavicco, L. Villani, and G. Oriolo. Robotics: Modelling, planning\n",
    "and control. Springer, 2009.]\n"
   ]
  },
  {
   "cell_type": "markdown",
   "id": "1785b0bd-18a4-4cf0-913d-4cadfc9eb190",
   "metadata": {
    "editable": true,
    "slideshow": {
     "slide_type": ""
    },
    "tags": []
   },
   "source": [
    "###  Friction Model"
   ]
  },
  {
   "cell_type": "markdown",
   "id": "a1803f26-fe71-4d98-b7c1-7fc7060b58b8",
   "metadata": {
    "editable": true,
    "slideshow": {
     "slide_type": ""
    },
    "tags": []
   },
   "source": [
    "Friction occurs in most mechanical systems where there is rleative motion between two mechanical components. Inorder to provide a good torque estimate following equation 3.8, it is essential to have a good model of the joitn's friction. However friction is very complex to model accurately and is affected by many factors such as joint velocity, temperature, load, etc. Inorder to model the frictional torque, many simplifications have to be done. According to [https://www.sciencedirect.com/science/book/9780128136836] friction dynamics can be simplified into the following four components.\n",
    "\n",
    "#### Static Friction\n",
    "\n",
    "Static friction is the component of friction which is present between two surfaces in contact, when there is no relative motion and an external force is applied. Static friction acts in the direction opposite to the applied force that is attempting to initiate motion. It's magnitude is equal to the external force ($f_e$) until the external force exceeds the maximum static frictional force ($f_s$), beyond which static friction is overcome, and motion begins.\n",
    "\\begin{equation}\n",
    "[\n",
    "T_f =\n",
    "\\begin{cases} \n",
    "f_e, & |f_e| < f_s \\\\\n",
    "f_s \\delta(\\dot{x}) \\text{sgn}(f_e), & |f_e| \\geq f_s \n",
    "\\end{cases}\n",
    "]\n",
    "\\label{eq:3.9} \\tag{3.9}\n",
    "\\end{equation}\n",
    "$\\text{where}$\n",
    "\\begin{equation}\n",
    "[\n",
    "\\delta(\\dot{x}) = \\begin{cases} \n",
    "1, & \\dot{x} = 0 \\\\\n",
    "0, & \\dot{x} \\neq 0 \n",
    "\\end{cases}\n",
    "\\quad , \\quad\n",
    "\\text{sgn}(f_e) = \\begin{cases} \n",
    "+1, & f_e > 0 \\\\\n",
    "-1, & f_e < 0 \n",
    "\\end{cases}\n",
    "]\n",
    "\\label{eq:3.10} \\tag{3.10}\n",
    "\\end{equation}\n",
    "\n",
    "#### Coulomb friction\n",
    "Coulomb friction opposes the motion and is proportional to the normal contact force ($f_n$). \n",
    "\n",
    "\\begin{equation}\n",
    "T_f =  \\mu f_n \\text{sgn}(\\dot{x}),\n",
    "\\label{eq:3.11} \\tag{3.11}\n",
    "\\end{equation}\n",
    "where $\\mu$ is a constant called friction coefficient.\n",
    "\n",
    "#### Viscous friction\n",
    "This is a velocity dependent component of friction and is proportional to velocity. It is given by the equation,\n",
    "\n",
    "\\begin{equation}\n",
    "T_f = f_v \\dot(x),\n",
    "\\label{eq:3.12} \\tag{3.12}\n",
    "\\end{equation}\n",
    "where $f_v$ is a constant called viscous coefficient.\n",
    "\n",
    "#### Friction model\n",
    "\n",
    "Multiple friction models have been studied [] which cover all these components, however the friction model used in this thesis is from [] and is given by \n",
    "\n",
    "\\begin{equation}\n",
    "f(v) = a_1 (\\tanh(b_1 v) - \\tanh(b_2 v)) + a_2 \\tanh(b_3 v) + a_3 v,\n",
    "\\label{eq:3.13} \\tag{3.13}\n",
    "\\end{equation}\n",
    "\n",
    "where $a_1,a_2,a_3,b_1,b_2,b_3$ are all positive paramters which are found emperically."
   ]
  },
  {
   "cell_type": "markdown",
   "id": "97be472f-a683-4235-84b5-483fd7a447da",
   "metadata": {
    "editable": true,
    "slideshow": {
     "slide_type": ""
    },
    "tags": []
   },
   "source": [
    "###  Conversion of TCP forces to Joint torques"
   ]
  },
  {
   "cell_type": "markdown",
   "id": "93eeb0da-2c47-41f0-bff2-d3be3219dff6",
   "metadata": {
    "editable": true,
    "slideshow": {
     "slide_type": ""
    },
    "tags": []
   },
   "source": [
    "\n",
    "The conversion of external forces and torques applied to the end-effector of a 6-DOF robot to joint torques is achieved through the Jacobian matrix $\\mathbf{J}(\\mathbf{q})$, which relates joint velocities to the end-effector linear and angular velocities.\n",
    "\n",
    "#### External Force and Torque Representation\n",
    "\n",
    "External forces $\\mathbf{F}_{\\text{ext}}$ and torques $\\mathbf{\\tau}_{\\text{ext}}$ are combined into a wrench vector $\\mathbf{W}_{\\text{ext}}$:\n",
    "\n",
    "$$\n",
    "\\mathbf{W}_{\\text{ext}} = \\begin{bmatrix} \\mathbf{F}_{\\text{ext}} \\\\ \\mathbf{\\tau}_{\\text{ext}} \\end{bmatrix}\n",
    "$$\n",
    "\n",
    "\n",
    "#### Conversion to Joint Torques\n",
    "\n",
    "The joint torques $\\mathbf{\\tau}_{\\text{joint}}$ are computed by:\n",
    "\n",
    "$$\n",
    "\\mathbf{\\tau}_{\\text{joint}} = \\mathbf{J}^\\top(\\mathbf{q}) \\mathbf{W}_{\\text{ext}}\n",
    "$$\n",
    "\n",
    "This equation projects the external wrench into the joint space, providing the necessary torques required at each joint to counteract the external forces and torques.\n",
    "\n",
    "\n",
    "Note that the Jacobain and the wrench are defined in the same coordinate frame. In this thesis $W_{ext}$ is always defined in TCP frame and hence the Jacobain is also calculated in TCP frame. An algorithmic implementation is given below."
   ]
  },
  {
   "cell_type": "code",
   "execution_count": 6,
   "id": "133225f2-77c4-46e4-8567-ff1b09389cca",
   "metadata": {},
   "outputs": [],
   "source": [
    "def convert_jacobian_to_tcp(jacobian_base, T_0_n):\n",
    "    \"\"\"\n",
    "    Convert a Jacobian from the base frame to the TCP frame.\n",
    "    \n",
    "    :param jacobian_base: Jacobian matrix in the base frame (6 x 6)\n",
    "    :param T_0_n: Transformation matrix from the base to the TCP (4 x 4)\n",
    "    :return: Jacobian matrix (6 x 6) in the TCP frame\n",
    "    \"\"\"\n",
    "    R_0_n = T_0_n[:3, :3]\n",
    "    T_base_to_tcp = np.block([\n",
    "        [R_0_n.T, np.zeros((3, 3))],\n",
    "        [np.zeros((3, 3)), R_0_n.T]\n",
    "    ])\n",
    "    \n",
    "    jacobian_tcp = np.dot(T_base_to_tcp, jacobian_base)\n",
    "    return jacobian_tcp"
   ]
  },
  {
   "cell_type": "markdown",
   "id": "0166d23a-b3a1-4cb5-bdcd-cf96d27babee",
   "metadata": {},
   "source": [
    "## References"
   ]
  },
  {
   "cell_type": "markdown",
   "id": "88188407-e12d-4caf-8112-533cda560f14",
   "metadata": {},
   "source": [
    "\\begin{thebibliography}{4}\n",
    "\\bibitem{zotero|17740253/3J5DS9LQ}\n",
    "Denavit, J., & Hartenberg, R. S. (2021). A Kinematic Notation for Lower-Pair Mechanisms Based on Matrices. {\\em Journal of Applied Mechanics}, {\\em 22}(2), 215–221. https://doi.org/10.1115/1.4011045\n",
    "\n",
    "\n",
    "\\bibitem{zotero|17740253/LY2FP5ZV}\n",
    "Ghosal, A. (2006). {\\em ROBOTICS: FUNDAMENTAL CONCEPTS AND ANALYSIS}. OUP India. https://books.google.de/books?id=GsRhAAAACAAJ\n",
    "\n",
    "\\end{thebibliography}"
   ]
  }
 ],
 "metadata": {
  "citation-manager": {
   "items": {
    "zotero": {
     "17740253/3J5DS9LQ": {
      "DOI": "10.1115/1.4011045",
      "URL": "https://doi.org/10.1115/1.4011045",
      "abstract": "A symbolic notation devised by Reuleaux to describe mechanisms did not recognize the necessary number of variables needed for complete description. A reconsideration of the problem leads to a symbolic notation which permits the complete description of the kinematic properties of all lower-pair mechanisms by means of equations. The symbolic notation also yields a method for studying lower-pair mechanisms by means of matrix algebra; two examples of application to space mechanisms are given.",
      "accessed": {
       "date-parts": [
        [
         2024,
         8,
         8
        ]
       ]
      },
      "author": [
       {
        "family": "Denavit",
        "given": "J."
       },
       {
        "family": "Hartenberg",
        "given": "R. S."
       }
      ],
      "container-title": "Journal of Applied Mechanics",
      "id": "17740253/3J5DS9LQ",
      "issue": "2",
      "issued": {
       "date-parts": [
        [
         2021,
         6,
         4
        ]
       ]
      },
      "journalAbbreviation": "Journal of Applied Mechanics",
      "page": "215-221",
      "system_id": "zotero|17740253/3J5DS9LQ",
      "title": "A Kinematic Notation for Lower-Pair Mechanisms Based on Matrices",
      "type": "article-journal",
      "volume": "22"
     },
     "17740253/LY2FP5ZV": {
      "ISBN": "978-0-19-567391-3",
      "URL": "https://books.google.de/books?id=GsRhAAAACAAJ",
      "author": [
       {
        "family": "Ghosal",
        "given": "A."
       }
      ],
      "id": "17740253/LY2FP5ZV",
      "issued": {
       "date-parts": [
        [
         2006
        ]
       ]
      },
      "note": "LCCN: 2006279366",
      "publisher": "OUP India",
      "system_id": "zotero|17740253/LY2FP5ZV",
      "title": "ROBOTICS: FUNDAMENTAL CONCEPTS AND ANALYSIS",
      "type": "book"
     }
    }
   }
  },
  "kernelspec": {
   "display_name": "Python 3 (ipykernel)",
   "language": "python",
   "name": "python3"
  },
  "language_info": {
   "codemirror_mode": {
    "name": "ipython",
    "version": 3
   },
   "file_extension": ".py",
   "mimetype": "text/x-python",
   "name": "python",
   "nbconvert_exporter": "python",
   "pygments_lexer": "ipython3",
   "version": "3.8.19"
  }
 },
 "nbformat": 4,
 "nbformat_minor": 5
}
