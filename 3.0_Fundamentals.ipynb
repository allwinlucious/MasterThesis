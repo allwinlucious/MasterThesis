{
 "cells": [
  {
   "cell_type": "markdown",
   "id": "361ad5f9-7c56-4344-87c1-8c021a66b835",
   "metadata": {
    "editable": true,
    "slideshow": {
     "slide_type": ""
    },
    "tags": []
   },
   "source": [
    "# 3. Fundamentals\n",
    "This chapter covers the fundamental concepts needed to understand this thesis. Starting\n",
    "from the joint assembly and its components, followed by Kinematic, Dynamic and Machine\n",
    "Learning Concepts. This chapter aims to provide a brief summary and highlight specific\n",
    "equations and key algorithmic implementations"
   ]
  },
  {
   "cell_type": "markdown",
   "id": "a29a8ccd-d266-493f-8726-24ed08f0d1ef",
   "metadata": {},
   "source": [
    "## 3.1. Joint Assembly"
   ]
  },
  {
   "cell_type": "markdown",
   "id": "bd3c56af-f0d0-401f-add0-97887657a87a",
   "metadata": {
    "citation-manager": {
     "citations": {
      "93kng": [
       {
        "id": "17740253/4JU53NME",
        "source": "zotero"
       }
      ]
     }
    }
   },
   "source": [
    "<figure style=\"text-align: center;\">\n",
    "    <img src=\"./Resources/Axis3.png\" id=\"Axis3\" style=\"width:70%; margin: auto;\">\n",
    "    <figcaption align=\"center\"> <b>Figure 3.1.: </b>Axis assembly of Joint-3 in LARA8, shown for reference purposes and not\n",
    "as an exact depiction of the assembly. Adapted from <cite id=\"93kng\"><a href=\"#zotero%7C17740253%2F4JU53NME\">[1]</a></cite></figcaption>\n",
    "</figure>"
   ]
  },
  {
   "cell_type": "markdown",
   "id": "6017e75b-10f3-4ae5-9feb-d4e95e43bc64",
   "metadata": {},
   "source": [
    "The general schema of the robot's axis is presented in <a href=\"#Axis3\">Figure 3.1</a>; a DC motor drives the\n",
    "axis and is the source of torque. The Harmonic Drive is the gearbox that steps down\n",
    "the rotational speed while stepping up the torque. There are optical encoders on both\n",
    "sides of the Harmonic Drive; these encoders will henceforth be referred to as “*motor-side*”\n",
    "and “*load-side*” encoders. The link is connected to the gearbox’s output shaft via a rigid\n",
    "coupling. Currently, In the robot software, the motor side encoder is used only to measure\n",
    "the joint velocity and the load side encoder is used to measure the joint angle. However,\n",
    "this thesis aims to find another application for these encoders"
   ]
  },
  {
   "cell_type": "markdown",
   "id": "6dc483ef-8aa2-46ae-9e8b-037f1256479d",
   "metadata": {
    "citation-manager": {
     "citations": {
      "swimi": [
       {
        "id": "17740253/7Y2D2ALW",
        "source": "zotero"
       }
      ]
     }
    }
   },
   "source": [
    "### 3.1.1. DC Motor\n",
    "\n",
    "The motor converts electric current  to mechanical torque which drives the robot's joint. According to Taghirad et al. <cite id=\"swimi\"><a href=\"#zotero%7C17740253%2F7Y2D2ALW\">[2]</a></cite>, The relationship between the input current and the output torque of a motor can be expressed as\n",
    "\\begin{equation}\n",
    "K_m \\times I = J_m \\ddot\\theta + \\tau_{f_m} + \\tau_{out},\\tag{3.1}\n",
    "\\end{equation}\n",
    "where  $I$ is the motor current, and $K_m$  is the motor-torque-constant, $J$ is the motor inertia, $\\tau_{out}$ is the output torque, $\\ddot\\theta$ is the acceleration of the motor shaft, and $\\tau_{f_m}$ is the motor's frictional torque. "
   ]
  },
  {
   "cell_type": "markdown",
   "id": "8350e7ee-6505-4caa-9698-0859fa447598",
   "metadata": {},
   "source": [
    "### 3.1.2. Encoders\n",
    "The motor-side and load-side encoders are both 24-bit optical encoders. These encoders provide both absolute and incremental measurements. The absolute track is used only during startup and afterwards, the encoder uses the incremental measurements. These encoders are used in the feedback loop of the control system for measuring the position and velocity of the joint. If the gearbox is rigid, the readings from both the encoders will be\n",
    "\\begin{equation}\n",
    "\\frac{\\theta_m}{N} = \\theta_l, \\tag{3.2}\n",
    "\\end{equation} \n",
    "where $N$ is the gear ratio, $\\theta_m$ is the motor-side encoder reading and $\\theta_l$ is the load-side encoder reading. This implies that in scenarios where the gearbox is not prone to deformation, only one encoder placed on either the input or the output side of the gearbox is required."
   ]
  },
  {
   "cell_type": "markdown",
   "id": "e7c95883-aff3-4d82-866f-15f285e667e9",
   "metadata": {},
   "source": [
    "### 3.1.3. Harmonic Drive Transmission"
   ]
  },
  {
   "cell_type": "markdown",
   "id": "10ac4eb5-6c05-470c-9318-ba784838f713",
   "metadata": {
    "citation-manager": {
     "citations": {
      "n2ibt": [
       {
        "id": "17740253/NU8U5VH9",
        "source": "zotero"
       }
      ]
     }
    }
   },
   "source": [
    "<figure style=\"text-align: center;\">\n",
    "<img src=\"./Resources/harmonic.jpg\" style=\"width:50%\">\n",
    "<figcaption align = \"center\"> <b>Figure 3.2.: </b>Elements of Harmonic Drive Transmission. Source: <cite id=\"n2ibt\"><a href=\"#zotero%7C17740253%2FNU8U5VH9\">[3]</a></cite>. </figcaption>\n",
    "</figure>"
   ]
  },
  {
   "cell_type": "markdown",
   "id": "c22389e4-6a71-45b7-84a4-2ebf670f90ba",
   "metadata": {
    "citation-manager": {
     "citations": {
      "106a8": [
       {
        "id": "17740253/7Y2D2ALW",
        "source": "zotero"
       }
      ]
     }
    }
   },
   "source": [
    "\n",
    "The Harmonic Drive Transmission (HDT) comprises three main parts: a wave generator,\n",
    "flexible spline or flexspline and circular spline. The wave generator is the input of the\n",
    "harmonic drive transmission and has an elliptical shape; when rotated, causes the flexible spline to follow its elliptical shape and to engage with the circular spline. Although\n",
    "flexible, the flex spline is torsionally stiff enough to transmit large torques. According\n",
    "to Taghirad et al. <cite id=\"106a8\"><a href=\"#zotero%7C17740253%2F7Y2D2ALW\">[2]</a></cite>, HDT’s advantages include \"high torque capacity, concentric\n",
    "geometry, lightweight and compact design, zero backlash, high efficiency, and back driveability\". But they suffer from \"high flexibility, resonance vibration, friction and structural\n",
    "damping nonlinearities\". \n",
    "\n",
    "#### **Stiffness of Harmonic Drive Transmission**\n",
    "\n",
    "When transmitting torque, the flexspline being flexible undergoes torsional deformation. A plot of the torsion angle against the torque is show in <a href=\"#fig3.3a\">Figure 3.3 (a)</a>. An approximation of this torque-torsional relationship of the HDT is usually provided by the manufacturer in the datasheet in the form of a piecewise linear function as shown in <a href=\"#fig3.3b\">Figure 3.3 (b)</a>.\n",
    "\n",
    "<figure style=\"text-align: center;\">\n",
    "    <div style=\"display: inline-block;\">\n",
    "        <img src=\"./Resources/torque-torsion-angle-diagram.png\" id=fig3.3a style=\"width:100%;\">\n",
    "        <figcaption>(a) Torsion vs Torque </figcaption>\n",
    "    </div>\n",
    "    <div style=\"display: inline-block; margin-left: 20px;\">\n",
    "        <img src=\"./Resources/spring-constant-diagram.png\" id=fig3.3b style=\"width:100%;\">\n",
    "        <figcaption>(b) Piecewise linear approximation of Torsion vs Torque</figcaption>\n",
    "    </div>\n",
    "    <figcaption style=\"margin-top: 10px;\"><b>Figure 3.3.: </b>Plots from datasheet of SHG-SHF_Gear Units</figcaption>\n",
    "</figure>\n",
    "\n",
    "HDTs do not follow Equation 3.2 due to this behaviour and hence, the two separate encoders are generally used in such systems involving HDTs. The relation between motor-side and load-side encoder readings in such systems is given by \n",
    "\n",
    "\\begin{equation}\n",
    "\\frac{\\theta_m}{N } = \\theta_l - \\theta_e, \\tag{3.3}\n",
    "\\end{equation}\n",
    "where $ \\theta_e$ is the torsion angle. Below is an algorithmic implementation of this torsion-torque relationship."
   ]
  },
  {
   "cell_type": "code",
   "execution_count": 3,
   "id": "f4572fe3-d35f-4bc1-a64d-0e84d739f2d2",
   "metadata": {},
   "outputs": [],
   "source": [
    "def torsion_to_torque(encoder_error, T1, T2, T3, K1, K2, K3):\n",
    "    # encoder error in counts\n",
    "    # torque in Nm\n",
    "    count_to_radian = 2 * np.pi / (2**24)\n",
    "    torsion = torsion * count_to_radian\n",
    "    THETA1 = T1 / K1\n",
    "    THETA2 = THETA1 + (T2 - T1) / K2\n",
    "    return (torsion * K1 if torsion < THETA1 else\n",
    "            T1 + (torsion - THETA1) * K2 if torsion < THETA2 else\n",
    "            T2 + (torsion - THETA2) * K3)"
   ]
  },
  {
   "cell_type": "markdown",
   "id": "9d7149cc-90e3-4a98-859c-2562dfec5290",
   "metadata": {},
   "source": [
    "## 3.2. Kinematics\n",
    "\n",
    "The kinematics of a robot used in the thesis are introduced in this section along with\n",
    "some basic concepts and algorithmic implementations. The first subsection discusses\n",
    "the conversions between coordinate frames and the selected convention. Next, a brief\n",
    "explanation of the Geometric Jacobian computation procedure and forward kinematics is\n",
    "given"
   ]
  },
  {
   "cell_type": "markdown",
   "id": "3aaa5e34-403d-458f-a325-6b9f35720e9e",
   "metadata": {
    "editable": true,
    "slideshow": {
     "slide_type": ""
    },
    "tags": []
   },
   "source": [
    "### 3.2.1. Denavit-Hartenberg Convention and Transformation Matrix"
   ]
  },
  {
   "cell_type": "markdown",
   "id": "a5c9a33e-7b00-452b-ae3e-665c76bc337b",
   "metadata": {
    "citation-manager": {
     "citations": {
      "e49tg": [
       {
        "id": "17740253/3J5DS9LQ",
        "source": "zotero"
       }
      ],
      "zhen5": [
       {
        "id": "17740253/LY2FP5ZV",
        "source": "zotero"
       }
      ]
     }
    },
    "editable": true,
    "slideshow": {
     "slide_type": ""
    },
    "tags": []
   },
   "source": [
    "Although reference frames attached to the links can be chosen arbitrarily, it is practical to select them systematically. A widely used convention for describing the \n",
    "kinematic geometry of robotic arms is the Denavit-Hartenberg (DH) convention <cite id=\"e49tg\"><a href=\"#zotero%7C17740253%2F3J5DS9LQ\">[4]</a></cite> and is followed in this thesis.\n",
    "\n",
    "The homogeneous transformation between frame $i$ and $i-1$ is obtained by multiplying the rotation $\\mathbf{T}_{R_z}$ around the $\\hat{\\mathbf{z}}_{i-1}$-axis, the translation $\\mathbf{T}_{T_z}$ along the $\\hat{\\mathbf{z}}_{i-1}$-axis, the translation $\\mathbf{T}_{T_x}$ along the $\\hat{\\mathbf{x}}_i$-axis, and the rotation $\\mathbf{T}_{R_x}$ around the $\\hat{\\mathbf{x}}_i$-axis, as follows:\n",
    "\n",
    "\\begin{equation}\n",
    "{}^{i-1}\\mathbf{T}_i(\\theta_i, d_i, a_i, \\alpha_i) = \\mathbf{T}_{R_z}(\\theta_i) \\mathbf{T}_{T_z}(d_i) \\mathbf{T}_{T_x}(a_i) \\mathbf{T}_{R_x}(\\alpha_i)\\tag{3.4}\n",
    "\\end{equation}\n",
    "\n",
    "Combining these, the homogeneous transformation matrix is:\n",
    "\n",
    "\\begin{equation}\n",
    "{}^{i-1}\\mathbf{T}_i(\\theta_i, d_i, a_i, \\alpha_i) = \n",
    "\\begin{bmatrix}\n",
    "c_{\\theta_i} & -s_{\\theta_i} c_{\\alpha_i} & s_{\\theta_i} s_{\\alpha_i} & a_i c_{\\theta_i} \\\\\n",
    "s_{\\theta_i} & c_{\\theta_i} c_{\\alpha_i} & -c_{\\theta_i} s_{\\alpha_i} & a_i s_{\\theta_i} \\\\\n",
    "0 & s_{\\alpha_i} & c_{\\alpha_i} & d_i \\\\\n",
    "0 & 0 & 0 & 1 \\tag{3.5}\n",
    "\\end{bmatrix}\n",
    "\\end{equation}\n",
    "\n",
    "In this expression, $c_{\\theta_i}$ and $s_{\\theta_i}$ represent $\\cos(\\theta_i)$ and $\\sin(\\theta_i)$, respectively. Notably, the homogeneous transformation ${}^{i-1}\\mathbf{T}_i(\\theta_i, d_i, a_i, \\alpha_i)$ depends on a single variable once the reference frame is established and the other parameters are fixed. This variable is determined by the type of joint: $d_i$ for prismatic joints and $\\theta_i$ for revolute joints. A more elaborate theory can be found in <cite id=\"zhen5\"><a href=\"#zotero%7C17740253%2FLY2FP5ZV\">[5]</a></cite>."
   ]
  },
  {
   "cell_type": "code",
   "execution_count": 1,
   "id": "23246211-119a-4f0e-8dc1-bb15de955376",
   "metadata": {},
   "outputs": [],
   "source": [
    "def dh_transform(a, alpha, d, theta):\n",
    "    \"\"\"\n",
    "    Compute Denavit-Hartenberg transformation matrix.\n",
    "    \"\"\"\n",
    "    return np.array([\n",
    "        [np.cos(theta), -np.sin(theta) * np.cos(alpha),  np.sin(theta) * np.sin(alpha), a * np.cos(theta)],\n",
    "        [np.sin(theta),  np.cos(theta) * np.cos(alpha), -np.cos(theta) * np.sin(alpha), a * np.sin(theta)],\n",
    "        [0,             np.sin(alpha),                 np.cos(alpha),                 d],\n",
    "        [0,             0,                             0,                             1]\n",
    "    ])"
   ]
  },
  {
   "cell_type": "markdown",
   "id": "eb87c0f5-b285-47a3-8819-ae6da87b59c4",
   "metadata": {
    "editable": true,
    "slideshow": {
     "slide_type": ""
    },
    "tags": []
   },
   "source": [
    "### 3.2.2. Forward Kinematics"
   ]
  },
  {
   "cell_type": "markdown",
   "id": "7adf4132-e001-4b1a-93c1-7be6c0000dc3",
   "metadata": {
    "editable": true,
    "slideshow": {
     "slide_type": ""
    },
    "tags": []
   },
   "source": [
    "In a robotic manipulator, the links are generally rigid bodies that form the robot’s structure, while the joints are the movable components that join two or multiple links. Joints can be with an actuator (active joints), or without an actuator (passive joints). Joints\n",
    "commonly found in serial robots are usually prismatic or revolute. Each type of such\n",
    "joint adds one degree of freedom (DOF) to the system: the joint position di for prismatic\n",
    "joints or the joint angle qi for revolute joints. The entire kinematic structure is typically\n",
    "referred to as a chain, which can be of two types:\n",
    "* Open chain: In this configuration, the two extremes, also known as the base and the\n",
    "end-effector are connected by a single path in the structure.\n",
    "*  Closed chain: The kinematic structure of this configuration has loops.\n",
    "\n",
    "The robot used in this thesis consists only of active revolute joint in an open chain\n",
    "configuration.\n",
    "A common problem in robotics is determining the Cartesian position and orientation\n",
    "$x ∈ R^6$ of a specific point on a link given the joint angles $q ∈ R^n$. This problem is known\n",
    "as forward kinematics, which can be efficiently solved using homogeneous transformations.\n",
    "The position of the origin of the end-effector’s reference frame in the base frame can be\n",
    "determined using the following equation:\n",
    "\n",
    "\\begin{equation}\n",
    "{}^b\\mathbf{T}_e(\\mathbf{q}) = {}^b\\mathbf{T}_0 \\, {}^0\\mathbf{T}_1(q_1) \\cdots {}^{n-1}\\mathbf{T}_e(q_n) \\, {}^n\\mathbf{T}_e,\\tag{3.6}\n",
    "\\end{equation}\n",
    "\n",
    "where the two constant homogeneous transformations required to convert a point from frame 0 to the base frame and from the end-effector frame to frame $n$, respectively, are denoted by ${}^b\\mathbf{T}_0$ and ${}^n\\mathbf{T}_e$.\n",
    "\n",
    " The following algorithmic implementation computes the transformation between all reference frames in the robot defined in the DH parameters."
   ]
  },
  {
   "cell_type": "code",
   "execution_count": 3,
   "id": "0f8afbf5-86a8-4665-9ce1-05d8d4de1817",
   "metadata": {},
   "outputs": [],
   "source": [
    "def compute_forward_kinematics(joint_angles, dh_params):\n",
    "    \"\"\"\n",
    "    Compute the forward kinematics for a robot given DH parameters and joint angles.\n",
    "\n",
    "    :param dh_params: List of DH parameters [(a, alpha, d, theta), ...]\n",
    "    :param joint_angles: List of joint angles [theta1, theta2, ..., thetaN]\n",
    "    :return: List of transformation matrices from base to each joint and the final transformation matrix T_0_n\n",
    "    \"\"\"\n",
    "    num_joints = len(joint_angles)\n",
    "    T = np.eye(4)\n",
    "    transformations = [T.copy()]\n",
    "    \n",
    "    # Compute forward kinematics to get transformations\n",
    "    for i, (a, alpha, d, theta) in enumerate(dh_params):\n",
    "        theta += joint_angles[i]  # Update theta with joint angle\n",
    "        T_i = dh_transform(a, alpha, d, theta)\n",
    "        T = np.dot(T, T_i)\n",
    "        transformations.append(T.copy())\n",
    "    \n",
    "    T_0_n = transformations[-1]  # Final transformation matrix to the TCP (end-effector)\n",
    "    return transformations, T_0_n"
   ]
  },
  {
   "cell_type": "markdown",
   "id": "58b3c1a0-03c9-4ac7-a692-887884435965",
   "metadata": {
    "editable": true,
    "slideshow": {
     "slide_type": ""
    },
    "tags": []
   },
   "source": [
    "### 3.2.3. Geometric Jacobian"
   ]
  },
  {
   "cell_type": "markdown",
   "id": "642ef827-c3dc-49f3-922f-41daf2c003c4",
   "metadata": {
    "citation-manager": {
     "citations": {
      "63bkr": [
       {
        "id": "17740253/LY2FP5ZV",
        "source": "zotero"
       }
      ]
     }
    },
    "editable": true,
    "slideshow": {
     "slide_type": ""
    },
    "tags": []
   },
   "source": [
    "The geometric Jacobian matrix, $J(q) ∈ R^{(6×n)}$, transforms the joint space velocities $q̇$, into Cartesian space velocities $ẋ$. This relationship is represented by the equation:\n",
    "\\begin{equation}\n",
    "\\dot{\\mathbf{x}} = \n",
    "\\begin{bmatrix}\n",
    "\\dot{\\mathbf{p}} \\\\\n",
    "\\boldsymbol{\\omega}\n",
    "\\end{bmatrix} \\tag{3.7}\n",
    "= \\mathbf{J}(\\mathbf{q}) \\dot{\\mathbf{q}},\n",
    "\\end{equation}\n",
    "where $\\dot p = [ \\dot x, \\dot y, \\dot z ]^T $represents the linear velocities and $\\omega = [ \\omega_x, \\omega_y, \\omega_z ]^T$ represents the angular velocities of the robot's end-effector in the base frame. The geometric Jacobian is calculated based on the robot's geometry at a specific instance. An elaborate theoretical background can be found in <cite id=\"63bkr\"><a href=\"#zotero%7C17740253%2FLY2FP5ZV\">[5]</a></cite>, an algorithmic implementation is shown below. "
   ]
  },
  {
   "cell_type": "code",
   "execution_count": 4,
   "id": "44424543-fa5d-4d97-8adc-82d00e508fef",
   "metadata": {
    "editable": true,
    "slideshow": {
     "slide_type": ""
    },
    "tags": []
   },
   "outputs": [],
   "source": [
    "def compute_geometric_jacobian(transformations):\n",
    "    \"\"\"\n",
    "    Compute the geometric Jacobian for a robot given the transformation matrices.\n",
    "\n",
    "    :param transformations: List of transformation matrices from the base to each joint\n",
    "    :return: Geometric Jacobian matrix (6 x N) in the base frame\n",
    "    \"\"\"\n",
    "    num_joints = len(transformations) - 1  # Excluding the base frame\n",
    "    jacobian_base = np.zeros((6, num_joints))\n",
    "    \n",
    "    # End-effector position\n",
    "    T_0_n = transformations[-1]\n",
    "    o_n = T_0_n[:3, 3]\n",
    "\n",
    "    # Compute each column of the Jacobian in the base frame\n",
    "    for i in range(num_joints):\n",
    "        T_0_i = transformations[i]\n",
    "        o_i = T_0_i[:3, 3]\n",
    "        z_i = T_0_i[:3, 2]\n",
    "\n",
    "        jacobian_base[:3, i] = np.cross(z_i, (o_n - o_i))  # Linear part\n",
    "        jacobian_base[3:, i] = z_i  # Angular part\n",
    "\n",
    "    return jacobian_base"
   ]
  },
  {
   "cell_type": "markdown",
   "id": "7976ef98-4978-44d6-9090-69ba5d2b2465",
   "metadata": {
    "editable": true,
    "slideshow": {
     "slide_type": ""
    },
    "tags": []
   },
   "source": [
    "## 3.3. LARA 8 Kinematic Description"
   ]
  },
  {
   "cell_type": "markdown",
   "id": "37554bab-61db-4037-9437-fc5f25618ff2",
   "metadata": {
    "editable": true,
    "slideshow": {
     "slide_type": ""
    },
    "tags": []
   },
   "source": [
    "\n",
    "<figure>\n",
    "  <img src=\"Resources/Lara8.png\" alt=\"Lara8\" title=\"Lara8\" id=Lara8 style=\"max-width: 100%;\">\n",
    "  <figcaption><b>Figure 3.4.:</b> Frames and DH-convention for LARA8. The image is a property of NEURA\n",
    "Robotics GmbH.</figcaption>\n",
    "</figure>\n",
    "\n",
    "\n",
    "\n",
    "The robot used for the experiments in this thesis is LARA 8, a lightweight collaborative robotic\n",
    "arm from the company NEURA Robotics GmbH. It is a 6-axis serial manipulator\n",
    "that has six independently actuated revolute joints and seven links. The maximum payload is 8kg. <a href=\"#Lara8\">Figure 3.4</a> shows the DH\n",
    "frames, the DH parameters and the actuated joints of LARA 8. The DH-parameters\n",
    "are given in <a href=\"#table3.1\">Table 3.1</a>\n",
    "<a id=\"table3.1\"></a> \n",
    "<table style=\"width: 50%; margin: auto; border-collapse: collapse;\">\n",
    "  <caption style=\"caption-side: bottom; text-align: center;\"><b>Table 3.1.:</b> DH Parameters of LARA8</caption>\n",
    "  <thead>\n",
    "    <tr>\n",
    "      <th>Frame</th>\n",
    "      <th>&theta; (rad)</th>\n",
    "      <th>d (m)</th>\n",
    "      <th>a (m)</th>\n",
    "      <th>&alpha; (rad)</th>\n",
    "    </tr>\n",
    "  </thead>\n",
    "  <tbody>\n",
    "    <tr>\n",
    "      <td>K1</td>\n",
    "      <td>0</td>\n",
    "      <td>0.26</td>\n",
    "      <td>0</td>\n",
    "      <td>\\(\\frac{\\pi}{2}\\)</td>\n",
    "    </tr>\n",
    "    <tr>\n",
    "      <td>K2</td>\n",
    "      <td>\\(\\frac{\\pi}{2}\\)</td>\n",
    "      <td>0</td>\n",
    "      <td>0.6</td>\n",
    "      <td>\\(\\pi\\)</td>\n",
    "    </tr>\n",
    "    <tr>\n",
    "      <td>K3</td>\n",
    "      <td>\\(\\frac{\\pi}{2}\\)</td>\n",
    "      <td>0</td>\n",
    "      <td>0</td>\n",
    "      <td>\\(\\frac{\\pi}{2}\\)</td>\n",
    "    </tr>\n",
    "    <tr>\n",
    "      <td>K4</td>\n",
    "      <td>0</td>\n",
    "      <td>0.7</td>\n",
    "      <td>0</td>\n",
    "      <td>\\(-\\frac{\\pi}{2}\\)</td>\n",
    "    </tr>\n",
    "    <tr>\n",
    "      <td>K5</td>\n",
    "      <td>0</td>\n",
    "      <td>0</td>\n",
    "      <td>0</td>\n",
    "      <td>\\(\\frac{\\pi}{2}\\)</td>\n",
    "    </tr>\n",
    "    <tr>\n",
    "      <td>K6</td>\n",
    "      <td>0</td>\n",
    "      <td>0.1735</td>\n",
    "      <td>0</td>\n",
    "      <td>0</td>\n",
    "    </tr>\n",
    "  </tbody>\n",
    "</table>\n",
    "\n"
   ]
  },
  {
   "cell_type": "markdown",
   "id": "43ed72f4-f946-48d5-b200-61bab29f104a",
   "metadata": {
    "editable": true,
    "slideshow": {
     "slide_type": ""
    },
    "tags": []
   },
   "source": [
    "## 3.4. Dynamics"
   ]
  },
  {
   "cell_type": "markdown",
   "id": "67b8874b-b476-4fe3-8c47-1465042b4511",
   "metadata": {
    "editable": true,
    "slideshow": {
     "slide_type": ""
    },
    "tags": []
   },
   "source": [
    "This section lays out the theoretical groundwork for understanding the dynamics of serial manipulators. First, equations of motion for a generic open-chain robotic manipulator is presented. These differential equations form the dynamic model of the robot, describing the relationship between joint positions ($q$), velocities ($\\dot{q}$), and accelerations ($\\ddot{q}$) with the torques ($\\tau$) applied to these joints by actuators.\n",
    "\n",
    "Following this, the topic of friction, its modelling and algorithmic implementation is introduced. The final part of the section addresses the calculation and algorithmic implementation necessary for converting torques at the Tool Center Point (TCP) to joint torques and vice versa."
   ]
  },
  {
   "cell_type": "markdown",
   "id": "6fb0dea5-1f02-4c24-9e4a-41b7e05ab043",
   "metadata": {
    "citation-manager": {
     "citations": {
      "us6nv": [
       {
        "id": "17740253/LY2FP5ZV",
        "source": "zotero"
       }
      ]
     }
    },
    "editable": true,
    "slideshow": {
     "slide_type": ""
    },
    "tags": []
   },
   "source": [
    "### 3.4.1. Equations of motion\n",
    "The general equation of motion for the robot under study, which is an open-chain manipulator is given below. This equation presents the joint torque $\\tau$ required to move the robot's joints in accordance with a desired trajectory with joint positions $q$, joint velocities $\\dot{q}$, and joint accelerations $\\ddot{q}$. \n",
    "\\begin{equation}\n",
    " \\underbrace{M(\\mathbf{q}) \\ddot{\\mathbf{q}} + \\mathbf{C}(\\mathbf{q}, \\dot{\\mathbf{q}}) + \\mathbf{g}(\\mathbf{q}) + \\mathbf{\\tau_f}}_{\\text{Torque Feedforward}}+ \\mathbf{\\tau_{ext}}= \\mathbf{\\tau}.\n",
    " \\tag{3.8}\n",
    "\\end{equation}\n",
    "Here, $M (q) ∈ R^{n×n}$ is a symmetric and positive definite matrix representing the robot’s inertia, $C(q, q̇) ∈ R^n$ is the vector containing the Coriolis, centrifugal and gyroscopic terms and $g(q) ∈ R^n$ is the gravity vector, $\\mathbf{\\tau_f}$ is the frictional torque and $\\mathbf{\\tau_{ext}}$ is the torque in the joint due to interaction of the robot with the environment. The term labelled as 'Torque Feedforward' in the equation can be computed for the desired trajectory, providing a preliminary estimate of the joint torques. This feedforward torque is fed to the PID controllers in each joint to achieve the desired joint position, velocity, and acceleration. Although the controller will adjust the torque applied to the joint as needed, the feedforward torque serves as an initial estimate. The detailed derivation and more discussions can be found in <cite id=\"us6nv\"><a href=\"#zotero%7C17740253%2FLY2FP5ZV\">[5]</a></cite>."
   ]
  },
  {
   "cell_type": "markdown",
   "id": "1785b0bd-18a4-4cf0-913d-4cadfc9eb190",
   "metadata": {
    "editable": true,
    "slideshow": {
     "slide_type": ""
    },
    "tags": []
   },
   "source": [
    "### 3.4.2. Friction Model"
   ]
  },
  {
   "cell_type": "markdown",
   "id": "a1803f26-fe71-4d98-b7c1-7fc7060b58b8",
   "metadata": {
    "citation-manager": {
     "citations": {
      "3f4kj": [
       {
        "id": "17740253/XA8NYAMV",
        "source": "zotero"
       }
      ],
      "mnqix": [
       {
        "id": "17740253/YSG8J3F3",
        "source": "zotero"
       }
      ],
      "sxyi9": [
       {
        "id": "17740253/YSG8J3F3",
        "source": "zotero"
       }
      ]
     }
    },
    "editable": true,
    "slideshow": {
     "slide_type": ""
    },
    "tags": []
   },
   "source": [
    "Friction occurs in most mechanical systems where there is relative motion between two mechanical components. In order to provide a good torque estimate following Equation 3.8, it is essential to have a good model of the joint's friction. However, friction is very complex to model accurately and is affected by many factors such as joint velocity, temperature, load, etc. To model the frictional torque, many simplifications have to be done. According to <cite id=\"mnqix\"><a href=\"#zotero%7C17740253%2FYSG8J3F3\">[6]</a></cite> friction dynamics can be simplified into the following four components.\n",
    "\n",
    "#### **Static Friction**\n",
    "\n",
    "Static friction is the component of friction which is present between two surfaces in contact when there is no relative motion and an external force is applied. Static friction acts in the direction opposite to the applied force that is attempting to initiate motion. Its magnitude is equal to the external force ($f_e$) until the external force exceeds the maximum static frictional force ($f_s$), beyond which static friction is overcome, and motion begins.\n",
    "\\begin{equation}\n",
    "[\n",
    "\\tau_f =\n",
    "\\begin{cases} \n",
    "f_e, & |f_e| < f_s \\\\\n",
    "f_s \\delta(\\dot{x}) \\text{sgn}(f_e), & |f_e| \\geq f_s \n",
    "\\end{cases}\n",
    "] \\tag{3.9}\n",
    "\\end{equation}\n",
    "where\n",
    "\\begin{equation}\n",
    "[\n",
    "\\delta(\\dot{x}) = \\begin{cases} \n",
    "1, & \\dot{x} = 0 \\\\\n",
    "0, & \\dot{x} \\neq 0 \n",
    "\\end{cases}\n",
    "\\quad , \\quad\n",
    "\\text{sgn}(f_e) = \\begin{cases} \n",
    "+1, & f_e > 0 \\\\\n",
    "-1, & f_e < 0 \n",
    "\\end{cases}\n",
    "]\n",
    " \\tag{3.10}\n",
    "\\end{equation}\n",
    "\n",
    "#### **Coulomb friction**\n",
    "Coulomb friction opposes the motion and is proportional to the normal contact force ($f_n$). \n",
    "\n",
    "\\begin{equation}\n",
    "\\tau_f =  \\mu f_n \\text{sgn}(\\dot{x}),\n",
    " \\tag{3.11}\n",
    "\\end{equation}\n",
    "where $\\mu$ is a constant called friction coefficient.\n",
    "\n",
    "#### **Viscous friction**\n",
    "This is a velocity-dependent component of friction and is proportional to velocity. It is given by the equation,\n",
    "\n",
    "\\begin{equation}\n",
    "\\tau_f = f_v \\dot(x),\n",
    " \\tag{3.12}\n",
    "\\end{equation}\n",
    "where $f_v$ is a constant called a viscous coefficient.\n",
    "\n",
    "#### **Friction model**\n",
    "\n",
    "Although multiple friction models exists <cite id=\"sxyi9\"><a href=\"#zotero%7C17740253%2FYSG8J3F3\">[6]</a></cite> which cover all these components, however the friction model used in this thesis is from <cite id=\"3f4kj\"><a href=\"#zotero%7C17740253%2FXA8NYAMV\">[7]</a></cite> and is given by \n",
    "\n",
    "\\begin{equation}\n",
    "f(v) = a_1 (\\tanh(b_1 v) - \\tanh(b_2 v)) + a_2 \\tanh(b_3 v) + a_3 v,\n",
    " \\tag{3.13}\n",
    "\\end{equation}\n",
    "\n",
    "where $a_1,a_2,a_3,b_1,b_2,b_3$ are all positive paramters which are found emperically. "
   ]
  },
  {
   "cell_type": "markdown",
   "id": "97be472f-a683-4235-84b5-483fd7a447da",
   "metadata": {
    "editable": true,
    "slideshow": {
     "slide_type": ""
    },
    "tags": []
   },
   "source": [
    "### 3.4.4. Conversion of Wrench at TCP to Joint torques"
   ]
  },
  {
   "cell_type": "markdown",
   "id": "93eeb0da-2c47-41f0-bff2-d3be3219dff6",
   "metadata": {
    "editable": true,
    "slideshow": {
     "slide_type": ""
    },
    "tags": []
   },
   "source": [
    "\n",
    "The conversion of external forces and torques applied to the end-effector of a 6-DOF robot to joint torques is achieved through the Jacobian matrix $\\mathbf{J}(\\mathbf{q})$, which relates joint velocities to the end-effector linear and angular velocities.\n",
    "\n",
    "#### **External Force and Torque Representation**\n",
    "\n",
    "External forces $\\mathbf{F}_{\\text{ext}}$ and torques $\\mathbf{\\tau}_{\\text{ext}}$ are combined into a wrench vector $\\mathbf{W}_{\\text{ext}}$:\n",
    "\n",
    "$$\n",
    "\\mathbf{W}_{\\text{ext}} = \\begin{bmatrix} \\mathbf{F}_{\\text{ext}} \\\\ \\mathbf{\\tau}_{\\text{ext}} \\end{bmatrix}\n",
    "$$\n",
    "\n",
    "\n",
    "#### **Conversion to Joint Torques**\n",
    "\n",
    "The joint torques $\\mathbf{\\tau}_{\\text{joint}}$ are computed by:\n",
    "\n",
    "\\begin{equation}\n",
    "\\mathbf{\\tau}_{\\text{joint}} = \\mathbf{J}^\\top(\\mathbf{q}) \\mathbf{W}_{\\text{ext}}. \\tag{3.14}\n",
    "\\end{equation}\n",
    "\n",
    "This equation projects the external wrench into the joint space, providing the necessary torques required at each joint to counteract the external forces and torques.\n",
    "\n",
    "\n",
    "Note that the Jacobian and the wrench are defined in the same coordinate frame. In this thesis, wrench $W_{ext}$ is always defined in the TCP frame and hence the Jacobian is also calculated in the TCP frame. An algorithmic implementation is given below."
   ]
  },
  {
   "cell_type": "code",
   "execution_count": 6,
   "id": "133225f2-77c4-46e4-8567-ff1b09389cca",
   "metadata": {},
   "outputs": [],
   "source": [
    "def convert_jacobian_to_tcp(jacobian_base, T_0_n):\n",
    "    \"\"\"\n",
    "    Convert a Jacobian from the base frame to the TCP frame.\n",
    "    \n",
    "    :param jacobian_base: Jacobian matrix in the base frame (6 x 6)\n",
    "    :param T_0_n: Transformation matrix from the base to the TCP (4 x 4)\n",
    "    :return: Jacobian matrix (6 x 6) in the TCP frame\n",
    "    \"\"\"\n",
    "    R_0_n = T_0_n[:3, :3]\n",
    "    T_base_to_tcp = np.block([\n",
    "        [R_0_n.T, np.zeros((3, 3))],\n",
    "        [np.zeros((3, 3)), R_0_n.T]\n",
    "    ])\n",
    "    \n",
    "    jacobian_tcp = np.dot(T_base_to_tcp, jacobian_base)\n",
    "    return jacobian_tcp"
   ]
  },
  {
   "cell_type": "markdown",
   "id": "f7a5f78d-93c0-43ef-ad50-518f39d7484c",
   "metadata": {
    "citation-manager": {
     "citations": {
      "4tn8m": [
       {
        "id": "17740253/7JPSKM68",
        "source": "zotero"
       }
      ],
      "bwq6k": [
       {
        "id": "17740253/NKAIXGX3",
        "source": "zotero"
       }
      ],
      "sbf2o": [
       {
        "id": "17740253/FQBVI9RB",
        "source": "zotero"
       }
      ],
      "xlro6": [
       {
        "id": "17740253/7JPSKM68",
        "source": "zotero"
       }
      ],
      "zmp3j": [
       {
        "id": "17740253/YJ447BA4",
        "source": "zotero"
       }
      ]
     }
    },
    "jp-MarkdownHeadingCollapsed": true
   },
   "source": [
    " ## 3.5. Machine Learning\n",
    "This section briefly discusses some machine learning fundamentals used in this thesis like\n",
    "the neural network, different types of recurrent units such as RNN, GRU and LSTM\n",
    "\n",
    "### 3.5.1. Neural Network\n",
    "A neural network is a computational model that is based on the information-processing\n",
    "mechanisms similar to biological neural networks found in the human brain. It is made up\n",
    "of one or more layers of interconnected nodes, or \"neurons\". Each connection is a weighted\n",
    "pathway that modifies as learning advances. Through a process called backpropagation <cite id=\"bwq6k\"><a href=\"#zotero%7C17740253%2FNKAIXGX3\">[8]</a></cite>, neural networks modify their weights according to the loss computed during\n",
    "each training step, neural networks can identify patterns and relationships in data. Neural networks can learn complex non-linear relationships in data which analytical\n",
    "methods often struggle to do.\n",
    "\n",
    "A mathematical model of a single neuron with multiple inputs $x1, . . . , xN$ and an output\n",
    "$y$, and a series of learnable weights $w1, . . . , wN$ is given in Equation 3.15\n",
    "\\begin{equation}\n",
    "y = f\\left( \\sum_{i=1}^{N} x_i w_i \\right) + b,\\tag{3.15}\n",
    "\\end{equation}\n",
    "\n",
    "where $f$ is an activation function like tanh, sigmoid, etc., and b is a learnable parameter\n",
    "called bias.\n",
    "\n",
    "### 3.5.2 Recurrent Neural Networks\n",
    "Recurrent Neural Network (RNN) is a kind of neural network that is specifically made for\n",
    "sequential data like time series data, natural language, or video frames, where the input\n",
    "is a sequence. RNNs contain loops in their architecture which help them to retain information\n",
    "over time steps, unlike standard neural networks. Because of this looping process, RNNs\n",
    "can retain a recollection of past inputs, which makes them ideal for jobs involving temporal dynamics or contextual awareness. RNNs are useful for applications like language\n",
    "modelling, speech recognition, and sequence prediction because they can learn dependencies over time by processing inputs sequentially. RNNs face problems with vanishing and\n",
    "exploding gradients, which can make training difficult, particularly for lengthy sequences\n",
    "<cite id=\"xlro6\"><a href=\"#zotero%7C17740253%2F7JPSKM68\">[9]</a></cite>.\n",
    "\n",
    "\n",
    "An elaborate theory on RNN can be found in <cite id=\"4tn8m\"><a href=\"#zotero%7C17740253%2F7JPSKM68\">[9]</a></cite>.\n",
    "\n",
    "### 3.5.3 Long Short Term Memory\n",
    "Long Short Term Memory (LSTM) <cite id=\"sbf2o\"><a href=\"#zotero%7C17740253%2FFQBVI9RB\">[10]</a></cite> is a type of Recurrent Neural Network which\n",
    "was developed to address the issue of vanishing and exploding gradients in RNNs. In\n",
    "this architecture three gates, namely the input gate, forget gate, and output gate were\n",
    "introduced to control the information flow, allowing it to selectively remember, update\n",
    "and forget information over long periods. This makes LSTM particularly useful in cases\n",
    "where a long temporal relation between inputs needs to be maintained by the network such\n",
    "as natural language processing.\n",
    "\n",
    "### 3.5.4 Gated Recurrent Unit\n",
    "Gated Recurrent Unit (GRU) <cite id=\"zmp3j\"><a href=\"#zotero%7C17740253%2FYJ447BA4\">[11]</a></cite> was introduced as a simpler and a more faster\n",
    "alternative to LSTM. It uses a similar mechanism of gates to remember, update and\n",
    "forget information, however, unlike LSTM it uses only two gates for this purpose, namely\n",
    "the update gate and reset gate. This leads to fewer parameters and simple architecture\n",
    "resulting in faster training and inference times. GRUs are preferred over LSTMs in tasks\n",
    "where the training data is limited, computational power is low, or quick iterations are\n",
    "necessary, such as real-time processing or applications with long sequences and fewer\n",
    "computational requirements."
   ]
  },
  {
   "cell_type": "markdown",
   "id": "0166d23a-b3a1-4cb5-bdcd-cf96d27babee",
   "metadata": {},
   "source": [
    "## References"
   ]
  },
  {
   "cell_type": "markdown",
   "id": "88188407-e12d-4caf-8112-533cda560f14",
   "metadata": {},
   "source": [
    "<!-- BIBLIOGRAPHY START -->\n",
    "<div class=\"csl-bib-body\">\n",
    "  <div class=\"csl-entry\"><i id=\"zotero|17740253/4JU53NME\"></i>\n",
    "    <div class=\"csl-left-margin\">[1]</div><div class=\"csl-right-inline\">H. Zhang, S. Ahmad, and G. Liu, “Torque Estimation for Robotic Joint With Harmonic Drive Transmission Based on Position Measurements,” <i>IEEE Trans. Robot.</i>, vol. 31, no. 2, pp. 322–330, 2015, doi: <a href=\"https://doi.org/10.1109/TRO.2015.2402511\">10.1109/TRO.2015.2402511</a>.</div>\n",
    "  </div>\n",
    "  <div class=\"csl-entry\"><i id=\"zotero|17740253/7Y2D2ALW\"></i>\n",
    "    <div class=\"csl-left-margin\">[2]</div><div class=\"csl-right-inline\">H. D. Taghirad and P. R. Belanger, “An experimental study on modelling and identification of harmonic drive systems,” in <i>Proceedings of 35th IEEE Conference on Decision and Control</i>, Kobe, Japan, 1996, vol. 4, pp. 4725–4730. doi: <a href=\"https://doi.org/10.1109/CDC.1996.577625\">10.1109/CDC.1996.577625</a>.</div>\n",
    "  </div>\n",
    "  <div class=\"csl-entry\"><i id=\"zotero|17740253/NU8U5VH9\"></i>\n",
    "    <div class=\"csl-left-margin\">[3]</div><div class=\"csl-right-inline\">M. Majchrák, R. Kohar, M. Lukac, and R. Skyba, “Analysis of harmonic gearbox tooth contact pressure,” <i>IOP Conference Series: Materials Science and Engineering</i>, vol. 659, p. 012068, Oct. 2019, doi: <a href=\"https://doi.org/10.1088/1757-899X/659/1/012068\">10.1088/1757-899X/659/1/012068</a>.</div>\n",
    "  </div>\n",
    "  <div class=\"csl-entry\"><i id=\"zotero|17740253/3J5DS9LQ\"></i>\n",
    "    <div class=\"csl-left-margin\">[4]</div><div class=\"csl-right-inline\">J. Denavit and R. S. Hartenberg, “A Kinematic Notation for Lower-Pair Mechanisms Based on Matrices,” <i>Journal of Applied Mechanics</i>, vol. 22, no. 2, pp. 215–221, Jun. 2021, doi: <a href=\"https://doi.org/10.1115/1.4011045\">10.1115/1.4011045</a>.</div>\n",
    "  </div>\n",
    "  <div class=\"csl-entry\"><i id=\"zotero|17740253/LY2FP5ZV\"></i>\n",
    "    <div class=\"csl-left-margin\">[5]</div><div class=\"csl-right-inline\">A. Ghosal, <i>ROBOTICS: FUNDAMENTAL CONCEPTS AND ANALYSIS</i>. OUP India, 2006. [Online]. Available: <a href=\"https://books.google.de/books?id=GsRhAAAACAAJ\">https://books.google.de/books?id=GsRhAAAACAAJ</a></div>\n",
    "  </div>\n",
    "  <div class=\"csl-entry\"><i id=\"zotero|17740253/YSG8J3F3\"></i>\n",
    "    <div class=\"csl-left-margin\">[6]</div><div class=\"csl-right-inline\">J. Na, Q. Chen, and X. Ren, “Friction Dynamics and Modeling,” in <i>Adaptive Identification and Control of Uncertain Systems with Non-smooth Dynamics</i>, Elsevier, 2018, pp. 11–18. doi: <a href=\"https://doi.org/10.1016/B978-0-12-813683-6.00003-9\">10.1016/B978-0-12-813683-6.00003-9</a>.</div>\n",
    "  </div>\n",
    "  <div class=\"csl-entry\"><i id=\"zotero|17740253/XA8NYAMV\"></i>\n",
    "    <div class=\"csl-left-margin\">[7]</div><div class=\"csl-right-inline\">C. Makkar, W. E. Dixon, W. G. Sawyer, and G. Hu, “A new continuously differentiable friction model for control systems design,” in <i>Proceedings, 2005 IEEE/ASME International Conference on Advanced Intelligent Mechatronics.</i>, Monterey, CA, 2005, pp. 600–605. doi: <a href=\"https://doi.org/10.1109/AIM.2005.1511048\">10.1109/AIM.2005.1511048</a>.</div>\n",
    "  </div>\n",
    "  <div class=\"csl-entry\"><i id=\"zotero|17740253/NKAIXGX3\"></i>\n",
    "    <div class=\"csl-left-margin\">[8]</div><div class=\"csl-right-inline\">“Learning representations by back-propagating errors | Nature.” Accessed: Aug. 25, 2024. [Online]. Available: <a href=\"https://www.nature.com/articles/323533a0\">https://www.nature.com/articles/323533a0</a></div>\n",
    "  </div>\n",
    "  <div class=\"csl-entry\"><i id=\"zotero|17740253/7JPSKM68\"></i>\n",
    "    <div class=\"csl-left-margin\">[9]</div><div class=\"csl-right-inline\">R. M. Schmidt, “Recurrent Neural Networks (RNNs): A gentle Introduction and Overview.” arXiv, Nov. 23, 2019. doi: <a href=\"https://doi.org/10.48550/arXiv.1912.05911\">10.48550/arXiv.1912.05911</a>.</div>\n",
    "  </div>\n",
    "  <div class=\"csl-entry\"><i id=\"zotero|17740253/FQBVI9RB\"></i>\n",
    "    <div class=\"csl-left-margin\">[10]</div><div class=\"csl-right-inline\">S. Hochreiter and J. Schmidhuber, “Long Short-Term Memory,” <i>Neural Computation</i>, vol. 9, no. 8, pp. 1735–1780, Nov. 1997, doi: <a href=\"https://doi.org/10.1162/neco.1997.9.8.1735\">10.1162/neco.1997.9.8.1735</a>.</div>\n",
    "  </div>\n",
    "  <div class=\"csl-entry\"><i id=\"zotero|17740253/YJ447BA4\"></i>\n",
    "    <div class=\"csl-left-margin\">[11]</div><div class=\"csl-right-inline\">D. Bahdanau, K. Cho, and Y. Bengio, “Neural Machine Translation by Jointly Learning to Align and Translate,” 2014, doi: <a href=\"https://doi.org/10.48550/ARXIV.1409.0473\">10.48550/ARXIV.1409.0473</a>.</div>\n",
    "  </div>\n",
    "</div>\n",
    "<!-- BIBLIOGRAPHY END -->"
   ]
  }
 ],
 "metadata": {
  "citation-manager": {
   "items": {
    "zotero": {
     "17740253/3J5DS9LQ": {
      "DOI": "10.1115/1.4011045",
      "URL": "https://doi.org/10.1115/1.4011045",
      "abstract": "A symbolic notation devised by Reuleaux to describe mechanisms did not recognize the necessary number of variables needed for complete description. A reconsideration of the problem leads to a symbolic notation which permits the complete description of the kinematic properties of all lower-pair mechanisms by means of equations. The symbolic notation also yields a method for studying lower-pair mechanisms by means of matrix algebra; two examples of application to space mechanisms are given.",
      "accessed": {
       "date-parts": [
        [
         2024,
         8,
         8
        ]
       ]
      },
      "author": [
       {
        "family": "Denavit",
        "given": "J."
       },
       {
        "family": "Hartenberg",
        "given": "R. S."
       }
      ],
      "container-title": "Journal of Applied Mechanics",
      "id": "17740253/3J5DS9LQ",
      "issue": "2",
      "issued": {
       "date-parts": [
        [
         2021,
         6,
         4
        ]
       ]
      },
      "journalAbbreviation": "Journal of Applied Mechanics",
      "page": "215-221",
      "system_id": "zotero|17740253/3J5DS9LQ",
      "title": "A Kinematic Notation for Lower-Pair Mechanisms Based on Matrices",
      "type": "article-journal",
      "volume": "22"
     },
     "17740253/4JU53NME": {
      "DOI": "10.1109/TRO.2015.2402511",
      "URL": "http://ieeexplore.ieee.org/document/7054560/",
      "abstract": "Joint torque sensory feedback is an effective technique for achieving high-performance robot force and motion control. However, most robots are not equipped with joint torque sensors, and it is difﬁcult to add them without changing the joint’s mechanical structure. A method for estimating joint torque that exploits the existing structural elasticity of robotic joints with harmonic drive transmission is proposed in this paper. In the presented joint torque estimation method, motor-side and link-side position measurements along with a proposed harmonic drive compliance model, are used to realize stiff and sensitive joint torque estimation, without the need for adding an additional elastic body and using strain gauges to measure the joint torque. The proposed method has been experimentally studied and its performance is compared with measurements of a commercial torque sensor. The results have attested the effectiveness of the proposed torque estimation method.",
      "accessed": {
       "date-parts": [
        [
         2024,
         7,
         3
        ]
       ]
      },
      "author": [
       {
        "family": "Zhang",
        "given": "Hongwei"
       },
       {
        "family": "Ahmad",
        "given": "Saleh"
       },
       {
        "family": "Liu",
        "given": "Guangjun"
       }
      ],
      "container-title": "IEEE Transactions on Robotics",
      "id": "17740253/4JU53NME",
      "issue": "2",
      "issued": {
       "date-parts": [
        [
         "2015"
        ]
       ]
      },
      "journalAbbreviation": "IEEE Trans. Robot.",
      "language": "en",
      "page": "322-330",
      "system_id": "zotero|17740253/4JU53NME",
      "title": "Torque Estimation for Robotic Joint With Harmonic Drive Transmission Based on Position Measurements",
      "type": "article-journal",
      "volume": "31"
     },
     "17740253/7JPSKM68": {
      "DOI": "10.48550/arXiv.1912.05911",
      "URL": "http://arxiv.org/abs/1912.05911",
      "abstract": "State-of-the-art solutions in the areas of \"Language Modelling & Generating Text\", \"Speech Recognition\", \"Generating Image Descriptions\" or \"Video Tagging\" have been using Recurrent Neural Networks as the foundation for their approaches. Understanding the underlying concepts is therefore of tremendous importance if we want to keep up with recent or upcoming publications in those areas. In this work we give a short overview over some of the most important concepts in the realm of Recurrent Neural Networks which enables readers to easily understand the fundamentals such as but not limited to \"Backpropagation through Time\" or \"Long Short-Term Memory Units\" as well as some of the more recent advances like the \"Attention Mechanism\" or \"Pointer Networks\". We also give recommendations for further reading regarding more complex topics where it is necessary.",
      "accessed": {
       "date-parts": [
        [
         2024,
         8,
         25
        ]
       ]
      },
      "author": [
       {
        "family": "Schmidt",
        "given": "Robin M."
       }
      ],
      "id": "17740253/7JPSKM68",
      "issued": {
       "date-parts": [
        [
         2019,
         11,
         23
        ]
       ]
      },
      "note": "arXiv:1912.05911 [cs, stat]",
      "number": "arXiv:1912.05911",
      "publisher": "arXiv",
      "shortTitle": "Recurrent Neural Networks (RNNs)",
      "system_id": "zotero|17740253/7JPSKM68",
      "title": "Recurrent Neural Networks (RNNs): A gentle Introduction and Overview",
      "type": "article"
     },
     "17740253/7Y2D2ALW": {
      "DOI": "10.1109/CDC.1996.577625",
      "ISBN": "978-0-7803-3590-5",
      "URL": "http://ieeexplore.ieee.org/document/577625/",
      "abstract": "Despite widespread industrial application of harmonic drives, mathematical representation of their dynamics has n o t been fully addressed. In this theoretical/experimental study of harmonic drive systems a systematic way to capture and rationalize the dynamics of the system is proposed. Simple and accurate models for compliance, hysteresis, and friction are given and the model parameters are estimated from experiments using least square approximation. A statistical measure of consistency is defined, by which the reliability of the estimated parameter f o r different operating condition, as well as the accuracy and integrity of the proposed model is quantified. T h e validity of the modelling scheme is finally evaluated, o n two diflerent harmonic drives by comparing th.c experimental and simulation results.",
      "accessed": {
       "date-parts": [
        [
         2024,
         7,
         3
        ]
       ]
      },
      "author": [
       {
        "family": "Taghirad",
        "given": "H.D."
       },
       {
        "family": "Belanger",
        "given": "P.R."
       }
      ],
      "container-title": "Proceedings of 35th IEEE Conference on Decision and Control",
      "event": "35th IEEE Conference on Decision and Control",
      "event-place": "Kobe, Japan",
      "id": "17740253/7Y2D2ALW",
      "issued": {
       "date-parts": [
        [
         1996
        ]
       ]
      },
      "language": "en",
      "page": "4725-4730",
      "publisher": "IEEE",
      "publisher-place": "Kobe, Japan",
      "system_id": "zotero|17740253/7Y2D2ALW",
      "title": "An experimental study on modelling and identification of harmonic drive systems",
      "type": "paper-conference",
      "volume": "4"
     },
     "17740253/FQBVI9RB": {
      "DOI": "10.1162/neco.1997.9.8.1735",
      "URL": "https://direct.mit.edu/neco/article/9/8/1735-1780/6109",
      "abstract": "Learning to store information over extended time intervals by recurrent backpropagation takes a very long time, mostly because of insufficient, decaying error backflow. We briefly review Hochreiter's (1991) analysis of this problem, then address it by introducing a novel, efficient, gradient based method called long short-term memory (LSTM). Truncating the gradient where this does not do harm, LSTM can learn to bridge minimal time lags in excess of 1000 discrete-time steps by enforcing constant error flow through constant error carousels within special units. Multiplicative gate units learn to open and close access to the constant error flow. LSTM is local in space and time; its computational complexity per time step and weight is O. 1. Our experiments with artificial data involve local, distributed, real-valued, and noisy pattern representations. In comparisons with real-time recurrent learning, back propagation through time, recurrent cascade correlation, Elman nets, and neural sequence chunking, LSTM leads to many more successful runs, and learns much faster. LSTM also solves complex, artificial long-time-lag tasks that have never been solved by previous recurrent network algorithms.",
      "accessed": {
       "date-parts": [
        [
         2024,
         8,
         28
        ]
       ]
      },
      "author": [
       {
        "family": "Hochreiter",
        "given": "Sepp"
       },
       {
        "family": "Schmidhuber",
        "given": "Jürgen"
       }
      ],
      "container-title": "Neural Computation",
      "id": "17740253/FQBVI9RB",
      "issue": "8",
      "issued": {
       "date-parts": [
        [
         1997,
         11,
         1
        ]
       ]
      },
      "journalAbbreviation": "Neural Computation",
      "language": "en",
      "page": "1735-1780",
      "system_id": "zotero|17740253/FQBVI9RB",
      "title": "Long Short-Term Memory",
      "type": "article-journal",
      "volume": "9"
     },
     "17740253/LY2FP5ZV": {
      "ISBN": "978-0-19-567391-3",
      "URL": "https://books.google.de/books?id=GsRhAAAACAAJ",
      "author": [
       {
        "family": "Ghosal",
        "given": "A."
       }
      ],
      "id": "17740253/LY2FP5ZV",
      "issued": {
       "date-parts": [
        [
         2006
        ]
       ]
      },
      "note": "LCCN: 2006279366",
      "publisher": "OUP India",
      "system_id": "zotero|17740253/LY2FP5ZV",
      "title": "ROBOTICS: FUNDAMENTAL CONCEPTS AND ANALYSIS",
      "type": "book"
     },
     "17740253/NKAIXGX3": {
      "URL": "https://www.nature.com/articles/323533a0",
      "accessed": {
       "date-parts": [
        [
         2024,
         8,
         25
        ]
       ]
      },
      "id": "17740253/NKAIXGX3",
      "system_id": "zotero|17740253/NKAIXGX3",
      "title": "Learning representations by back-propagating errors | Nature",
      "type": "article"
     },
     "17740253/NU8U5VH9": {
      "DOI": "10.1088/1757-899X/659/1/012068",
      "abstract": "An analysis of a conventional gear wheel shot with MPK methodology has been processed by many authors before. Harmonic gearbox systems are composed of rigid and flexible parts through which the torque is transmitted, thus generating power. The contact pressure is specifically distributed through more teeth whilst against conventional gearbox systems. Firstly, a design description of a dynamic calculation model of a harmonic gearbox system in the planar strain is analysed in this article, as well as the definition of each contact constraint between the rigid and flexible parts of these gear systems in respect of “GLUE” and “TOUCHING” contact types. The last part of this article deals with the force distribution analysis in the teeth with respect to the frictional forces in them. The graphical conclusions of this pressure on each tooth were made. This article mainly focuses on the analysis of the stress in a gear tooth of the harmonic gearbox systems, as well as the research of a special trajectory of the rigid and flexible entity in a solid circular spline of such gear systems.",
      "author": [
       {
        "family": "Majchrák",
        "given": "Maroš"
       },
       {
        "family": "Kohar",
        "given": "Robert"
       },
       {
        "family": "Lukac",
        "given": "Michal"
       },
       {
        "family": "Skyba",
        "given": "Rudolf"
       }
      ],
      "container-title": "IOP Conference Series: Materials Science and Engineering",
      "id": "17740253/NU8U5VH9",
      "issued": {
       "date-parts": [
        [
         2019,
         10,
         31
        ]
       ]
      },
      "journalAbbreviation": "IOP Conference Series: Materials Science and Engineering",
      "page": "012068",
      "system_id": "zotero|17740253/NU8U5VH9",
      "title": "Analysis of harmonic gearbox tooth contact pressure",
      "type": "article-journal",
      "volume": "659"
     },
     "17740253/XA8NYAMV": {
      "DOI": "10.1109/AIM.2005.1511048",
      "ISBN": "978-0-7803-9047-8",
      "URL": "http://ieeexplore.ieee.org/document/1511048/",
      "abstract": "For high-performance engineering systems, modelbased controllers are typically required to accommodate for the system nonlinearities. Unfortunately, developing accurate models for friction has been historically challenging. Typical models are either discontinuous and many other models are only piecewise continuous. Motivated by the fact that discontinuous and piecewise continuous friction models are problematic for the development of high-performance continuous controllers, a new model for friction is proposed in this paper. This simple continuously differentiable model represents a foundation that captures the major effects reported and discussed in friction modeling and experimentation. The proposed model is generic enough that other subtleties such as frictional anisotropy with sliding direction can be addressed by mathematically distorting this model without compromising the continuous differentiability.",
      "accessed": {
       "date-parts": [
        [
         2024,
         7,
         3
        ]
       ]
      },
      "author": [
       {
        "family": "Makkar",
        "given": "C."
       },
       {
        "family": "Dixon",
        "given": "W.E."
       },
       {
        "family": "Sawyer",
        "given": "W.G."
       },
       {
        "family": "Hu",
        "given": "G."
       }
      ],
      "container-title": "Proceedings, 2005 IEEE/ASME International Conference on Advanced Intelligent Mechatronics.",
      "event": "2005 IEEE/ASME International Conference on Advanced Intelligent Mechatronics.",
      "event-place": "Monterey, CA",
      "id": "17740253/XA8NYAMV",
      "issued": {
       "date-parts": [
        [
         2005
        ]
       ]
      },
      "language": "en",
      "page": "600-605",
      "publisher": "IEEE",
      "publisher-place": "Monterey, CA",
      "system_id": "zotero|17740253/XA8NYAMV",
      "title": "A new continuously differentiable friction model for control systems design",
      "type": "paper-conference"
     },
     "17740253/YJ447BA4": {
      "DOI": "10.48550/ARXIV.1409.0473",
      "URL": "https://arxiv.org/abs/1409.0473",
      "abstract": "Neural machine translation is a recently proposed approach to machine translation. Unlike the traditional statistical machine translation, the neural machine translation aims at building a single neural network that can be jointly tuned to maximize the translation performance. The models proposed recently for neural machine translation often belong to a family of encoder-decoders and consists of an encoder that encodes a source sentence into a fixed-length vector from which a decoder generates a translation. In this paper, we conjecture that the use of a fixed-length vector is a bottleneck in improving the performance of this basic encoder-decoder architecture, and propose to extend this by allowing a model to automatically (soft-)search for parts of a source sentence that are relevant to predicting a target word, without having to form these parts as a hard segment explicitly. With this new approach, we achieve a translation performance comparable to the existing state-of-the-art phrase-based system on the task of English-to-French translation. Furthermore, qualitative analysis reveals that the (soft-)alignments found by the model agree well with our intuition.",
      "accessed": {
       "date-parts": [
        [
         2024,
         8,
         28
        ]
       ]
      },
      "author": [
       {
        "family": "Bahdanau",
        "given": "Dzmitry"
       },
       {
        "family": "Cho",
        "given": "Kyunghyun"
       },
       {
        "family": "Bengio",
        "given": "Yoshua"
       }
      ],
      "id": "17740253/YJ447BA4",
      "issued": {
       "date-parts": [
        [
         2014
        ]
       ]
      },
      "system_id": "zotero|17740253/YJ447BA4",
      "title": "Neural Machine Translation by Jointly Learning to Align and Translate",
      "type": "article-journal"
     },
     "17740253/YSG8J3F3": {
      "ISBN": "978-0-12-813683-6",
      "URL": "https://linkinghub.elsevier.com/retrieve/pii/B9780128136836000039",
      "accessed": {
       "date-parts": [
        [
         2024,
         7,
         3
        ]
       ]
      },
      "author": [
       {
        "family": "Na",
        "given": "Jing"
       },
       {
        "family": "Chen",
        "given": "Qiang"
       },
       {
        "family": "Ren",
        "given": "Xuemei"
       }
      ],
      "container-title": "Adaptive Identification and Control of Uncertain Systems with Non-smooth Dynamics",
      "id": "17740253/YSG8J3F3",
      "issued": {
       "date-parts": [
        [
         2018
        ]
       ]
      },
      "language": "en",
      "note": "DOI: 10.1016/B978-0-12-813683-6.00003-9",
      "page": "11-18",
      "publisher": "Elsevier",
      "system_id": "zotero|17740253/YSG8J3F3",
      "title": "Friction Dynamics and Modeling",
      "type": "chapter"
     }
    }
   }
  },
  "kernelspec": {
   "display_name": "Python 3 (ipykernel)",
   "language": "python",
   "name": "python3"
  },
  "language_info": {
   "codemirror_mode": {
    "name": "ipython",
    "version": 3
   },
   "file_extension": ".py",
   "mimetype": "text/x-python",
   "name": "python",
   "nbconvert_exporter": "python",
   "pygments_lexer": "ipython3",
   "version": "3.8.19"
  }
 },
 "nbformat": 4,
 "nbformat_minor": 5
}
