{
 "cells": [
  {
   "cell_type": "markdown",
   "id": "bf42b7d9-f388-4381-bef8-583df536e8ae",
   "metadata": {},
   "source": [
    "# 3.3 Machine Learning"
   ]
  },
  {
   "cell_type": "markdown",
   "id": "ee033595-8783-495f-9079-ad9c937affed",
   "metadata": {},
   "source": [
    "## 3.3.1 Data Collection"
   ]
  },
  {
   "cell_type": "markdown",
   "id": "1644e780-5239-47fb-87c3-d9a1ae98f654",
   "metadata": {
    "jp-MarkdownHeadingCollapsed": true
   },
   "source": [
    "## 3.3.2 Model Selection"
   ]
  },
  {
   "cell_type": "markdown",
   "id": "3b41a2ac-902b-44ec-a5cb-cff394891631",
   "metadata": {},
   "source": [
    "## 3.3.3 Resuts"
   ]
  },
  {
   "cell_type": "markdown",
   "id": "e054da4e-a1f9-4ec9-8b14-3fd32f0bf82b",
   "metadata": {},
   "source": [
    "## 3.3.4 Comparison with baseline approaches"
   ]
  },
  {
   "cell_type": "markdown",
   "id": "33bb8120-9cbe-4ae0-a4e0-d0fd3a81ad1a",
   "metadata": {},
   "source": [
    "## 3.3.5 Model for all joints"
   ]
  },
  {
   "cell_type": "markdown",
   "id": "084f1a8b-b2bb-40be-b46d-4e738de6011d",
   "metadata": {},
   "source": [
    "## 3.3.6 Validation"
   ]
  },
  {
   "cell_type": "code",
   "execution_count": null,
   "id": "7eed3920-cbe8-40d7-842d-9e1508a51294",
   "metadata": {},
   "outputs": [],
   "source": []
  }
 ],
 "metadata": {
  "kernelspec": {
   "display_name": "Python 3 (ipykernel)",
   "language": "python",
   "name": "python3"
  },
  "language_info": {
   "codemirror_mode": {
    "name": "ipython",
    "version": 3
   },
   "file_extension": ".py",
   "mimetype": "text/x-python",
   "name": "python",
   "nbconvert_exporter": "python",
   "pygments_lexer": "ipython3",
   "version": "3.8.19"
  }
 },
 "nbformat": 4,
 "nbformat_minor": 5
}
