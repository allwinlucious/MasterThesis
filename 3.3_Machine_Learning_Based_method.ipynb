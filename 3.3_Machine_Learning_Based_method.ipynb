{
 "cells": [
  {
   "cell_type": "markdown",
   "id": "bf42b7d9-f388-4381-bef8-583df536e8ae",
   "metadata": {},
   "source": [
    "The problem with single axis models is that it cannot find out forces acting on the joint due to the dynamics of other coupled links, since this information is lacking in the inputs. therefore a single model which takes into account the input form all the joints, and predicts the external fts is required. "
   ]
  }
 ],
 "metadata": {
  "kernelspec": {
   "display_name": "Python 3 (ipykernel)",
   "language": "python",
   "name": "python3"
  },
  "language_info": {
   "codemirror_mode": {
    "name": "ipython",
    "version": 3
   },
   "file_extension": ".py",
   "mimetype": "text/x-python",
   "name": "python",
   "nbconvert_exporter": "python",
   "pygments_lexer": "ipython3",
   "version": "3.8.19"
  }
 },
 "nbformat": 4,
 "nbformat_minor": 5
}
