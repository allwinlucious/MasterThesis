{
 "cells": [
  {
   "cell_type": "markdown",
   "id": "232de1e3-f666-4d41-a166-a8739d075e79",
   "metadata": {
    "editable": true,
    "slideshow": {
     "slide_type": ""
    },
    "tags": []
   },
   "source": [
    "<!-- BIBLIOGRAPHY START -->\n",
    "<div class=\"csl-bib-body\">\n",
    "</div>\n",
    "<!-- BIBLIOGRAPHY END -->\n",
    "<!-- Logo -->\n",
    "<!-- Company Logo at Top Left -->\n",
    "<div style=\"position: absolute; top: 70px; left: 20px;\">\n",
    "    <img src=\"./Resources/neura.png\" alt=\"Company Logo\" style=\"max-width: 250px; width: 100%;\">\n",
    "</div>\n",
    "<div style=\"margin-top: 40px;display: flex;\">\n",
    "    <!-- Using the logo from the data folder and making it bigger -->\n",
    "    <img src=\"./Resources/rwth_igmr_de_rgb.png\" alt=\"Neura Robotics Logo\" style=\"max-width: 500px; width: 100%;margin-left: auto\">\n",
    "</div>\n",
    "    \n",
    "<div style=\"margin-bottom: 40px;\">\n",
    "    <p style = \"text-align: center\">This Thesis was submitted to the Institute of Mechanism Theory, Machine Dynamics and Robotics\n",
    "</div>\n",
    "    \n",
    "\n",
    "<div style=\"max-width: 1200px; font-family: 'Helvetica Neue', Arial, sans-serif; text-align: center;\">\n",
    "    <h2 style=\"margin-bottom: 20px;\">Sensor Fusion for Enhanced Joint Torque Estimation based on Machine Learning for Collaborative Robots with Dual Encoders\n",
    "</h2>\n",
    "</div>\n",
    "\n",
    "<div style=\"margin-top: 80px;\">\n",
    "    <h3 style = \"text-align: center\"> Masterthesis </h3>\n",
    "    <p style = \"text-align: center\"> by: \n",
    "    <p style = \"text-align: center\"> Allwin Lucious B.Sc. </p>\n",
    "    <p style = \"text-align: center\"> Student number: 429109 </p>\n",
    "</div>\n",
    "\n",
    "<div style=\"margin-top: 80px;\">\n",
    "    <h4 style = \"text-align: center\"> supervised by: </h4>\n",
    "    <p style = \"text-align: center\"> Nils Brückmann M.Sc.</p>\n",
    "    <p style = \"text-align: center\"> Jens Temminghoff M.Sc </p>\n",
    "    <p style = \"text-align: center\"> Tom Heitmann M.Sc </p>\n",
    "    <p style = \"text-align: center\"> Dr.-Ing. Sugeeth Gopinathan </p>\n",
    "</div>\n",
    "    \n",
    "<div style=\"margin-top: 80px;\">\n",
    "    <h4 style = \"text-align: center\"> Examiner: </h4>\n",
    "    <p style = \"text-align: center\"> Univ.-Prof. Dr.-Ing. Dr. h.c. Burkhard Corves </p>\n",
    "    <p style = \"text-align: center\"> Prof. Dr.-Ing. Mathias Hüsing </p>\n",
    "</div>\n",
    "\n",
    "<div style=\"margin-top: 80px;\">\n",
    "    <p style = \"text-align: center\"> Aachen, 28th August 2024 </p>\n",
    "</div>\n",
    "\n",
    "\n"
   ]
  },
  {
   "cell_type": "code",
   "execution_count": null,
   "id": "53834890-f6d5-4672-9bc0-17157b4b0749",
   "metadata": {},
   "outputs": [],
   "source": []
  }
 ],
 "metadata": {
  "citation-manager": {
   "items": {}
  },
  "kernelspec": {
   "display_name": "Python 3 (ipykernel)",
   "language": "python",
   "name": "python3"
  },
  "language_info": {
   "codemirror_mode": {
    "name": "ipython",
    "version": 3
   },
   "file_extension": ".py",
   "mimetype": "text/x-python",
   "name": "python",
   "nbconvert_exporter": "python",
   "pygments_lexer": "ipython3",
   "version": "3.8.19"
  }
 },
 "nbformat": 4,
 "nbformat_minor": 5
}
