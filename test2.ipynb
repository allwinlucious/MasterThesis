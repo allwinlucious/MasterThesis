{
 "cells": [
  {
   "cell_type": "code",
   "execution_count": null,
   "id": "d9c12751-8783-4d80-9e0d-d48fa81e8435",
   "metadata": {},
   "outputs": [],
   "source": []
  },
  {
   "cell_type": "markdown",
   "id": "90639137-c91c-4e45-8ee7-b9baddb6c7e7",
   "metadata": {},
   "source": [
    "## Kinematics\n",
    "\n",
    "The kinematics of a robot used in the thesis are introduced in this section along with some basic concepts and algorithmic implementations. The first subsection discusses the conversions between coordinate frames and the selected convention. Next, a brief explanation of the Geometric Jacobian computation procedure and forward kinematics is given."
   ]
  },
  {
   "cell_type": "markdown",
   "id": "18bc52c1-5900-4d05-932d-8125fc2cdb2b",
   "metadata": {
    "editable": true,
    "slideshow": {
     "slide_type": ""
    },
    "tags": []
   },
   "source": [
    "### Denavit-Hartenberg Convention"
   ]
  },
  {
   "cell_type": "markdown",
   "id": "261f5f20-58c1-4d6a-b089-62b8dd937ad6",
   "metadata": {
    "citation-manager": {
     "citations": {
      "10z4u": [
       {
        "id": "17740253/3J5DS9LQ",
        "source": "zotero"
       }
      ],
      "gx4bn": [
       {
        "id": "17740253/LY2FP5ZV",
        "source": "zotero"
       }
      ],
      "zhen5": [
       {
        "id": "17740253/LY2FP5ZV",
        "source": "zotero"
       }
      ]
     }
    },
    "editable": true,
    "slideshow": {
     "slide_type": ""
    },
    "tags": []
   },
   "source": [
    "Although reference frames attached to the links can be chosen arbitrarily, it is practical to select them systematically. A widely used convention for describing the \n",
    "kinematic geometry of robotic arms is the Denavit-Hartenberg (DH) convention <cite id=\"gx4bn\"><a href=\"#zotero%7C17740253%2FLY2FP5ZV\">(Ghosal, 2006)</a></cite><cite id=\"10z4u\"><a href=\"#zotero%7C17740253%2F3J5DS9LQ\">(Denavit &#38; Hartenberg, 2021)</a></cite>\n",
    "\n",
    "The homogeneous transformation between frame $i$ and $i-1$ is obtained by multiplying the rotation $\\mathbf{T}_{R_z}$ around the $\\hat{\\mathbf{z}}_{i-1}$-axis, the translation $\\mathbf{T}_{T_z}$ along the $\\hat{\\mathbf{z}}_{i-1}$-axis, the translation $\\mathbf{T}_{T_x}$ along the $\\hat{\\mathbf{x}}_i$-axis, and the rotation $\\mathbf{T}_{R_x}$ around the $\\hat{\\mathbf{x}}_i$-axis, as follows:\n",
    "\n",
    "\\begin{equation}\n",
    "{}^{i-1}\\mathbf{T}_i(\\theta_i, d_i, a_i, \\alpha_i) = \\mathbf{T}_{R_z}(\\theta_i) \\mathbf{T}_{T_z}(d_i) \\mathbf{T}_{T_x}(a_i) \\mathbf{T}_{R_x}(\\alpha_i)\n",
    "\\end{equation}\n",
    "\n",
    "Combining these, the homogeneous transformation matrix is:\n",
    "\n",
    "\\begin{equation}\n",
    "{}^{i-1}\\mathbf{T}_i(\\theta_i, d_i, a_i, \\alpha_i) = \n",
    "\\begin{bmatrix}\n",
    "c_{\\theta_i} & -s_{\\theta_i} c_{\\alpha_i} & s_{\\theta_i} s_{\\alpha_i} & a_i c_{\\theta_i} \\\\\n",
    "s_{\\theta_i} & c_{\\theta_i} c_{\\alpha_i} & -c_{\\theta_i} s_{\\alpha_i} & a_i s_{\\theta_i} \\\\\n",
    "0 & s_{\\alpha_i} & c_{\\alpha_i} & d_i \\\\\n",
    "0 & 0 & 0 & 1\n",
    "\\end{bmatrix}\n",
    "\\end{equation}\n",
    "\n",
    "In this expression, $c_{\\theta_i}$ and $s_{\\theta_i}$ represent $\\cos(\\theta_i)$ and $\\sin(\\theta_i)$, respectively. Notably, the homogeneous transformation ${}^{i-1}\\mathbf{T}_i(\\theta_i, d_i, a_i, \\alpha_i)$ depends on a single variable once the reference frame is established and the other parameters are fixed. This variable is determined by the type of joint: $d_i$ for prismatic joints and $\\theta_i$ for revolute joints. A more elaborate theory can be found in <cite id=\"zhen5\"><a href=\"#zotero%7C17740253%2FLY2FP5ZV\">(Ghosal, 2006)</a></cite>."
   ]
  },
  {
   "cell_type": "code",
   "execution_count": 1,
   "id": "7c885494-4a99-47aa-9d33-b3a1e59dfd90",
   "metadata": {},
   "outputs": [],
   "source": [
    "def dh_transform(a, alpha, d, theta):\n",
    "    \"\"\"\n",
    "    Compute Denavit-Hartenberg transformation matrix.\n",
    "    \"\"\"\n",
    "    return np.array([\n",
    "        [np.cos(theta), -np.sin(theta) * np.cos(alpha),  np.sin(theta) * np.sin(alpha), a * np.cos(theta)],\n",
    "        [np.sin(theta),  np.cos(theta) * np.cos(alpha), -np.cos(theta) * np.sin(alpha), a * np.sin(theta)],\n",
    "        [0,             np.sin(alpha),                 np.cos(alpha),                 d],\n",
    "        [0,             0,                             0,                             1]\n",
    "    ])"
   ]
  },
  {
   "cell_type": "markdown",
   "id": "aa97b273-91ee-4237-a061-060aa9d06ecc",
   "metadata": {
    "citation-manager": {
     "citations": {
      "10z4u": [
       {
        "id": "17740253/3J5DS9LQ",
        "source": "zotero"
       }
      ],
      "gx4bn": [
       {
        "id": "17740253/LY2FP5ZV",
        "source": "zotero"
       }
      ],
      "zhen5": [
       {
        "id": "17740253/LY2FP5ZV",
        "source": "zotero"
       }
      ]
     }
    },
    "editable": true,
    "slideshow": {
     "slide_type": ""
    },
    "tags": []
   },
   "source": [
    "\n",
    "Although reference frames attached to the links can be chosen arbitrarily, it is practical to select them systematically. A widely used convention for describing the position and orientation of successive link frames relative to each other is the Denavit-Hartenberg (DH) convention[DH55-jens] <cite id=\"gx4bn\"><a href=\"#zotero%7C17740253%2FLY2FP5ZV\">(Ghosal, 2006)</a></cite><cite id=\"10z4u\"><a href=\"#zotero%7C17740253%2F3J5DS9LQ\">(Denavit &#38; Hartenberg, 2021)</a></cite>\n",
    "\n",
    "\n",
    "#### define the parmaetrs \n",
    "\n",
    "The homogeneous transformation between frame $i$ and $i-1$ is obtained by multiplying the rotation $\\mathbf{T}_{R_z}$ around the $\\hat{\\mathbf{z}}_{i-1}$-axis, the translation $\\mathbf{T}_{T_z}$ along the $\\hat{\\mathbf{z}}_{i-1}$-axis, the translation $\\mathbf{T}_{T_x}$ along the $\\hat{\\mathbf{x}}_i$-axis, and the rotation $\\mathbf{T}_{R_x}$ around the $\\hat{\\mathbf{x}}_i$-axis, as follows:\n",
    "\n",
    "\\begin{equation}\n",
    "{}^{i-1}\\mathbf{T}_i(\\theta_i, d_i, a_i, \\alpha_i) = \\mathbf{T}_{R_z}(\\theta_i) \\mathbf{T}_{T_z}(d_i) \\mathbf{T}_{T_x}(a_i) \\mathbf{T}_{R_x}(\\alpha_i)\n",
    "\\label{eq:3.14} \\tag{3.14}\n",
    "\\end{equation}\n",
    "\n",
    "This sequence of transformations can be represented by the following matrix multiplications:\n",
    "\n",
    "$$\n",
    "\\mathbf{T}_{R_z}(\\theta_i) = \\begin{bmatrix}\n",
    "c_{\\theta_i} & -s_{\\theta_i} & 0 & 0 \\\\\n",
    "s_{\\theta_i} & c_{\\theta_i} & 0 & 0 \\\\\n",
    "0 & 0 & 1 & 0 \\\\\n",
    "0 & 0 & 0 & 1\n",
    "\\end{bmatrix}\n",
    "$$\n",
    "\n",
    "$$\n",
    "\\mathbf{T}_{T_z}(d_i) = \\begin{bmatrix}\n",
    "1 & 0 & 0 & 0 \\\\\n",
    "0 & 1 & 0 & 0 \\\\\n",
    "0 & 0 & 1 & d_i \\\\\n",
    "0 & 0 & 0 & 1\n",
    "\\end{bmatrix}\n",
    "$$\n",
    "\n",
    "$$\n",
    "\\mathbf{T}_{T_x}(a_i) = \\begin{bmatrix}\n",
    "1 & 0 & 0 & a_i \\\\\n",
    "0 & 1 & 0 & 0 \\\\\n",
    "0 & 0 & 1 & 0 \\\\\n",
    "0 & 0 & 0 & 1\n",
    "\\end{bmatrix}\n",
    "$$\n",
    "\n",
    "$$\n",
    "\\mathbf{T}_{R_x}(\\alpha_i) = \\begin{bmatrix}\n",
    "1 & 0 & 0 & 0 \\\\\n",
    "0 & c_{\\alpha_i} & -s_{\\alpha_i} & 0 \\\\\n",
    "0 & s_{\\alpha_i} & c_{\\alpha_i} & 0 \\\\\n",
    "0 & 0 & 0 & 1\n",
    "\\end{bmatrix}\n",
    "$$\n",
    "\n",
    "Combining these, the homogeneous transformation matrix is:\n",
    "\n",
    "\\begin{equation}\n",
    "{}^{i-1}\\mathbf{T}_i(\\theta_i, d_i, a_i, \\alpha_i) = \n",
    "\\begin{bmatrix}\n",
    "c_{\\theta_i} & -s_{\\theta_i} c_{\\alpha_i} & s_{\\theta_i} s_{\\alpha_i} & a_i c_{\\theta_i} \\\\\n",
    "s_{\\theta_i} & c_{\\theta_i} c_{\\alpha_i} & -c_{\\theta_i} s_{\\alpha_i} & a_i s_{\\theta_i} \\\\\n",
    "0 & s_{\\alpha_i} & c_{\\alpha_i} & d_i \\\\\n",
    "0 & 0 & 0 & 1\n",
    "\\end{bmatrix}\n",
    "\\label{eq:3.15} \\tag{3.15}\n",
    "\\end{equation}\n",
    "\n",
    "In this expression, $c_{\\theta_i}$ and $s_{\\theta_i}$ represent $\\cos(\\theta_i)$ and $\\sin(\\theta_i)$, respectively. Notably, the homogeneous transformation ${}^{i-1}\\mathbf{T}_i(\\theta_i, d_i, a_i, \\alpha_i)$ depends on a single variable once the reference frame is established and the other parameters are fixed. This variable is determined by the type of joint: $d_i$ for prismatic joints and $\\theta_i$ for revolute joints. A more elaborate theory can be found in <cite id=\"zhen5\"><a href=\"#zotero%7C17740253%2FLY2FP5ZV\">(Ghosal, 2006)</a></cite>."
   ]
  },
  {
   "cell_type": "code",
   "execution_count": 2,
   "id": "97b8c7ef-ca8c-44b3-8582-8b4f4e466c2f",
   "metadata": {
    "editable": true,
    "slideshow": {
     "slide_type": ""
    },
    "tags": []
   },
   "outputs": [],
   "source": [
    "def dh_transform(a, alpha, d, theta):\n",
    "    \"\"\"\n",
    "    Compute Denavit-Hartenberg transformation matrix.\n",
    "    \"\"\"\n",
    "    return np.array([\n",
    "        [np.cos(theta), -np.sin(theta) * np.cos(alpha),  np.sin(theta) * np.sin(alpha), a * np.cos(theta)],\n",
    "        [np.sin(theta),  np.cos(theta) * np.cos(alpha), -np.cos(theta) * np.sin(alpha), a * np.sin(theta)],\n",
    "        [0,             np.sin(alpha),                 np.cos(alpha),                 d],\n",
    "        [0,             0,                             0,                             1]\n",
    "    ])"
   ]
  },
  {
   "cell_type": "markdown",
   "id": "6062b2fc-cec4-4727-8768-cb9aee01158d",
   "metadata": {
    "editable": true,
    "slideshow": {
     "slide_type": ""
    },
    "tags": []
   },
   "source": [
    "### Forward Kinematics"
   ]
  },
  {
   "cell_type": "markdown",
   "id": "76b6068e-5f3b-423b-bc32-64ca872370af",
   "metadata": {
    "citation-manager": {
     "citations": {
      "wc30q": [
       {
        "id": "17740253/LY2FP5ZV",
        "source": "zotero"
       }
      ]
     }
    },
    "editable": true,
    "slideshow": {
     "slide_type": ""
    },
    "tags": []
   },
   "source": [
    "The kinematic representation of a robot manipulator consists of multiple links connected by joints. The links are generally rigid bodies that form the robot’s structure, while the joints are the movable components that connect these links. Joints can be either active, with an actuator, or passive, without an actuator. Additionally, joints are commonly found in serial robots are usually prismatic or revolute. Each type of such joint adds one degree of freedom (dof) to the system: the joint position $q_i$ for prismatic joints or the joint angle $q_i$ for revolute joints. The dof of an active joint can be controlled individually by a microcontroller, which relies on feedback from an encoder measuring the joint's position. The entire kinematic structure is typically referred to as a chain, which can be of two types:\n",
    "\n",
    "* Open chain: This configuration has only one path in the structure that connects the two extremes, commonly referred to as the base and the end-effector.\n",
    "* Closed chain: This configuration includes loops within the kinematic structure.\n",
    "\n",
    "\n",
    "In this thesis, only active revolute joints arranged in an open chain are considered.\n",
    "\n",
    "A common problem in robotics is determining the Cartesian position $\\mathbf{x} \\in \\mathbb{R}^3$ of a specific point on a link given the joint angles $\\mathbf{q} \\in \\mathbb{R}^n$. This problem is known as forward kinematics, which can be efficiently solved using homogeneous transformations. For instance, the position of the origin of the end-effector’s reference frame $\\text{RF}_e$ in the base frame $\\text{RF}_b$ can be determined using the following equation:\n",
    "\n",
    "$$\n",
    "{}^b\\mathbf{T}_e(\\mathbf{q}) = {}^b\\mathbf{T}_0 \\, {}^0\\mathbf{T}_1(q_1) \\cdots {}^{n-1}\\mathbf{T}_e(q_n) \\, {}^n\\mathbf{T}_e,\n",
    "$$\n",
    "\n",
    "where ${}^b\\mathbf{T}_0$ and ${}^n\\mathbf{T}_e$ are two constant homogeneous transformations needed to convert a point from frame 0 to the base frame and from the end-effector frame to frame $n$, respectively. For a more detailed description, refer to the relevant section in\n",
    " <cite id=\"wc30q\"><a href=\"#zotero%7C17740253%2FLY2FP5ZV\">(Ghosal, 2006)</a></cite>."
   ]
  },
  {
   "cell_type": "code",
   "execution_count": 3,
   "id": "2dd8c038-1b71-4607-abad-958186c33ce6",
   "metadata": {},
   "outputs": [],
   "source": [
    "def compute_forward_kinematics(joint_angles, dh_params):\n",
    "    \"\"\"\n",
    "    Compute the forward kinematics for a robot given DH parameters and joint angles.\n",
    "\n",
    "    :param dh_params: List of DH parameters [(a, alpha, d, theta), ...]\n",
    "    :param joint_angles: List of joint angles [theta1, theta2, ..., thetaN]\n",
    "    :return: List of transformation matrices from base to each joint and the final transformation matrix T_0_n\n",
    "    \"\"\"\n",
    "    num_joints = len(joint_angles)\n",
    "    T = np.eye(4)\n",
    "    transformations = [T.copy()]\n",
    "    \n",
    "    # Compute forward kinematics to get transformations\n",
    "    for i, (a, alpha, d, theta) in enumerate(dh_params):\n",
    "        theta += joint_angles[i]  # Update theta with joint angle\n",
    "        T_i = dh_transform(a, alpha, d, theta)\n",
    "        T = np.dot(T, T_i)\n",
    "        transformations.append(T.copy())\n",
    "    \n",
    "    T_0_n = transformations[-1]  # Final transformation matrix to the TCP (end-effector)\n",
    "    return transformations, T_0_n"
   ]
  },
  {
   "cell_type": "markdown",
   "id": "19b2d061-66ae-4fa8-8e1a-b47c4ce98249",
   "metadata": {
    "editable": true,
    "slideshow": {
     "slide_type": ""
    },
    "tags": []
   },
   "source": [
    "###  Geometric Jacobian"
   ]
  },
  {
   "cell_type": "markdown",
   "id": "19b0db79-2ec3-4cde-bd00-fba06422749e",
   "metadata": {
    "editable": true,
    "slideshow": {
     "slide_type": ""
    },
    "tags": []
   },
   "source": [
    "The differential kinematic gives the relationship between the joint velocities q̇ and\n",
    "the task space instantaneous velocities [ ṗ T , ω T ] T . where the vector ṗ = [ ẋ, ẏ, ż] T\n",
    "describes the Cartesian linear velocities, and ω = [ω x , ω y , ω z ] T are the angular\n",
    "velocities in the base frame. The matrix that maps these two quantities is called\n",
    "geometric Jacobian J (q) ∈ R 6×n\n",
    "$$\n",
    "\\begin{bmatrix}\n",
    "\\dot{\\mathbf{p}} \\\\\n",
    "\\boldsymbol{\\omega}\n",
    "\\end{bmatrix}\n",
    "= \\mathbf{J}(\\mathbf{q}) \\dot{\\mathbf{q}}.\n",
    "$$\n",
    "The reason why it is called geometric Jacobian is that the derivation is done in a\n",
    "geometric way and not directly via a time differentiation of the forward kinematics.\n",
    "This last Jacobian is called analytic Jacobian. Throughout this thesis, Jacobians are\n",
    "always meant to be the geometric Jacobians.\n",
    "It is helpful for the derivation to partition the Jacobian into 3 × 1 sub-vectors called\n",
    "j p,i and j o,i , where j p,i describes the contribution of joint i to the linear velocity\n",
    "and j o,i (q) describes the contribution of joint i to the angular velocity. With the\n",
    "partitioned Jacobian equation (2.6) is re-written as\n",
    "$$\n",
    "\\begin{pmatrix}\n",
    "\\dot{\\mathbf{p}} \\\\\n",
    "\\boldsymbol{\\omega}\n",
    "\\end{pmatrix}\n",
    "= \\begin{pmatrix}\n",
    "j_{p,1} & \\cdots & j_{p,n} \\\\\n",
    "j_{o,1} & \\cdots & j_{o,n}\n",
    "\\end{pmatrix}\n",
    "\\dot{\\mathbf{q}}.\n",
    "$$\n",
    "In the following, only revolute joints are considered for the Jacobian computation.\n",
    "An exaustive explanation can be found in [18]. It is convenient to proceed separately\n",
    "for the computation of the linear and angular velocity.\n",
    "#### Linear Velocity\n",
    "The linear velocity of the desired frame RF e due to the angular velocity of a\n",
    "revolute joint i can be calculated as follows\n",
    "$$\n",
    "J_{p,i} \\dot{q}_i = \\boldsymbol{\\omega}_{i-1,i} \\times \\mathbf{r}_{i-1,e} \\\\\n",
    "= \\dot{q}_i \\mathbf{z}_{i-1} \\times (\\mathbf{p}_{0,e} - \\mathbf{p}_{0,i-1}).\n",
    "$$\n",
    "The vector z i−1 describes the rotation axis of joint i, the vectors p 0,e and p 0,i−1 are\n",
    "the position of frame RF e and i − 1 relative to the base frame and represented in frame i. The joint velocity of revolute joint i is denoted by q̇ i and\n",
    "$$\n",
    "\\mathbf{J}_{p,i} = \\mathbf{z}_{i-1} \\times (\\mathbf{p}_{0,s} - \\mathbf{p}_{0,i-1}),\n",
    "$$\n",
    "holds.\n",
    "#### Angular Velocity\n",
    "The expression to calculate the relative angular velocity between two consecutive elements in the robot chain is given by\n",
    "\\begin{equation}\n",
    "\\boldsymbol{\\omega}_{i-1,i} = \\dot{q}_i \\mathbf{z}_{i-1}\n",
    "\\end{equation}\n",
    "where $\\boldsymbol{\\omega}_{i-1,i}$ describes the relative angular velocity from frame $i-1$ to frame $i$. For a revolute joint, the Jacobian that relates the angular velocity in the joint space to the angular velocity in the Cartesian space is given by\n",
    "\\begin{equation}\n",
    "\\mathbf{J}_{o,i} \\dot{q}_i = \\dot{q}_i \\mathbf{z}_{i-1}\n",
    "\\end{equation}\n",
    "and then\n",
    "\\begin{equation}\n",
    "\\mathbf{J}_{o,i} = \\mathbf{z}_{i-1}\n",
    "\\end{equation}\n",
    "where $\\mathbf{z}_{i-1}$ is the third column of ${}^0\\mathbf{R}_{i-1}$, hence the rotation axis of joint $i$, that is computed by\n",
    "\\begin{equation}\n",
    "\\mathbf{z}_{i-1} = {}^0\\mathbf{R}_1(q_1) \\cdots {}^{i-2}\\mathbf{R}_{i-1}(q_{i-1}) \\mathbf{z}_0.\n",
    "\\end{equation}\n",
    "Here, $\\mathbf{z}_0 = [0, 0, 1]^\\mathrm{T}$ allows the selection of the third column.\n",
    "\n"
   ]
  },
  {
   "cell_type": "code",
   "execution_count": 4,
   "id": "9cca0237-d489-452b-85a6-4ee7c8add5cb",
   "metadata": {
    "editable": true,
    "slideshow": {
     "slide_type": ""
    },
    "tags": []
   },
   "outputs": [],
   "source": [
    "def compute_geometric_jacobian(transformations):\n",
    "    \"\"\"\n",
    "    Compute the geometric Jacobian for a robot given the transformation matrices.\n",
    "\n",
    "    :param transformations: List of transformation matrices from the base to each joint\n",
    "    :return: Geometric Jacobian matrix (6 x N) in the base frame\n",
    "    \"\"\"\n",
    "    num_joints = len(transformations) - 1  # Excluding the base frame\n",
    "    jacobian_base = np.zeros((6, num_joints))\n",
    "    \n",
    "    # End-effector position\n",
    "    T_0_n = transformations[-1]\n",
    "    o_n = T_0_n[:3, 3]\n",
    "\n",
    "    # Compute each column of the Jacobian in the base frame\n",
    "    for i in range(num_joints):\n",
    "        T_0_i = transformations[i]\n",
    "        o_i = T_0_i[:3, 3]\n",
    "        z_i = T_0_i[:3, 2]\n",
    "\n",
    "        jacobian_base[:3, i] = np.cross(z_i, (o_n - o_i))  # Linear part\n",
    "        jacobian_base[3:, i] = z_i  # Angular part\n",
    "\n",
    "    return jacobian_base"
   ]
  },
  {
   "cell_type": "code",
   "execution_count": 5,
   "id": "40f36034-3857-4d69-9d90-e71fa92a2acf",
   "metadata": {},
   "outputs": [],
   "source": [
    "def convert_jacobian_to_tcp(jacobian_base, T_0_n):\n",
    "    \"\"\"\n",
    "    Convert a Jacobian from the base frame to the TCP frame.\n",
    "    \n",
    "    :param jacobian_base: Jacobian matrix in the base frame (6 x 6)\n",
    "    :param T_0_n: Transformation matrix from the base to the TCP (4 x 4)\n",
    "    :return: Jacobian matrix (6 x 6) in the TCP frame\n",
    "    \"\"\"\n",
    "    R_0_n = T_0_n[:3, :3]\n",
    "    T_base_to_tcp = np.block([\n",
    "        [R_0_n.T, np.zeros((3, 3))],\n",
    "        [np.zeros((3, 3)), R_0_n.T]\n",
    "    ])\n",
    "    \n",
    "    jacobian_tcp = np.dot(T_base_to_tcp, jacobian_base)\n",
    "    return jacobian_tcp"
   ]
  }
 ],
 "metadata": {
  "kernelspec": {
   "display_name": "Python 3 (ipykernel)",
   "language": "python",
   "name": "python3"
  },
  "language_info": {
   "codemirror_mode": {
    "name": "ipython",
    "version": 3
   },
   "file_extension": ".py",
   "mimetype": "text/x-python",
   "name": "python",
   "nbconvert_exporter": "python",
   "pygments_lexer": "ipython3",
   "version": "3.8.19"
  }
 },
 "nbformat": 4,
 "nbformat_minor": 5
}
