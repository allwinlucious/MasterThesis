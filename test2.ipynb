{
 "cells": [
  {
   "cell_type": "markdown",
   "id": "806ba6c3-ed7f-4a5d-8291-17c69fa37c10",
   "metadata": {},
   "source": [
    "<a href=\"#my_image_id\">See Image</a>"
   ]
  },
  {
   "cell_type": "markdown",
   "id": "90639137-c91c-4e45-8ee7-b9baddb6c7e7",
   "metadata": {},
   "source": [
    "## Kinematics\n",
    "\n",
    "The kinematics of a robot used in the thesis are introduced in this section along with some basic concepts and algorithmic implementations. The first subsection discusses the conversions between coordinate frames and the selected convention. Next, a brief explanation of the Geometric Jacobian computation procedure and forward kinematics is given."
   ]
  },
  {
   "cell_type": "markdown",
   "id": "18bc52c1-5900-4d05-932d-8125fc2cdb2b",
   "metadata": {
    "editable": true,
    "slideshow": {
     "slide_type": ""
    },
    "tags": []
   },
   "source": [
    "### Denavit-Hartenberg Convention and Transformation Matrix"
   ]
  },
  {
   "cell_type": "markdown",
   "id": "261f5f20-58c1-4d6a-b089-62b8dd937ad6",
   "metadata": {
    "citation-manager": {
     "citations": {
      "10z4u": [
       {
        "id": "17740253/3J5DS9LQ",
        "source": "zotero"
       }
      ],
      "gx4bn": [
       {
        "id": "17740253/LY2FP5ZV",
        "source": "zotero"
       }
      ],
      "zhen5": [
       {
        "id": "17740253/LY2FP5ZV",
        "source": "zotero"
       }
      ]
     }
    },
    "editable": true,
    "slideshow": {
     "slide_type": ""
    },
    "tags": []
   },
   "source": [
    "Although reference frames attached to the links can be chosen arbitrarily, it is practical to select them systematically. A widely used convention for describing the \n",
    "kinematic geometry of robotic arms is the Denavit-Hartenberg (DH) convention <cite id=\"gx4bn\"><a href=\"#zotero%7C17740253%2FLY2FP5ZV\">(Ghosal, 2006)</a></cite><cite id=\"10z4u\"><a href=\"#zotero%7C17740253%2F3J5DS9LQ\">(Denavit &#38; Hartenberg, 2021)</a></cite> and is followed in this thesis.\n",
    "\n",
    "The homogeneous transformation between frame $i$ and $i-1$ is obtained by multiplying the rotation $\\mathbf{T}_{R_z}$ around the $\\hat{\\mathbf{z}}_{i-1}$-axis, the translation $\\mathbf{T}_{T_z}$ along the $\\hat{\\mathbf{z}}_{i-1}$-axis, the translation $\\mathbf{T}_{T_x}$ along the $\\hat{\\mathbf{x}}_i$-axis, and the rotation $\\mathbf{T}_{R_x}$ around the $\\hat{\\mathbf{x}}_i$-axis, as follows:\n",
    "\n",
    "\\begin{equation}\n",
    "{}^{i-1}\\mathbf{T}_i(\\theta_i, d_i, a_i, \\alpha_i) = \\mathbf{T}_{R_z}(\\theta_i) \\mathbf{T}_{T_z}(d_i) \\mathbf{T}_{T_x}(a_i) \\mathbf{T}_{R_x}(\\alpha_i)\n",
    "\\end{equation}\n",
    "\n",
    "Combining these, the homogeneous transformation matrix is:\n",
    "\n",
    "\\begin{equation}\n",
    "{}^{i-1}\\mathbf{T}_i(\\theta_i, d_i, a_i, \\alpha_i) = \n",
    "\\begin{bmatrix}\n",
    "c_{\\theta_i} & -s_{\\theta_i} c_{\\alpha_i} & s_{\\theta_i} s_{\\alpha_i} & a_i c_{\\theta_i} \\\\\n",
    "s_{\\theta_i} & c_{\\theta_i} c_{\\alpha_i} & -c_{\\theta_i} s_{\\alpha_i} & a_i s_{\\theta_i} \\\\\n",
    "0 & s_{\\alpha_i} & c_{\\alpha_i} & d_i \\\\\n",
    "0 & 0 & 0 & 1\n",
    "\\end{bmatrix}\n",
    "\\end{equation}\n",
    "\n",
    "In this expression, $c_{\\theta_i}$ and $s_{\\theta_i}$ represent $\\cos(\\theta_i)$ and $\\sin(\\theta_i)$, respectively. Notably, the homogeneous transformation ${}^{i-1}\\mathbf{T}_i(\\theta_i, d_i, a_i, \\alpha_i)$ depends on a single variable once the reference frame is established and the other parameters are fixed. This variable is determined by the type of joint: $d_i$ for prismatic joints and $\\theta_i$ for revolute joints. A more elaborate theory can be found in <cite id=\"zhen5\"><a href=\"#zotero%7C17740253%2FLY2FP5ZV\">(Ghosal, 2006)</a></cite>."
   ]
  },
  {
   "cell_type": "code",
   "execution_count": 1,
   "id": "7c885494-4a99-47aa-9d33-b3a1e59dfd90",
   "metadata": {},
   "outputs": [],
   "source": [
    "def dh_transform(a, alpha, d, theta):\n",
    "    \"\"\"\n",
    "    Compute Denavit-Hartenberg transformation matrix.\n",
    "    \"\"\"\n",
    "    return np.array([\n",
    "        [np.cos(theta), -np.sin(theta) * np.cos(alpha),  np.sin(theta) * np.sin(alpha), a * np.cos(theta)],\n",
    "        [np.sin(theta),  np.cos(theta) * np.cos(alpha), -np.cos(theta) * np.sin(alpha), a * np.sin(theta)],\n",
    "        [0,             np.sin(alpha),                 np.cos(alpha),                 d],\n",
    "        [0,             0,                             0,                             1]\n",
    "    ])"
   ]
  },
  {
   "cell_type": "markdown",
   "id": "6062b2fc-cec4-4727-8768-cb9aee01158d",
   "metadata": {
    "editable": true,
    "slideshow": {
     "slide_type": ""
    },
    "tags": []
   },
   "source": [
    "### Forward Kinematics"
   ]
  },
  {
   "cell_type": "markdown",
   "id": "76b6068e-5f3b-423b-bc32-64ca872370af",
   "metadata": {
    "editable": true,
    "slideshow": {
     "slide_type": ""
    },
    "tags": []
   },
   "source": [
    "In a robotic manipulator, the links are generally rigid bodies that form the robot’s structure, while the joints are the movable components that join two or multiple links. Joints can be  with an actuator (active joints), or without an actuator (passive joints).Joints commonly found in serial robots are usually prismatic or revolute. Each type of such joint adds one degree of freedom (dof) to the system: the joint position $d_i$ for prismatic joints or the joint angle $q_i$ for revolute joints. The entire kinematic structure is typically referred to as a chain, which can be of two types:\n",
    "\n",
    "* Open chain: In this configuration, the two extremes, also known as the base and the end-effector are connected by a single path in the structure.\n",
    "* Closed chain: The kinematic structure of this configuration has loops.\n",
    "\n",
    "The robot used in this thesis consists only of active revolute joint in an open chain configuration.\n",
    "\n",
    "A common problem in robotics is determining the Cartesian position and orientation $\\mathbf{x} \\in \\mathbb{R}^6$ of a specific point on a link given the joint angles $\\mathbf{q} \\in \\mathbb{R}^n$. This problem is known as forward kinematics, which can be efficiently solved using homogeneous transformations. The position of the origin of the end-effector’s reference frame $\\text{RF}_e$ in the base frame $\\text{RF}_b$ can be determined using the following equation:\n",
    "\n",
    "$$\n",
    "{}^b\\mathbf{T}_e(\\mathbf{q}) = {}^b\\mathbf{T}_0 \\, {}^0\\mathbf{T}_1(q_1) \\cdots {}^{n-1}\\mathbf{T}_e(q_n) \\, {}^n\\mathbf{T}_e,\n",
    "$$\n",
    "\n",
    "where the two constant homogeneous transformations required to convert a point from frame 0 to the base frame and from the end-effector frame to frame $n$, respectively, are denoted by ${}^b\\mathbf{T}_0$ and ${}^n\\mathbf{T}_e$.\n",
    "\n",
    " The following algorithmic implementation computes the transformation between all reference frames in the robot defined in the dh parameters."
   ]
  },
  {
   "cell_type": "code",
   "execution_count": 3,
   "id": "2dd8c038-1b71-4607-abad-958186c33ce6",
   "metadata": {},
   "outputs": [],
   "source": [
    "def compute_forward_kinematics(joint_angles, dh_params):\n",
    "    \"\"\"\n",
    "    Compute the forward kinematics for a robot given DH parameters and joint angles.\n",
    "\n",
    "    :param dh_params: List of DH parameters [(a, alpha, d, theta), ...]\n",
    "    :param joint_angles: List of joint angles [theta1, theta2, ..., thetaN]\n",
    "    :return: List of transformation matrices from base to each joint and the final transformation matrix T_0_n\n",
    "    \"\"\"\n",
    "    num_joints = len(joint_angles)\n",
    "    T = np.eye(4)\n",
    "    transformations = [T.copy()]\n",
    "    \n",
    "    # Compute forward kinematics to get transformations\n",
    "    for i, (a, alpha, d, theta) in enumerate(dh_params):\n",
    "        theta += joint_angles[i]  # Update theta with joint angle\n",
    "        T_i = dh_transform(a, alpha, d, theta)\n",
    "        T = np.dot(T, T_i)\n",
    "        transformations.append(T.copy())\n",
    "    \n",
    "    T_0_n = transformations[-1]  # Final transformation matrix to the TCP (end-effector)\n",
    "    return transformations, T_0_n"
   ]
  },
  {
   "cell_type": "markdown",
   "id": "19b2d061-66ae-4fa8-8e1a-b47c4ce98249",
   "metadata": {
    "editable": true,
    "slideshow": {
     "slide_type": ""
    },
    "tags": []
   },
   "source": [
    "###  Geometric Jacobian"
   ]
  },
  {
   "cell_type": "markdown",
   "id": "19b0db79-2ec3-4cde-bd00-fba06422749e",
   "metadata": {
    "editable": true,
    "slideshow": {
     "slide_type": ""
    },
    "tags": []
   },
   "source": [
    "The geometric Jacobian matrix, $J(q) ∈ R^(6×n)$, transforms the joint space velocities $q̇$, into Cartesian space velocities $ẋ$. This relationship is represented by the equation:\n",
    "\\begin{equation}\n",
    "\\dot{\\mathbf{x}} = \n",
    "\\begin{bmatrix}\n",
    "\\dot{\\mathbf{p}} \\\\\n",
    "\\boldsymbol{\\omega}\n",
    "\\end{bmatrix} \n",
    "= \\mathbf{J}(\\mathbf{q}) \\dot{\\mathbf{q}},\n",
    "\\end{equation}\n",
    "where $\\dot p = [ \\dot x, \\dot y, \\dot z ]^T $represents the linear velocities and $\\omega = [ \\omega_x, \\omega_y, \\omega_z ]^T$ represents the angular velocities of the robot's end-effector in the base frame. The geometric Jacobian is calculated based on the robot's geometry at a specific instance. An elaborate theortical background can be found in [], an algorithmic implementation is shown below. "
   ]
  },
  {
   "cell_type": "code",
   "execution_count": 4,
   "id": "9cca0237-d489-452b-85a6-4ee7c8add5cb",
   "metadata": {
    "editable": true,
    "slideshow": {
     "slide_type": ""
    },
    "tags": []
   },
   "outputs": [],
   "source": [
    "def compute_geometric_jacobian(transformations):\n",
    "    \"\"\"\n",
    "    Compute the geometric Jacobian for a robot given the transformation matrices.\n",
    "\n",
    "    :param transformations: List of transformation matrices from the base to each joint\n",
    "    :return: Geometric Jacobian matrix (6 x N) in the base frame\n",
    "    \"\"\"\n",
    "    num_joints = len(transformations) - 1  # Excluding the base frame\n",
    "    jacobian_base = np.zeros((6, num_joints))\n",
    "    \n",
    "    # End-effector position\n",
    "    T_0_n = transformations[-1]\n",
    "    o_n = T_0_n[:3, 3]\n",
    "\n",
    "    # Compute each column of the Jacobian in the base frame\n",
    "    for i in range(num_joints):\n",
    "        T_0_i = transformations[i]\n",
    "        o_i = T_0_i[:3, 3]\n",
    "        z_i = T_0_i[:3, 2]\n",
    "\n",
    "        jacobian_base[:3, i] = np.cross(z_i, (o_n - o_i))  # Linear part\n",
    "        jacobian_base[3:, i] = z_i  # Angular part\n",
    "\n",
    "    return jacobian_base"
   ]
  },
  {
   "cell_type": "code",
   "execution_count": 5,
   "id": "40f36034-3857-4d69-9d90-e71fa92a2acf",
   "metadata": {},
   "outputs": [],
   "source": [
    "def convert_jacobian_to_tcp(jacobian_base, T_0_n):\n",
    "    \"\"\"\n",
    "    Convert a Jacobian from the base frame to the TCP frame.\n",
    "    \n",
    "    :param jacobian_base: Jacobian matrix in the base frame (6 x 6)\n",
    "    :param T_0_n: Transformation matrix from the base to the TCP (4 x 4)\n",
    "    :return: Jacobian matrix (6 x 6) in the TCP frame\n",
    "    \"\"\"\n",
    "    R_0_n = T_0_n[:3, :3]\n",
    "    T_base_to_tcp = np.block([\n",
    "        [R_0_n.T, np.zeros((3, 3))],\n",
    "        [np.zeros((3, 3)), R_0_n.T]\n",
    "    ])\n",
    "    \n",
    "    jacobian_tcp = np.dot(T_base_to_tcp, jacobian_base)\n",
    "    return jacobian_tcp"
   ]
  }
 ],
 "metadata": {
  "citation-manager": {
   "items": {
    "zotero": {
     "17740253/3J5DS9LQ": {
      "DOI": "10.1115/1.4011045",
      "URL": "https://doi.org/10.1115/1.4011045",
      "abstract": "A symbolic notation devised by Reuleaux to describe mechanisms did not recognize the necessary number of variables needed for complete description. A reconsideration of the problem leads to a symbolic notation which permits the complete description of the kinematic properties of all lower-pair mechanisms by means of equations. The symbolic notation also yields a method for studying lower-pair mechanisms by means of matrix algebra; two examples of application to space mechanisms are given.",
      "accessed": {
       "date-parts": [
        [
         2024,
         8,
         8
        ]
       ]
      },
      "author": [
       {
        "family": "Denavit",
        "given": "J."
       },
       {
        "family": "Hartenberg",
        "given": "R. S."
       }
      ],
      "container-title": "Journal of Applied Mechanics",
      "id": "17740253/3J5DS9LQ",
      "issue": "2",
      "issued": {
       "date-parts": [
        [
         2021,
         6,
         4
        ]
       ]
      },
      "journalAbbreviation": "Journal of Applied Mechanics",
      "page": "215-221",
      "system_id": "zotero|17740253/3J5DS9LQ",
      "title": "A Kinematic Notation for Lower-Pair Mechanisms Based on Matrices",
      "type": "article-journal",
      "volume": "22"
     },
     "17740253/LY2FP5ZV": {
      "ISBN": "978-0-19-567391-3",
      "URL": "https://books.google.de/books?id=GsRhAAAACAAJ",
      "author": [
       {
        "family": "Ghosal",
        "given": "A."
       }
      ],
      "id": "17740253/LY2FP5ZV",
      "issued": {
       "date-parts": [
        [
         2006
        ]
       ]
      },
      "note": "LCCN: 2006279366",
      "publisher": "OUP India",
      "system_id": "zotero|17740253/LY2FP5ZV",
      "title": "ROBOTICS: FUNDAMENTAL CONCEPTS AND ANALYSIS",
      "type": "book"
     }
    }
   }
  },
  "kernelspec": {
   "display_name": "Python 3 (ipykernel)",
   "language": "python",
   "name": "python3"
  },
  "language_info": {
   "codemirror_mode": {
    "name": "ipython",
    "version": 3
   },
   "file_extension": ".py",
   "mimetype": "text/x-python",
   "name": "python",
   "nbconvert_exporter": "python",
   "pygments_lexer": "ipython3",
   "version": "3.8.19"
  }
 },
 "nbformat": 4,
 "nbformat_minor": 5
}
