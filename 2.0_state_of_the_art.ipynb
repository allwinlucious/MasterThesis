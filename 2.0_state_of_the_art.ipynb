{
 "cells": [
  {
   "cell_type": "markdown",
   "id": "0ddff12a-457b-422e-a1c1-3165ca0572c8",
   "metadata": {
    "editable": true,
    "slideshow": {
     "slide_type": ""
    },
    "tags": []
   },
   "source": []
  },
  {
   "cell_type": "markdown",
   "id": "055dea4a-da3c-435f-9805-775319233482",
   "metadata": {},
   "source": [
    "# State of the Art\n",
    "\n",
    "This chapter will cover the state of the art in torque and force estimation methods for robotic systems, focusing on sensorless techniques that utilize motor current and position measurements. It will examine the advancements in harmonic drive transmission-based and motor current-based methods. Additionally, the chapter will discuss the studies that incorporated machine learning and Kalman filtering into these models to enhance accuracy and robustness.\n",
    "\n",
    "## Harmonic Drive Transmission and Dual Encoder-Based Torque Estimation\n",
    "A study by [zhang] uses only position measurements from motor-side and link-side encoders to provide a method for estimating joint torque in robotic systems that use harmonic drives. The approach considers kinematic errors and nonlinearities when modelling the harmonic drive's torsional compliance. The measured torsional deformation of the flexspline ($Δθ_{fs}$), which is obtained from position measurements using the following equation: \n",
    "$$\n",
    "τ_{fs}=\\frac{tan⁡(Δθ_{fs}C_{fs}K_{fs0})}{C_{fs}},\n",
    "$$\n",
    "where $K_{fs0}$ is the initial stiffness, and $C_{fs}$ is a compliance constant and are both obtained emperically. This yields the estimated torque $τ_{fs}$. \n",
    "\n",
    "This method does not consider the harmonic drive system's dynamic frictional effects and structural damping. Errors in estimation arise from these unmodeled dynamics, particularly when there are sudden changes in load or direction.\n",
    "A following study by Ismail [cite] builds up on this research to address this by introducing a simplified approach that leverages the structural damping friction of the harmonic drive system, which is mentioned to have a good correlation with the output torque from the transmission. The method simplifies the torque estimation process by focusing on the torsional rate rather than relying on nonlinear compliance models. The flexspline torsional deformation rate $\\Delta \\dot\\thetȧ_{fs}$ is used along with a linear dynamic model to estimate the torque, represented by:\n",
    "$$\n",
    "T_{fs} = T_{fs0} + B_{st} \\Delta \\thetȧ_{fs} e^{- t/\\tau},\n",
    "$$\n",
    "where $B_{st}$ obtained empirically is the structural damping friction parameter, $e^{- t/\\tau}$ is low pass filter with a time constant $\\tau$ and $T_{sf0}$ is the initial torque when motor output torque is zero. In the proposed method, the torsional rate $\\Delta \\thetȧ_{fs}$ is set to zero when the absolute value of the total torsional deformation $Δθ$ falls below a predefined threshold. This condition minimizes amplification of noise and small, insignificant deformations that do not correlate strongly with the actual torque. However, this discontinuity causes torque ripples in the estimates and limits performance in low torsional rate scenarios. \n",
    "\n",
    "Another research [Kerui Xia] using the compliance model reported that it degrades performance when coupling characteristics are involved and proposes a hybrid method to study this complex nonlinearity. By combining the harmonic drive compliance model with Gaussian Process Regression (GPR), this method enhances torque estimation precision by using GPR to correct the compliance model's predictions. The hybrid model is expressed as:\n",
    "$$\n",
    "\\tau_f = \\frac{\\tan(\\Delta \\theta_f C_f K_f)}{C_f} + f(\\theta_f, \\theta_w, I_m),\n",
    "$$\n",
    "\n",
    "where $f(\\theta_f, \\theta_w, I_m)$ represents the GPR-learned correction term based on link-side angles $\\theta_f$, motor-side angles $\\theta_w$, and motor current $I_m$. Although the model has only been tested primarily on an open kinematic chain with two links, this approach involving machine learning and including motor currents and encoder readings showed promising results. \n",
    "\n",
    "More studies build on the compliance model by [Zhang], like [Minghong], which introduced an Unscented Kalman Filter (UKF) to enhance torque estimation accuracy in robotic joints with harmonic drives. However, like the previous models, it was developed and tested on simple systems, and its performance in more complex robots like a 6-DOF serial manipulator has not been explored. Therefore, while these papers provide a solid introduction to state-of-the-art harmonic drive-based torque estimation methods, their applicability to more complex, multi-joint robotic systems whith dominant coupling characteristics remain uncertain. \n",
    "\n",
    "## Motor Current-Based Approaches\n",
    "\n",
    " **Li et al.** presented a method[cite] for force estimation using motor current measurements, eliminating the need for additional sensors. This approach leverages the dynamic model of the robotic manipulator, where the relationship between motor torques and motor currents is given by $\\tau_m = K I_m$, with $K$ being the motor torque constant and $I_m$ the motor current.\n",
    "\n",
    "The method estimates the external forces and torques at the end-effector by incorporating the motor current-based torque estimates into the manipulator's dynamic equation. According to the dynamics, the relationship can be expressed as:\n",
    "\n",
    "$$\n",
    "M(q)\\ddot{q} + C(q, \\dot{q})\\dot{q} + G(q) + \\tau_{f} = KI_m - J^T(q)f,\n",
    "$$\n",
    "\n",
    "where:\n",
    "- $M(q)\\ddot{q}$ is the inertia-related term.\n",
    "- $C(q,\\dot{q})\\dot{q}$ represents Coriolis and centrifugal forces.\n",
    "- $G(q)$ accounts for gravitational forces.\n",
    "- $\\tau_f$ is the friction torque.\n",
    "- $K I_m$ is the motor torque derived from the motor currents.\n",
    "- $J^T(q)f$ is the contribution of the external forces and torques at the end-effector.\n",
    "\n",
    "By rearranging this equation to solve for the external wrench  $f$, the method estimates the forces and torques acting on the end-effector based on the motor currents. This approach has been validated on a 6-DOF manipulator, demonstrating reliable force estimation and offering a cost-effective, sensorless alternative for force-controlled tasks in robotics.\n",
    "\n",
    "However, this approach is affected by the noisy nature of acceleration data derived from double differentiation of position measurements. To address this, **Van Damme et al.** propose a generalized momentum-based disturbance observer that avoids the need for acceleration measurements altogether.\n",
    "\n",
    "In this approach[cite], the generalized momentum $p$ is defined as:\n",
    "$$\n",
    "p = H(q)\\dot{q},\n",
    "$$\n",
    "where $H(q)$ is the inertia matrix and $\\dot{q}$ is the joint velocity vector. The time derivative of the generalized momentum is given by:\n",
    "$$\n",
    "\\dot{p} = \\tau + C^T(q, \\dot{q})\\dot{q} - G(q) - \\tau_f(\\dot{q}) + \\tau_d,\n",
    "$$\n",
    "where $\\tau$ represents the actuator torques, $C^T(q, \\dot{q})\\dot{q}$ includes Coriolis and centrifugal forces, $G(q)$ accounts for gravity, $\\tau_f(\\dot{q})$ represents friction, and $\\tau_d$ is the disturbance torque, which is attributed to external forces acting on the end-effector.\n",
    "\n",
    "The generalized momentum-based observer allows for the estimation of these disturbance torques, and subsequently, the external forces, without the need to directly measure or estimate acceleration. Hence, this approach provides a more accurate and noise-resistant estimation of external forces.\n",
    "\n",
    "Building upon this, **Wahrburg et al.** proposes a method that combines the generalized momentum approach with a Kalman filter, improving estimation accuracy and robustness.\n",
    "By integrating a Kalman filter, the method accounts for measurement noise and uncertainty in the friction model, refining the estimate of external forces $f$. The Kalman filter models the wrench $f$ as a constant with a small noise term, resulting in a more accurate and robust estimation:\n",
    "$$\n",
    "\\dot{p} = \\tau - J^T(q)f + w_p,\n",
    "$$\n",
    "where $w_p$ represents the process noise. By modeling the wrench $f$ as a constant with a small noise term, the Kalman filter refines the estimate of $f$.\n"
   ]
  },
  {
   "cell_type": "code",
   "execution_count": null,
   "id": "4f540e10-d65e-4bba-9293-021b35d3ae80",
   "metadata": {},
   "outputs": [],
   "source": []
  }
 ],
 "metadata": {
  "citation-manager": {
   "items": {}
  },
  "kernelspec": {
   "display_name": "Python 3 (ipykernel)",
   "language": "python",
   "name": "python3"
  },
  "language_info": {
   "codemirror_mode": {
    "name": "ipython",
    "version": 3
   },
   "file_extension": ".py",
   "mimetype": "text/x-python",
   "name": "python",
   "nbconvert_exporter": "python",
   "pygments_lexer": "ipython3",
   "version": "3.8.19"
  }
 },
 "nbformat": 4,
 "nbformat_minor": 5
}
