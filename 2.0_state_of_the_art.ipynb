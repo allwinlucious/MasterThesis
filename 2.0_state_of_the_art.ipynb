{
 "cells": [
  {
   "cell_type": "markdown",
   "id": "0ddff12a-457b-422e-a1c1-3165ca0572c8",
   "metadata": {},
   "source": [
    "In traditional robotic systems, joint torque sensors are used to measure the total torque at a joint, including both internal and external components. However, due to the inherent properties of HDTs, such as high friction and complex mechanical behavior, a significant portion of the measured torque does not contribute to the actual movement of the robot's link but is rather dissipated internally.\n",
    "\n",
    "To address this, the current research paradigm emphasizes the importance of isolating and accurately estimating the external torque component. External torques are critical as they directly affect the robot's interaction with its environment, such as during tasks involving physical manipulation or contact with objects. While the internal torques due to friction and position-dependent effects are known and can be compensated for, the external torque estimation remains challenging and is the focus of this work.\n",
    "\n",
    "This thesis explores various methods to estimate these external torques, leveraging both traditional analytical approaches and modern machine learning techniques. The analytical methods provide a foundation by modeling known internal forces, while the machine learning approaches aim to capture the residuals and complexities not accounted for by these models, particularly the external torques. This dual approach not only enhances the accuracy of torque estimation but also contributes to the development of a more comprehensive virtual joint torque sensor."
   ]
  },
  {
   "cell_type": "code",
   "execution_count": null,
   "id": "3f2deb7f-a968-48f9-a274-41dc83069f5b",
   "metadata": {},
   "outputs": [],
   "source": []
  }
 ],
 "metadata": {
  "citation-manager": {
   "items": {}
  },
  "kernelspec": {
   "display_name": "Python 3 (ipykernel)",
   "language": "python",
   "name": "python3"
  },
  "language_info": {
   "codemirror_mode": {
    "name": "ipython",
    "version": 3
   },
   "file_extension": ".py",
   "mimetype": "text/x-python",
   "name": "python",
   "nbconvert_exporter": "python",
   "pygments_lexer": "ipython3",
   "version": "3.8.19"
  }
 },
 "nbformat": 4,
 "nbformat_minor": 5
}
