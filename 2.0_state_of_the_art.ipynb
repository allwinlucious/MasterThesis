{
 "cells": [
  {
   "cell_type": "markdown",
   "id": "0ddff12a-457b-422e-a1c1-3165ca0572c8",
   "metadata": {
    "editable": true,
    "slideshow": {
     "slide_type": ""
    },
    "tags": []
   },
   "source": [
    "In traditional robotic systems, joint torque sensors are used to measure the total torque at a joint, including both internal and external components. However, due to the inherent properties of HDTs, such as high friction and complex mechanical behavior, a significant portion of the measured torque does not contribute to the actual movement of the robot's link but is rather dissipated internally.\n",
    "\n",
    "To address this, the current research paradigm emphasizes the importance of isolating and accurately estimating the external torque component. External torques are critical as they directly affect the robot's interaction with its environment, such as during tasks involving physical manipulation or contact with objects. While the internal torques due to friction and position-dependent effects are known and can be compensated for, the external torque estimation remains challenging and is the focus of this work.\n",
    "\n",
    "This thesis explores various methods to estimate these external torques, leveraging both traditional analytical approaches and modern machine learning techniques. The analytical methods provide a foundation by modeling known internal forces, while the machine learning approaches aim to capture the residuals and complexities not accounted for by these models, particularly the external torques. This dual approach not only enhances the accuracy of torque estimation but also contributes to the development of a more comprehensive virtual joint torque sensor."
   ]
  },
  {
   "cell_type": "markdown",
   "id": "06eb37b1-b312-4e23-8c84-a1b0fcb92f1f",
   "metadata": {
    "editable": true,
    "slideshow": {
     "slide_type": ""
    },
    "tags": []
   },
   "source": [
    "\\ref{fig:somelabel} is the image"
   ]
  },
  {
   "cell_type": "markdown",
   "id": "eb4b61a4-6e89-4ce6-beff-4db0baf0f210",
   "metadata": {
    "editable": true,
    "slideshow": {
     "slide_type": ""
    },
    "tags": []
   },
   "source": [
    "\\begin{equation}\n",
    "\\int f(x)\\,\\text{d}x = F(x)\n",
    "\\label{eq1}\n",
    "\\tag{eq1text}\n",
    "\\end{equation}"
   ]
  },
  {
   "cell_type": "markdown",
   "id": "6a0a7d9f-d3b9-48c1-a5e1-607298179925",
   "metadata": {},
   "source": [
    "\\ref{eq1} is the equation"
   ]
  },
  {
   "cell_type": "code",
   "execution_count": 32,
   "id": "6bf1df74-3d32-41ef-bf98-f0ec3374be63",
   "metadata": {},
   "outputs": [
    {
     "name": "stdout",
     "output_type": "stream",
     "text": [
      "Geometric Jacobian:\n",
      "[[ 0.     0.917  0.437  0.     0.087  0.   ]\n",
      " [ 0.756  0.     0.    -0.     0.    -0.   ]\n",
      " [-0.    -0.756 -0.756  0.    -0.15   0.   ]\n",
      " [ 0.     0.     0.     0.866  0.     0.866]\n",
      " [ 0.     1.     1.     0.     1.     0.   ]\n",
      " [ 1.     0.     0.     0.5    0.     0.5  ]]\n"
     ]
    },
    {
     "data": {
      "text/plain": [
       "array([2.64829870e-18, 1.16027681e+00, 6.80276810e-01, 3.06161700e-17,\n",
       "       9.36494592e-01, 3.06161700e-17])"
      ]
     },
     "execution_count": 32,
     "metadata": {},
     "output_type": "execute_result"
    }
   ],
   "source": [
    "\n",
    "import numpy as np\n",
    "\n",
    "def dh_transform(a, alpha, d, theta):\n",
    "    \"\"\"\n",
    "    Compute Denavit-Hartenberg transformation matrix.\n",
    "    \"\"\"\n",
    "    return np.array([\n",
    "        [np.cos(theta), -np.sin(theta) * np.cos(alpha),  np.sin(theta) * np.sin(alpha), a * np.cos(theta)],\n",
    "        [np.sin(theta),  np.cos(theta) * np.cos(alpha), -np.cos(theta) * np.sin(alpha), a * np.sin(theta)],\n",
    "        [0,             np.sin(alpha),                 np.cos(alpha),                 d],\n",
    "        [0,             0,                             0,                             1]\n",
    "    ])\n",
    "\n",
    "def compute_geometric_jacobian(dh_params, joint_angles):\n",
    "    \"\"\"\n",
    "    Compute the geometric Jacobian for a robot given DH parameters and joint angles.\n",
    "\n",
    "    :param dh_params: List of DH parameters [(a, alpha, d, theta), ...]\n",
    "    :param joint_angles: List of joint angles [theta1, theta2, ..., thetaN]\n",
    "    :return: Geometric Jacobian matrix (6 x N)\n",
    "    \"\"\"\n",
    "    num_joints = len(joint_angles)\n",
    "    T = np.eye(4)\n",
    "    transformations = [T.copy()]\n",
    "    \n",
    "    # Compute forward kinematics to get transformations\n",
    "    for i, (a, alpha, d, theta) in enumerate(dh_params):\n",
    "        theta += joint_angles[i]  # Update theta with joint angle\n",
    "        T_i = dh_transform(a, alpha, d, theta)\n",
    "        T = np.dot(T, T_i)\n",
    "        transformations.append(T.copy())\n",
    "    \n",
    "    # Initialize Jacobian matrix\n",
    "    jacobian = np.zeros((6, num_joints))\n",
    "    \n",
    "    # End-effector position\n",
    "    T_0_n = transformations[-1]\n",
    "    o_n = T_0_n[:3, 3]\n",
    "\n",
    "    # Compute each column of the Jacobian\n",
    "    for i in range(num_joints):\n",
    "        T_0_i = transformations[i]\n",
    "        o_i = T_0_i[:3, 3]\n",
    "        z_i = T_0_i[:3, 2]\n",
    "\n",
    "        jacobian[:3, i] = np.cross(z_i, (o_n - o_i))  # Linear part\n",
    "        jacobian[3:, i] = z_i  # Angular part\n",
    "\n",
    "    return jacobian\n",
    "\n",
    "# Updated DH parameters based on the provided table\n",
    "dh_params = [\n",
    "    (0, -np.pi/2, 0.26, 0),           # Link 1\n",
    "    (0.48, 0, 0, -np.pi/2),       # Link 2\n",
    "    (0, np.pi/2, 0, np.pi/2),        # Link 3\n",
    "    (0, -np.pi/2, 0.7, 0),          # Link 4\n",
    "    (0, np.pi/2, 0, 0),              # Link 5\n",
    "    (0, 0, 0.1735, 0)                 # Link 6\n",
    "]\n",
    "\n",
    "# Example joint angles\n",
    "joint_angles = [0, 0, np.pi/3, 0, 0, 0]\n",
    "\n",
    "# Compute the Jacobian\n",
    "jacobian = compute_geometric_jacobian(dh_params, joint_angles)\n",
    "print(\"Geometric Jacobian:\")\n",
    "print(np.round(jacobian, 3))\n",
    "\n",
    "jacobian.T@np.array([1,0,1,0,1,0])"
   ]
  },
  {
   "cell_type": "markdown",
   "id": "9f1016df-ddef-4b4e-8c0a-5f998083f99c",
   "metadata": {
    "jp-MarkdownHeadingCollapsed": true
   },
   "source": [
    "#### Introduce motor currents as a method of estimating joint torque"
   ]
  },
  {
   "cell_type": "code",
   "execution_count": null,
   "id": "7118c018-d46f-4058-8b29-5d41fb882f59",
   "metadata": {},
   "outputs": [],
   "source": []
  }
 ],
 "metadata": {
  "citation-manager": {
   "items": {}
  },
  "kernelspec": {
   "display_name": "Python 3 (ipykernel)",
   "language": "python",
   "name": "python3"
  },
  "language_info": {
   "codemirror_mode": {
    "name": "ipython",
    "version": 3
   },
   "file_extension": ".py",
   "mimetype": "text/x-python",
   "name": "python",
   "nbconvert_exporter": "python",
   "pygments_lexer": "ipython3",
   "version": "3.8.19"
  }
 },
 "nbformat": 4,
 "nbformat_minor": 5
}
