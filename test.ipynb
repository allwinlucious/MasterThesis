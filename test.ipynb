{
 "cells": [
  {
   "cell_type": "code",
   "execution_count": 1,
   "id": "7e1d56f3-ab02-4d9a-ba6a-45eb73aacff5",
   "metadata": {},
   "outputs": [],
   "source": [
    "from utils.analytical.utils import *"
   ]
  },
  {
   "cell_type": "code",
   "execution_count": 2,
   "id": "cda018b6-2490-4f05-aa9b-c1e2ea849b57",
   "metadata": {},
   "outputs": [
    {
     "ename": "NameError",
     "evalue": "name 'footprint_coeff' is not defined",
     "output_type": "error",
     "traceback": [
      "\u001b[0;31m---------------------------------------------------------------------------\u001b[0m",
      "\u001b[0;31mNameError\u001b[0m                                 Traceback (most recent call last)",
      "Cell \u001b[0;32mIn[2], line 5\u001b[0m\n\u001b[1;32m      3\u001b[0m test_df\u001b[38;5;241m=\u001b[39m offset_compensation(test_df,offset_m,offset_l)\n\u001b[1;32m      4\u001b[0m test_df\u001b[38;5;241m=\u001b[39m \u001b[38;5;28mfilter\u001b[39m(test_df,\u001b[38;5;241m50\u001b[39m)[\u001b[38;5;241m2000\u001b[39m:\u001b[38;5;241m7000\u001b[39m]\n\u001b[0;32m----> 5\u001b[0m test_df[\u001b[38;5;124m'\u001b[39m\u001b[38;5;124mmodeled_footprint\u001b[39m\u001b[38;5;124m'\u001b[39m] \u001b[38;5;241m=\u001b[39m \u001b[43mtest_df\u001b[49m\u001b[38;5;241;43m.\u001b[39;49m\u001b[43mapply\u001b[49m\u001b[43m(\u001b[49m\u001b[38;5;28;43;01mlambda\u001b[39;49;00m\u001b[43m \u001b[49m\u001b[43mrow\u001b[49m\u001b[43m:\u001b[49m\u001b[43m \u001b[49m\u001b[43mfootprint_error\u001b[49m\u001b[43m(\u001b[49m\u001b[43mfootprint_coeff\u001b[49m\u001b[43m,\u001b[49m\u001b[43mrow\u001b[49m\u001b[43m[\u001b[49m\u001b[38;5;124;43m\"\u001b[39;49m\u001b[38;5;124;43mfiltered_motor_enc\u001b[39;49m\u001b[38;5;124;43m\"\u001b[39;49m\u001b[43m]\u001b[49m\u001b[43m,\u001b[49m\u001b[43m \u001b[49m\u001b[43mrow\u001b[49m\u001b[43m[\u001b[49m\u001b[38;5;124;43m\"\u001b[39;49m\u001b[38;5;124;43mfiltered_load_enc\u001b[39;49m\u001b[38;5;124;43m\"\u001b[39;49m\u001b[43m]\u001b[49m\u001b[43m)\u001b[49m\u001b[43m,\u001b[49m\u001b[43m \u001b[49m\u001b[43maxis\u001b[49m\u001b[38;5;241;43m=\u001b[39;49m\u001b[38;5;241;43m1\u001b[39;49m\u001b[43m)\u001b[49m\n\u001b[1;32m      6\u001b[0m test_df[\u001b[38;5;124m'\u001b[39m\u001b[38;5;124mresidual_error\u001b[39m\u001b[38;5;124m'\u001b[39m] \u001b[38;5;241m=\u001b[39m test_df\u001b[38;5;241m.\u001b[39mfiltered_motor_enc \u001b[38;5;241m/\u001b[39m gear_ratio \u001b[38;5;241m-\u001b[39m test_df\u001b[38;5;241m.\u001b[39mfiltered_load_enc \u001b[38;5;241m-\u001b[39m test_df\u001b[38;5;241m.\u001b[39mmodeled_footprint \u001b[38;5;241m/\u001b[39m count_to_deg\n\u001b[1;32m      7\u001b[0m test_df[\u001b[38;5;124m'\u001b[39m\u001b[38;5;124minverse_dynamics\u001b[39m\u001b[38;5;124m'\u001b[39m] \u001b[38;5;241m=\u001b[39m  test_df\u001b[38;5;241m.\u001b[39mapply(\u001b[38;5;28;01mlambda\u001b[39;00m row:row[\u001b[38;5;124m\"\u001b[39m\u001b[38;5;124mtarget_joint_torque_3\u001b[39m\u001b[38;5;124m\"\u001b[39m] \u001b[38;5;241m-\u001b[39m controller_friction_estimate(row[\u001b[38;5;124m\"\u001b[39m\u001b[38;5;124mjoint_velocity_3\u001b[39m\u001b[38;5;124m\"\u001b[39m]), axis\u001b[38;5;241m=\u001b[39m\u001b[38;5;241m1\u001b[39m)\n",
      "File \u001b[0;32m/usr/local/lib/python3.8/site-packages/pandas/core/frame.py:9423\u001b[0m, in \u001b[0;36mDataFrame.apply\u001b[0;34m(self, func, axis, raw, result_type, args, **kwargs)\u001b[0m\n\u001b[1;32m   9412\u001b[0m \u001b[38;5;28;01mfrom\u001b[39;00m \u001b[38;5;21;01mpandas\u001b[39;00m\u001b[38;5;21;01m.\u001b[39;00m\u001b[38;5;21;01mcore\u001b[39;00m\u001b[38;5;21;01m.\u001b[39;00m\u001b[38;5;21;01mapply\u001b[39;00m \u001b[38;5;28;01mimport\u001b[39;00m frame_apply\n\u001b[1;32m   9414\u001b[0m op \u001b[38;5;241m=\u001b[39m frame_apply(\n\u001b[1;32m   9415\u001b[0m     \u001b[38;5;28mself\u001b[39m,\n\u001b[1;32m   9416\u001b[0m     func\u001b[38;5;241m=\u001b[39mfunc,\n\u001b[0;32m   (...)\u001b[0m\n\u001b[1;32m   9421\u001b[0m     kwargs\u001b[38;5;241m=\u001b[39mkwargs,\n\u001b[1;32m   9422\u001b[0m )\n\u001b[0;32m-> 9423\u001b[0m \u001b[38;5;28;01mreturn\u001b[39;00m \u001b[43mop\u001b[49m\u001b[38;5;241;43m.\u001b[39;49m\u001b[43mapply\u001b[49m\u001b[43m(\u001b[49m\u001b[43m)\u001b[49m\u001b[38;5;241m.\u001b[39m__finalize__(\u001b[38;5;28mself\u001b[39m, method\u001b[38;5;241m=\u001b[39m\u001b[38;5;124m\"\u001b[39m\u001b[38;5;124mapply\u001b[39m\u001b[38;5;124m\"\u001b[39m)\n",
      "File \u001b[0;32m/usr/local/lib/python3.8/site-packages/pandas/core/apply.py:678\u001b[0m, in \u001b[0;36mFrameApply.apply\u001b[0;34m(self)\u001b[0m\n\u001b[1;32m    675\u001b[0m \u001b[38;5;28;01melif\u001b[39;00m \u001b[38;5;28mself\u001b[39m\u001b[38;5;241m.\u001b[39mraw:\n\u001b[1;32m    676\u001b[0m     \u001b[38;5;28;01mreturn\u001b[39;00m \u001b[38;5;28mself\u001b[39m\u001b[38;5;241m.\u001b[39mapply_raw()\n\u001b[0;32m--> 678\u001b[0m \u001b[38;5;28;01mreturn\u001b[39;00m \u001b[38;5;28;43mself\u001b[39;49m\u001b[38;5;241;43m.\u001b[39;49m\u001b[43mapply_standard\u001b[49m\u001b[43m(\u001b[49m\u001b[43m)\u001b[49m\n",
      "File \u001b[0;32m/usr/local/lib/python3.8/site-packages/pandas/core/apply.py:798\u001b[0m, in \u001b[0;36mFrameApply.apply_standard\u001b[0;34m(self)\u001b[0m\n\u001b[1;32m    797\u001b[0m \u001b[38;5;28;01mdef\u001b[39;00m \u001b[38;5;21mapply_standard\u001b[39m(\u001b[38;5;28mself\u001b[39m):\n\u001b[0;32m--> 798\u001b[0m     results, res_index \u001b[38;5;241m=\u001b[39m \u001b[38;5;28;43mself\u001b[39;49m\u001b[38;5;241;43m.\u001b[39;49m\u001b[43mapply_series_generator\u001b[49m\u001b[43m(\u001b[49m\u001b[43m)\u001b[49m\n\u001b[1;32m    800\u001b[0m     \u001b[38;5;66;03m# wrap results\u001b[39;00m\n\u001b[1;32m    801\u001b[0m     \u001b[38;5;28;01mreturn\u001b[39;00m \u001b[38;5;28mself\u001b[39m\u001b[38;5;241m.\u001b[39mwrap_results(results, res_index)\n",
      "File \u001b[0;32m/usr/local/lib/python3.8/site-packages/pandas/core/apply.py:814\u001b[0m, in \u001b[0;36mFrameApply.apply_series_generator\u001b[0;34m(self)\u001b[0m\n\u001b[1;32m    811\u001b[0m \u001b[38;5;28;01mwith\u001b[39;00m option_context(\u001b[38;5;124m\"\u001b[39m\u001b[38;5;124mmode.chained_assignment\u001b[39m\u001b[38;5;124m\"\u001b[39m, \u001b[38;5;28;01mNone\u001b[39;00m):\n\u001b[1;32m    812\u001b[0m     \u001b[38;5;28;01mfor\u001b[39;00m i, v \u001b[38;5;129;01min\u001b[39;00m \u001b[38;5;28menumerate\u001b[39m(series_gen):\n\u001b[1;32m    813\u001b[0m         \u001b[38;5;66;03m# ignore SettingWithCopy here in case the user mutates\u001b[39;00m\n\u001b[0;32m--> 814\u001b[0m         results[i] \u001b[38;5;241m=\u001b[39m \u001b[38;5;28;43mself\u001b[39;49m\u001b[38;5;241;43m.\u001b[39;49m\u001b[43mf\u001b[49m\u001b[43m(\u001b[49m\u001b[43mv\u001b[49m\u001b[43m)\u001b[49m\n\u001b[1;32m    815\u001b[0m         \u001b[38;5;28;01mif\u001b[39;00m \u001b[38;5;28misinstance\u001b[39m(results[i], ABCSeries):\n\u001b[1;32m    816\u001b[0m             \u001b[38;5;66;03m# If we have a view on v, we need to make a copy because\u001b[39;00m\n\u001b[1;32m    817\u001b[0m             \u001b[38;5;66;03m#  series_generator will swap out the underlying data\u001b[39;00m\n\u001b[1;32m    818\u001b[0m             results[i] \u001b[38;5;241m=\u001b[39m results[i]\u001b[38;5;241m.\u001b[39mcopy(deep\u001b[38;5;241m=\u001b[39m\u001b[38;5;28;01mFalse\u001b[39;00m)\n",
      "Cell \u001b[0;32mIn[2], line 5\u001b[0m, in \u001b[0;36m<lambda>\u001b[0;34m(row)\u001b[0m\n\u001b[1;32m      3\u001b[0m test_df\u001b[38;5;241m=\u001b[39m offset_compensation(test_df,offset_m,offset_l)\n\u001b[1;32m      4\u001b[0m test_df\u001b[38;5;241m=\u001b[39m \u001b[38;5;28mfilter\u001b[39m(test_df,\u001b[38;5;241m50\u001b[39m)[\u001b[38;5;241m2000\u001b[39m:\u001b[38;5;241m7000\u001b[39m]\n\u001b[0;32m----> 5\u001b[0m test_df[\u001b[38;5;124m'\u001b[39m\u001b[38;5;124mmodeled_footprint\u001b[39m\u001b[38;5;124m'\u001b[39m] \u001b[38;5;241m=\u001b[39m test_df\u001b[38;5;241m.\u001b[39mapply(\u001b[38;5;28;01mlambda\u001b[39;00m row: footprint_error(\u001b[43mfootprint_coeff\u001b[49m,row[\u001b[38;5;124m\"\u001b[39m\u001b[38;5;124mfiltered_motor_enc\u001b[39m\u001b[38;5;124m\"\u001b[39m], row[\u001b[38;5;124m\"\u001b[39m\u001b[38;5;124mfiltered_load_enc\u001b[39m\u001b[38;5;124m\"\u001b[39m]), axis\u001b[38;5;241m=\u001b[39m\u001b[38;5;241m1\u001b[39m)\n\u001b[1;32m      6\u001b[0m test_df[\u001b[38;5;124m'\u001b[39m\u001b[38;5;124mresidual_error\u001b[39m\u001b[38;5;124m'\u001b[39m] \u001b[38;5;241m=\u001b[39m test_df\u001b[38;5;241m.\u001b[39mfiltered_motor_enc \u001b[38;5;241m/\u001b[39m gear_ratio \u001b[38;5;241m-\u001b[39m test_df\u001b[38;5;241m.\u001b[39mfiltered_load_enc \u001b[38;5;241m-\u001b[39m test_df\u001b[38;5;241m.\u001b[39mmodeled_footprint \u001b[38;5;241m/\u001b[39m count_to_deg\n\u001b[1;32m      7\u001b[0m test_df[\u001b[38;5;124m'\u001b[39m\u001b[38;5;124minverse_dynamics\u001b[39m\u001b[38;5;124m'\u001b[39m] \u001b[38;5;241m=\u001b[39m  test_df\u001b[38;5;241m.\u001b[39mapply(\u001b[38;5;28;01mlambda\u001b[39;00m row:row[\u001b[38;5;124m\"\u001b[39m\u001b[38;5;124mtarget_joint_torque_3\u001b[39m\u001b[38;5;124m\"\u001b[39m] \u001b[38;5;241m-\u001b[39m controller_friction_estimate(row[\u001b[38;5;124m\"\u001b[39m\u001b[38;5;124mjoint_velocity_3\u001b[39m\u001b[38;5;124m\"\u001b[39m]), axis\u001b[38;5;241m=\u001b[39m\u001b[38;5;241m1\u001b[39m)\n",
      "\u001b[0;31mNameError\u001b[0m: name 'footprint_coeff' is not defined"
     ]
    }
   ],
   "source": [
    "\n",
    "test_df = pd.read_csv(\"utils/analytical/lara8_0.99.csv\")\n",
    "test_df = multiturn_compensation(test_df,offset_m,offset_l)\n",
    "test_df= offset_compensation(test_df,offset_m,offset_l)\n",
    "test_df= filter(test_df,50)[2000:7000]\n",
    "test_df['modeled_footprint'] = test_df.apply(lambda row: footprint_error(footprint_coeff,row[\"filtered_motor_enc\"], row[\"filtered_load_enc\"]), axis=1)\n",
    "test_df['residual_error'] = test_df.filtered_motor_enc / gear_ratio - test_df.filtered_load_enc - test_df.modeled_footprint / count_to_deg\n",
    "test_df['inverse_dynamics'] =  test_df.apply(lambda row:row[\"target_joint_torque_3\"] - controller_friction_estimate(row[\"joint_velocity_3\"]), axis=1)\n",
    "test_df[\"dynamic_compensation\"] = test_df.apply(lambda row: torque_to_encoder_error(row[\"inverse_dynamics\"]), axis=1)\n",
    "test_df[\"residual_error2\"] = test_df.residual_error - test_df.dynamic_compensation\n",
    "test_df['modeled_friction'] = test_df.apply(lambda row: friction_model(row[\"filtered_joint_velocity\"] * radian_to_deg, *parameters),axis=1)\n",
    "test_df[\"residual_error3\"] = test_df.residual_error2 - test_df.modeled_friction\n",
    "test_df['torque_estimate'] = test_df.apply(lambda row: encoder_error_to_torque(row[\"residual_error3\"]),axis=1)\n",
    "plt.plot( test_df.torque_estimate/1000,'black')\n",
    "plt.ylabel('Torque [Nm]')\n",
    "plt.xlabel('idx')\n",
    "plt.title(\"residual torque\")\n",
    "plt.savefig(\"utils/analytical/dpi_residual.png\")"
   ]
  },
  {
   "cell_type": "code",
   "execution_count": 15,
   "id": "e4625375-e471-4f77-84dc-b0c9a4cd4175",
   "metadata": {},
   "outputs": [
    {
     "ename": "SyntaxError",
     "evalue": "EOL while scanning string literal (1282341800.py, line 20)",
     "output_type": "error",
     "traceback": [
      "\u001b[0;36m  Cell \u001b[0;32mIn[15], line 20\u001b[0;36m\u001b[0m\n\u001b[0;31m    Below is Einstein's mass-energy equivalence equation:\u001b[0m\n\u001b[0m                                                         ^\u001b[0m\n\u001b[0;31mSyntaxError\u001b[0m\u001b[0;31m:\u001b[0m EOL while scanning string literal\n"
     ]
    }
   ],
   "source": [
    "from IPython.display import display, HTML\n",
    "\n",
    "display(HTML('''<script>\n",
    "MathJax = {\n",
    "    tex: {\n",
    "        tags: 'ams',\n",
    "        equationNumbers: { autoNumber: \"AMS\" }\n",
    "    },\n",
    "    startup: {\n",
    "        ready: () => {\n",
    "            MathJax.startup.defaultReady();\n",
    "            MathJax.texReset();\n",
    "            MathJax.typeset();\n",
    "        }\n",
    "    }\n",
    "};\n",
    "</script>'''))\n"
   ]
  },
  {
   "cell_type": "markdown",
   "id": "6676606b-5578-40bf-a6a8-d804acc850f1",
   "metadata": {},
   "source": [
    "### Example Equation with Cross-Referencing\n",
    "\n",
    "Below is Einstein's mass-energy equivalence equation:\n",
    "\n",
    "\\begin{equation}\n",
    "E = mc^2 \\label{eq:einstein}\n",
    "\\end{equation}\n",
    "\n",
    "As shown in equation \\(\\ref{eq:einstein}\\), energy is equivalent to mass times the speed of light squared.\n",
    "\n"
   ]
  },
  {
   "cell_type": "markdown",
   "id": "807f266e-c7ae-40c8-8099-cd95a3aa953e",
   "metadata": {},
   "source": []
  },
  {
   "cell_type": "code",
   "execution_count": null,
   "id": "a3a31ddc-aace-4645-8702-8d60042d77ab",
   "metadata": {},
   "outputs": [],
   "source": []
  }
 ],
 "metadata": {
  "citation-manager": {
   "items": {}
  },
  "kernelspec": {
   "display_name": "Python 3 (ipykernel)",
   "language": "python",
   "name": "python3"
  },
  "language_info": {
   "codemirror_mode": {
    "name": "ipython",
    "version": 3
   },
   "file_extension": ".py",
   "mimetype": "text/x-python",
   "name": "python",
   "nbconvert_exporter": "python",
   "pygments_lexer": "ipython3",
   "version": "3.8.19"
  }
 },
 "nbformat": 4,
 "nbformat_minor": 5
}
