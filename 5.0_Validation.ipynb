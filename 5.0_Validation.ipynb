{
 "cells": [
  {
   "cell_type": "markdown",
   "id": "fcbaf3ef-1c3a-41cd-9150-03e6940e1d60",
   "metadata": {},
   "source": [
    "Correlation coefficient and root mean squared error. "
   ]
  },
  {
   "cell_type": "markdown",
   "id": "6de0bbae-5100-4c34-976a-d355e8163b03",
   "metadata": {},
   "source": [
    "applicaiton with this is estimating tool parameters and then maybe for collision."
   ]
  },
  {
   "cell_type": "code",
   "execution_count": null,
   "id": "c2dda356-feab-4c02-a86b-d7c5dca0a9dd",
   "metadata": {},
   "outputs": [],
   "source": []
  }
 ],
 "metadata": {
  "citation-manager": {
   "items": {}
  },
  "kernelspec": {
   "display_name": "Python 3 (ipykernel)",
   "language": "python",
   "name": "python3"
  },
  "language_info": {
   "codemirror_mode": {
    "name": "ipython",
    "version": 3
   },
   "file_extension": ".py",
   "mimetype": "text/x-python",
   "name": "python",
   "nbconvert_exporter": "python",
   "pygments_lexer": "ipython3",
   "version": "3.8.19"
  }
 },
 "nbformat": 4,
 "nbformat_minor": 5
}
