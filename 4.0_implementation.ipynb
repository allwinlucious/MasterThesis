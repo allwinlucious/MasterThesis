{
 "cells": [
  {
   "cell_type": "markdown",
   "id": "be8cd890-5d54-446d-bc76-98703a2a862a",
   "metadata": {},
   "source": [
    "# 4.0 Implementation"
   ]
  },
  {
   "cell_type": "markdown",
   "id": "dc9490c8-9c5f-41b1-805a-18d5f3c218fa",
   "metadata": {},
   "source": []
  },
  {
   "cell_type": "markdown",
   "id": "14f90de8-a6d8-46b2-9e1e-6ef0b8ebe3f4",
   "metadata": {},
   "source": [
    "## 4.1 Data Collection"
   ]
  },
  {
   "cell_type": "markdown",
   "id": "6edac567-1b12-4228-8c04-94b0d3a397a8",
   "metadata": {},
   "source": []
  },
  {
   "cell_type": "markdown",
   "id": "37dfef41-c6b3-4cc4-9d3c-2f62aee96070",
   "metadata": {},
   "source": [
    "## 4.2 Input and data preprocessing"
   ]
  },
  {
   "cell_type": "markdown",
   "id": "ba12658f-f294-45cc-a9f2-23822554d857",
   "metadata": {},
   "source": []
  },
  {
   "cell_type": "markdown",
   "id": "4245c950-f2a3-490a-a197-bb6d724bc09e",
   "metadata": {},
   "source": [
    "## 4.3 Hyper parameter optimization"
   ]
  },
  {
   "cell_type": "markdown",
   "id": "5d3335ea-8c11-4845-91ac-9dec1e1de513",
   "metadata": {},
   "source": []
  },
  {
   "cell_type": "markdown",
   "id": "e3d240c6-4c9d-4f0e-b502-1ec10404ff00",
   "metadata": {},
   "source": [
    "## 4.4 Training"
   ]
  },
  {
   "cell_type": "markdown",
   "id": "d2eb7cc7-d1c1-4cb2-a856-e11472f9cf52",
   "metadata": {},
   "source": []
  },
  {
   "cell_type": "markdown",
   "id": "015752a0-35e1-42f9-bd25-c41df1e20ada",
   "metadata": {},
   "source": [
    "## 4.5 Results"
   ]
  },
  {
   "cell_type": "markdown",
   "id": "fbb44745-5f34-4573-afdd-9f4333835971",
   "metadata": {},
   "source": []
  },
  {
   "cell_type": "markdown",
   "id": "1e4e5dc7-8dc5-4e26-8488-fd3233e9855b",
   "metadata": {},
   "source": [
    "## 4.6 Integration"
   ]
  },
  {
   "cell_type": "markdown",
   "id": "345ccee7-4c34-46d1-a5ea-50d419bcf004",
   "metadata": {},
   "source": []
  }
 ],
 "metadata": {
  "citation-manager": {
   "items": {}
  },
  "kernelspec": {
   "display_name": "Python 3 (ipykernel)",
   "language": "python",
   "name": "python3"
  },
  "language_info": {
   "codemirror_mode": {
    "name": "ipython",
    "version": 3
   },
   "file_extension": ".py",
   "mimetype": "text/x-python",
   "name": "python",
   "nbconvert_exporter": "python",
   "pygments_lexer": "ipython3",
   "version": "3.8.19"
  }
 },
 "nbformat": 4,
 "nbformat_minor": 5
}
