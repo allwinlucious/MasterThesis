{
 "cells": [
  {
   "cell_type": "code",
   "execution_count": 1,
   "id": "57fac08d-d1de-4ecd-b4f3-d0fc199d2f17",
   "metadata": {},
   "outputs": [],
   "source": [
    "from utils.ML2.utils import *\n",
    "import warnings\n",
    "warnings.filterwarnings('ignore')"
   ]
  },
  {
   "cell_type": "markdown",
   "id": "70af62c9-0dda-4520-8d2e-cd422a718922",
   "metadata": {},
   "source": [
    "# Payload Estimation\n",
    "\n",
    "In robotics, the identification of mass, is crucial for ensuring accurate and safe operation, particularly in tasks that involve dynamic interactions with the environment like pick and place. Traditional methods of measuring weight often require direct physical measurements, which can be both time-consuming and impractical in automated systems where multiple types of payloads are involved. This application of a the developed model offers a significant advantage by enabling the indirect estimation of these parameters through the analysis of predicted forces. This increases the adaptability of the robot to various tools and payloads without the need for frequent recalibration or manual measurements.\n",
    "\n",
    "Another particularly valuable use case for this technology is in detecting situations where a payload, after being picked up, might slip down . Such a slip can be quickly detected by the virtual sensor. Without this detection capability, the robot could experience unexpected torques and forces, leading to a sudden jerk or unplanned movement, which could compromise the precision of the task or even damage the robot and the payload. By identifying these changes in real-time, the system can adjust its operations to compensate, ensuring smooth and safe handling of the payload.\n"
   ]
  },
  {
   "attachments": {},
   "cell_type": "markdown",
   "id": "9431454e-4f46-4e0c-ba4a-e6fd831fd90f",
   "metadata": {},
   "source": [
    "# Implementation\n",
    "\n",
    "The estimation of mass using a virtual joint torque sensor is based on the analysis of the forces acting on the tool as it interacts with the environment. The forces predicted by the sensor, in the $X$, $Y$, and $Z$ directions, can be used to compute the overall magnitude of the force vector, which, when divided by the gravitational constant, provides an estimate of the tool's mass.\n",
    "\n",
    "In a static or quasi-static condition, the forces measured by the virtual joint torque sensor are primarily due to the weight of the tool and any attached payload. The relationship between the force components and the mass of the tool can be expressed as:\n",
    "\n",
    "$$|\\vec{F}| = \\sqrt{F_x^2 + F_y^2 + F_z^2}$$\n",
    "\n",
    "where:\n",
    "\n",
    "- $F_x$, $F_y$, and $F_z$ are the force components in the $X$, $Y$, and $Z$ directions, respectively.\n",
    "- $|\\vec{F}|$ is the magnitude of the resultant force vector.\n",
    "\n",
    "Given that the force due to gravity is $F = m \\cdot g$, where $g$ is the acceleration due to gravity (approximately $9.81 \\, \\text{m/s}^2$), the mass $m$ can be estimated as:\n",
    "\n",
    "$$m = \\frac{|\\vec{F}|}{g}$$\n",
    "\n",
    "To ensure accuracy, measurements are made over a period of time, and the average of the calculated mass values is taken to provide a more reliable estimate. This approach helps to reduce the impact of sensor noise, and compensate for any variability in the conditions during the measurements, leading to a more accurate estimation of the tool's mass.\n",
    "\n",
    "This equation assumes that the forces measured are primarily due to gravity, and thus the resultant force vector provides a direct indication of the tool's mass.\n",
    "\n",
    "\n",
    "To validate the performance of the model in this application, an eccentric mass as shown in Figure 1 was attached to the robot and the robot was moved along a generated trajectory as described in chapter 4 section 1. A velocity scaling of 5% was applied so as to maintain a quasi-static condition. \n",
    "\n",
    "![drawing](./utils/ML2/application/eccentrictool.jpeg){ width=50% }"
   ]
  },
  {
   "cell_type": "code",
   "execution_count": 4,
   "id": "aaa6021f-9c65-4cb5-94d5-1e2eb0a32d1e",
   "metadata": {},
   "outputs": [
    {
     "name": "stderr",
     "output_type": "stream",
     "text": [
      "100%|██████████| 280/280 [01:31<00:00,  3.05it/s]"
     ]
    },
    {
     "name": "stdout",
     "output_type": "stream",
     "text": [
      "Estimated mass:  2.7590842057440987\n",
      "Actual mass:  2.7074553307893927\n"
     ]
    },
    {
     "name": "stderr",
     "output_type": "stream",
     "text": [
      "\n"
     ]
    }
   ],
   "source": [
    "y_max = torch.load('utils/ML2/models/y_max.pt',map_location=torch.device('cpu'))\n",
    "y_min = torch.load('utils/ML2/models/y_min.pt',map_location=torch.device('cpu'))\n",
    "\n",
    "dataset = CustomDatasetFromCSV(csv_path = 'utils/ML2/application/lara8_0.5.csv', mode=\"test\")\n",
    "test_dataloader = DataLoader(dataset, batch_size=100, shuffle=False)\n",
    "\n",
    "model = torch.jit.load('utils/ML2/models/model.pt', map_location=torch.device('cpu'))\n",
    "model.eval()\n",
    "\n",
    "pred_list = []\n",
    "with torch.no_grad():    \n",
    "    for i, (X,y) in enumerate(tqdm(test_dataloader)):\n",
    "        pred = model(X)\n",
    "        #denormalize predictions\n",
    "        pred = (pred+1)/2* (y_max - y_min) + y_min\n",
    "        pred_list.append(pred)\n",
    "# Denormalize the data\n",
    "y_truth = ((test_dataloader.dataset.y + 1) / 2 * (y_max - y_min) + y_min).cpu().numpy()\n",
    "pred_list = torch.cat(pred_list).cpu().numpy()\n",
    "\n",
    "y_truth = y_truth[116:]\n",
    "\n",
    "# Example usage of your specific mass calculation\n",
    "\n",
    "FTx = y_truth[0:100, 0]\n",
    "FTy = y_truth[0:100, 1]\n",
    "FTz = y_truth[0:100, 2]\n",
    "\n",
    "mass_estimate = np.sqrt(Fx**2 + Fy**2 + Fz**2).mean() / 9.81\n",
    "mass_actual = np.sqrt(FTx**2 + FTy**2 + FTz**2).mean() / 9.81\n",
    "print(\"Estimated mass: \", mass_estimate.item())\n",
    "print(\"Actual mass: \", mass_actual.item())"
   ]
  },
  {
   "cell_type": "code",
   "execution_count": null,
   "id": "a67094d8-1653-420a-869a-55c9a3010b9b",
   "metadata": {},
   "outputs": [],
   "source": []
  },
  {
   "cell_type": "markdown",
   "id": "29aadac9-21d0-4e79-a3b7-11e19be30081",
   "metadata": {},
   "source": [
    "The model estimated the mass to be **2.71kg** whereas the mass estimated from FTS measurements was **2.75kg**. The following table shows the model estimation on a number of different payloads.This demonstrates that the model can be used to estimate the mass of a a tool or object attached to the robot's TCP reliably. \n",
    "\n",
    "| **Payload** | **Estimated Mass (kg)** | **Actual Mass (kg)** | **Absolute Error (kg)** |\n",
    "|-------------|--------------------------|----------------------|-------------------------|\n",
    "| Payload 1   | 2.71                      | 2.75                 | 0.04                    |\n",
    "| Payload 2   | 1.5554                    | 1.5223               | 0.0331                  |\n",
    "| Payload 3   | 7.2118                    | 7.1823               | 0.0295                   |\n",
    "\n"
   ]
  }
 ],
 "metadata": {
  "citation-manager": {
   "items": {}
  },
  "kernelspec": {
   "display_name": "Python 3 (ipykernel)",
   "language": "python",
   "name": "python3"
  },
  "language_info": {
   "codemirror_mode": {
    "name": "ipython",
    "version": 3
   },
   "file_extension": ".py",
   "mimetype": "text/x-python",
   "name": "python",
   "nbconvert_exporter": "python",
   "pygments_lexer": "ipython3",
   "version": "3.8.19"
  }
 },
 "nbformat": 4,
 "nbformat_minor": 5
}
