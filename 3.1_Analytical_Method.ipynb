{
 "cells": [
  {
   "cell_type": "markdown",
   "id": "98e84b74-a768-45b6-b229-0a1094ade680",
   "metadata": {},
   "source": [
    "# Analytical Method"
   ]
  },
  {
   "cell_type": "code",
   "execution_count": 1,
   "id": "02b09a20-6d55-4782-ae0e-298966675322",
   "metadata": {},
   "outputs": [],
   "source": [
    "from utils.download_utils import download_and_extract_zip"
   ]
  },
  {
   "cell_type": "markdown",
   "id": "02638cb6-a4f6-4f24-b70d-39a839f2148e",
   "metadata": {},
   "source": [
    "Analytical approach of finding the external joint torque focuses on modeling and computing all the known torques acting at the joint such as friction, dynamics, position based torque (footprint).After compensatig for the known torques, the hypothesis is that the residual will be the external torque. Inorder to simplify the study, only Axis 3 was studied , the other joint angles were kept locked at 0°. "
   ]
  },
  {
   "cell_type": "markdown",
   "id": "ee2b89b2-7f93-4e1f-8b4d-5838b9bbfa46",
   "metadata": {},
   "source": [
    "## 3.1.1 Data Colleciton\n",
    "\n",
    "To simplify the dynamics acting on the joint under study (Axis 3), the robot was mounted in a 90° orientation so that the axis of the joint is paralell to gravity, which allows the axis to be rotated wihtout gravity affetcing the dynamics. #insert figure for reference. "
   ]
  },
  {
   "cell_type": "code",
   "execution_count": 3,
   "id": "7d5a4fb0-8e31-4242-b95d-29744dd374a5",
   "metadata": {},
   "outputs": [
    {
     "data": {
      "application/vnd.jupyter.widget-view+json": {
       "model_id": "1f1e2d6d961c4008ba31e895921d881c",
       "version_major": 2,
       "version_minor": 0
      },
      "text/plain": [
       "  0%|          | 0/170923 [00:00<?, ?KB/s]"
      ]
     },
     "metadata": {},
     "output_type": "display_data"
    },
    {
     "name": "stdout",
     "output_type": "stream",
     "text": [
      "Folder downloaded and extracted successfully!\n"
     ]
    }
   ],
   "source": [
    "#run this cell to download the data\n",
    "download_and_extract_zip(\"analytical_dataset\",\"./utils/config.json\")"
   ]
  },
  {
   "cell_type": "markdown",
   "id": "0969e387-25c6-479a-8db3-366155513267",
   "metadata": {},
   "source": [
    "## 3.1.2 Modeling Friction"
   ]
  },
  {
   "cell_type": "markdown",
   "id": "7f61d79c-06e5-4ca7-8cd6-d73848fb2107",
   "metadata": {},
   "source": [
    "## 3.1.3 Modeling Footprint "
   ]
  },
  {
   "cell_type": "markdown",
   "id": "5f4ea184-6d90-42ce-a3fe-2b2bbf58800d",
   "metadata": {},
   "source": [
    "## 3.1.4 Known Torque Compensation and calulation of residual torque "
   ]
  },
  {
   "cell_type": "code",
   "execution_count": null,
   "id": "99a3a4b0-4634-490c-83da-0d17838ad3b9",
   "metadata": {},
   "outputs": [],
   "source": []
  }
 ],
 "metadata": {
  "kernelspec": {
   "display_name": "Python 3 (ipykernel)",
   "language": "python",
   "name": "python3"
  },
  "language_info": {
   "codemirror_mode": {
    "name": "ipython",
    "version": 3
   },
   "file_extension": ".py",
   "mimetype": "text/x-python",
   "name": "python",
   "nbconvert_exporter": "python",
   "pygments_lexer": "ipython3",
   "version": "3.8.19"
  }
 },
 "nbformat": 4,
 "nbformat_minor": 5
}
