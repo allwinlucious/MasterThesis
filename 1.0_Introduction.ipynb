{
 "cells": [
  {
   "cell_type": "markdown",
   "id": "17cbf08f-bdd4-44c2-99ff-82e825e86d1d",
   "metadata": {
    "editable": true,
    "slideshow": {
     "slide_type": ""
    },
    "tags": []
   },
   "source": [
    "# 1. Introduction "
   ]
  },
  {
   "cell_type": "markdown",
   "id": "c9ad9289-2bd8-4f37-b38d-87a50711ae55",
   "metadata": {
    "citation-manager": {
     "citations": {
      "a0yef": [
       {
        "id": "17740253/E4Z54QIF",
        "source": "zotero"
       }
      ],
      "ki6zh": [
       {
        "id": "17740253/JH2DWQ5X",
        "source": "zotero"
       }
      ]
     }
    }
   },
   "source": [
    "Collaborative robots (cobots) are increasingly integrated into various industrial and research applications. Unlike industrial robots, these are lightweight, cost-effective and\n",
    "typically do not come with joint torque sensors. However, the need for joint torque\n",
    "measurements in cobots exists for collision detection, dynamic parameter identification,\n",
    "and force control tasks. Traditionally, torque estimation relies on motor current signals\n",
    "or dedicated physical sensors, such as optical sensors <cite id=\"ki6zh\"><a href=\"#zotero%7C17740253%2FJH2DWQ5X\">[1]</a></cite> or linear encoders that\n",
    "measure the deformation in an elastic body placed in the joint solely for this purpose <cite id=\"a0yef\"><a href=\"#zotero%7C17740253%2FE4Z54QIF\">[2]</a></cite>. However, these methods face significant limitations, including high noise levels\n",
    "in current-based measurements, the additional compliance introduced to the system, and\n",
    "increased costs for physical sensors.\n",
    "The combination of dual encoders and harmonic drive transmissions offers a viable substitute for torque estimation. Joint torque can be estimated by measuring torsional deformation using encoders placed on both sides of the harmonic drive. This approach\n",
    "may provide an economical solution using the built-in harmonic drive transmission and\n",
    "dual encoders. However, this method is not without difficulties since precise modelling\n",
    "of various physical effects, including friction, gear eccentricity, and position-dependent\n",
    "deformations, is necessary to obtain accurate torque estimates.\n",
    "In robotic joints, the total torque can be divided into multiple components: some are\n",
    "lost to internal factors like friction and hysteresis, while others contribute directly to\n",
    "the system’s dynamics, such as moving the robotic link. The torques required for these\n",
    "internal dynamics are generally understood and can often be modelled. Apart from these,\n",
    "an essential component of joint torque is the external joint torques. These torques arise\n",
    "from interactions between the robot and its environment. The estimation of these external\n",
    "torques are crucial for tasks involving physical manipulation and contact with objects or\n",
    "humans. Hence, this thesis will focus on estimating external joint torques rather than the\n",
    "total joint torque.\n",
    "\n",
    "**Goal:** This thesis aims to develop a virtual joint torque model using a data-driven\n",
    "approach that uses multiple sources of torque information, such as motor currents, position\n",
    "and velocity measurements, and deformation in harmonic drive transmissions measured\n",
    "with dual-encoders. This study aims to improve the accuracy of \"sensorless\" external\n",
    "torque estimation in cobots, enhancing their performance, cost-effectiveness and utility\n",
    "in real-world applications.\n",
    "\n",
    "The thesis is organized as follows:\n",
    "* In Chapter 2, the state-of-the-art research is discussed, where some methodologies based on Harmonic Drive Transmission (HDT) with dual encoders, motor current, and Machine Learning for estimating joint torques are explored.\n",
    "\n",
    "* In Chapter 3, fundamental concepts like kinematics, dynamics and machine learning\n",
    "needed to understand this thesis are discussed briefly, and their algorithms implemented.\n",
    "* In Chapter 4, an analytical method using HDT and dual encoders is discussed.\n",
    "* In Chapter 5, a Machine Learning model for a single joint is developed, which builds\n",
    "the foundation for Chapter 6.\n",
    "* In Chapter 6, a Machine Learning model is extended for all joints of a 6 DOF cobot.\n",
    "* In Chapter 7, a practical application using the trained model is demonstrated.\n",
    "* In Chapter 8, conclusions are drawn based on the results, and directions for further\n",
    "research are proposed"
   ]
  },
  {
   "cell_type": "markdown",
   "id": "b5d22769-62e3-4213-84b9-1f407cb5b780",
   "metadata": {},
   "source": [
    "## Bibliography"
   ]
  },
  {
   "cell_type": "markdown",
   "id": "cb21b30e-94bc-41f1-89ca-29cbddd213ed",
   "metadata": {},
   "source": [
    "<!-- BIBLIOGRAPHY START -->\n",
    "<div class=\"csl-bib-body\">\n",
    "  <div class=\"csl-entry\"><i id=\"zotero|17740253/JH2DWQ5X\"></i>\n",
    "    <div class=\"csl-left-margin\">[1]</div><div class=\"csl-right-inline\">D. Tsetserukou, R. Tadakuma, H. Kajimoto, and S. Tachi, “Optical torque sensors for implementation of local impedance control of the arm of humanoid robot,” in <i>Proceedings 2006 IEEE International Conference on Robotics and Automation, 2006. ICRA 2006.</i>, May 2006, pp. 1674–1679. doi: <a href=\"https://doi.org/10.1109/ROBOT.2006.1641947\">10.1109/ROBOT.2006.1641947</a>.</div>\n",
    "  </div>\n",
    "  <div class=\"csl-entry\"><i id=\"zotero|17740253/E4Z54QIF\"></i>\n",
    "    <div class=\"csl-left-margin\">[2]</div><div class=\"csl-right-inline\">T. Kawakami, K. Ayusawa, H. Kaminaga, and Y. Nakamura, “High-fidelity joint drive system by torque feedback control using high precision linear encoder,” in <i>2010 IEEE International Conference on Robotics and Automation</i>, May 2010, pp. 3904–3909. doi: <a href=\"https://doi.org/10.1109/ROBOT.2010.5509625\">10.1109/ROBOT.2010.5509625</a>.</div>\n",
    "  </div>\n",
    "</div>\n",
    "<!-- BIBLIOGRAPHY END -->"
   ]
  }
 ],
 "metadata": {
  "citation-manager": {
   "items": {
    "zotero": {
     "17740253/E4Z54QIF": {
      "DOI": "10.1109/ROBOT.2010.5509625",
      "URL": "https://ieeexplore.ieee.org/abstract/document/5509625",
      "abstract": "When robots cooperate with humans it is necessary for robots to move safely on sudden impact. Joint torque sensing is vital for robots to realize safe behavior and enhance physical performance. Firstly, this paper describes a new torque sensor with linear encoders which demonstrates electro magnetic noise immunity and is unaffected temperature changes. Secondly, we propose a friction compensation method using a disturbance observer to improve the positioning accuracy. In addition, we describe a torque feedback control method which scales down the motor inertia and enhances the joint flexibility. Experimental results of the proposed controller are presented.",
      "accessed": {
       "date-parts": [
        [
         2024,
         8,
         18
        ]
       ]
      },
      "author": [
       {
        "family": "Kawakami",
        "given": "Tomohiro"
       },
       {
        "family": "Ayusawa",
        "given": "Ko"
       },
       {
        "family": "Kaminaga",
        "given": "Hiroshi"
       },
       {
        "family": "Nakamura",
        "given": "Yoshihiko"
       }
      ],
      "container-title": "2010 IEEE International Conference on Robotics and Automation",
      "event": "2010 IEEE International Conference on Robotics and Automation",
      "id": "17740253/E4Z54QIF",
      "issued": {
       "date-parts": [
        [
         2010,
         5
        ]
       ]
      },
      "note": "ISSN: 1050-4729",
      "page": "3904-3909",
      "system_id": "zotero|17740253/E4Z54QIF",
      "title": "High-fidelity joint drive system by torque feedback control using high precision linear encoder",
      "type": "paper-conference"
     },
     "17740253/JH2DWQ5X": {
      "DOI": "10.1109/ROBOT.2006.1641947",
      "URL": "https://ieeexplore.ieee.org/document/1641947",
      "abstract": "This paper describes the recent development of new optical torque sensor in order to replace expensive strain gauge sensor attached at the tip of the anthropomorphic robot arm and realize local impedance control in each joint",
      "accessed": {
       "date-parts": [
        [
         2024,
         8,
         18
        ]
       ]
      },
      "author": [
       {
        "family": "Tsetserukou",
        "given": "D."
       },
       {
        "family": "Tadakuma",
        "given": "R."
       },
       {
        "family": "Kajimoto",
        "given": "H."
       },
       {
        "family": "Tachi",
        "given": "S."
       }
      ],
      "container-title": "Proceedings 2006 IEEE International Conference on Robotics and Automation, 2006. ICRA 2006.",
      "event": "Proceedings 2006 IEEE International Conference on Robotics and Automation, 2006. ICRA 2006.",
      "id": "17740253/JH2DWQ5X",
      "issued": {
       "date-parts": [
        [
         2006,
         5
        ]
       ]
      },
      "note": "ISSN: 1050-4729",
      "page": "1674-1679",
      "system_id": "zotero|17740253/JH2DWQ5X",
      "title": "Optical torque sensors for implementation of local impedance control of the arm of humanoid robot",
      "type": "paper-conference"
     }
    }
   }
  },
  "kernelspec": {
   "display_name": "Python 3 (ipykernel)",
   "language": "python",
   "name": "python3"
  },
  "language_info": {
   "codemirror_mode": {
    "name": "ipython",
    "version": 3
   },
   "file_extension": ".py",
   "mimetype": "text/x-python",
   "name": "python",
   "nbconvert_exporter": "python",
   "pygments_lexer": "ipython3",
   "version": "3.8.19"
  }
 },
 "nbformat": 4,
 "nbformat_minor": 5
}
