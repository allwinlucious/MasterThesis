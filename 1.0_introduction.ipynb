{
 "cells": [
  {
   "cell_type": "markdown",
   "id": "c9ad9289-2bd8-4f37-b38d-87a50711ae55",
   "metadata": {
    "citation-manager": {
     "citations": {
      "amh5w": [
       {
        "id": "17740253/MBVTIVPR",
        "source": "zotero"
       }
      ]
     }
    },
    "jp-MarkdownHeadingCollapsed": true
   },
   "source": [
    "# Introduction \n",
    "\n",
    "The increasing integration of collaborative robots (cobots) into various industrial and research applications has highlighted the critical need for precise joint torque measurements. Accurate torque estimation is paramount for tasks such as collision detection, dynamic parameter identification, and force control. Traditionally, torque estimation relies on motor current signals or dedicated torque sensors. However, these methods face significant limitations, including high noise levels in current-based measurements and increased system compliance and cost with additional sensors​​​​.\n",
    "\n",
    "The use of dual encoders in harmonic drive transmissions presents a promising alternative for torque estimation. By measuring torsional deformation through encoders positioned on both sides of the harmonic drive, it is possible to infer the joint torque. This method leverages the inherent structural elasticity of the harmonic drive transmission, potentially offering a more accurate and cost-effective solution​​​​. However, this approach is not without challenges. Various physical effects, such as friction, gear eccentricity, and position-dependent deformations, must be accurately modeled to achieve reliable torque estimates​​​​.\n",
    "\n",
    "The existing research on harmonic drive systems has extensively explored modeling techniques to account for compliance, hysteresis, and friction. Studies have demonstrated that combining linear stiffness models with appropriate damping representations can effectively replicate the dynamic behavior of harmonic drives​​​​. Additionally, external force estimation methods, which often rely on model-based approaches, emphasize the importance of accurate inverse dynamic models (IDM) for reliable performance​​​​. These methods, while effective, often face challenges due to nonlinear effects such as backlash and friction, which significantly impact the accuracy of the IDM​​.\n",
    "\n",
    "In this context, the proposed research aims to enhance the accuracy of virtual joint torque sensors using dual encoder information in harmonic drives. By conducting a comprehensive literature review and developing robust mathematical models, this study will address the various disturbances affecting joint torque measurements. The goal is to devise an improved virtual joint torque model that incorporates data-driven approaches and compensates for identified disturbances through advanced algorithms​​​​​​.\n",
    "\n",
    "The significance of this research lies in its potential to improve the precision and reliability of torque estimation in cobots, thereby enhancing their performance in critical applications. The developed methods will be validated through extensive experiments, comparing the proposed approach with existing techniques based on motor currents and inverse dynamic calculations. This validation will ensure the practical applicability of the improved virtual joint torque sensor in real-world scenarios​​.\n",
    "Need for This Research\n",
    "\n",
    "The need for this research arises from the growing demand for more accurate and efficient torque estimation methods in cobots. Traditional methods, while widely used, suffer from significant drawbacks that limit their effectiveness in high-precision applications. Motor current-based torque estimation is prone to noise and signal degradation, while torque sensors introduce additional compliance and cost, making them less desirable for widespread adoption​​​​.\n",
    "\n",
    "Leveraging dual encoder information in harmonic drives offers a novel solution that can overcome these limitations. By accurately modeling the physical effects influencing torsional deformation, it is possible to achieve higher accuracy in torque estimation. This approach not only reduces the reliance on noisy current signals but also eliminates the need for costly additional sensors, making it a more feasible option for various industrial applications​​​​.\n",
    "\n",
    "Moreover, the proposed research addresses a critical gap in the existing literature. While significant progress has been made in modeling harmonic drives, there remains a need for comprehensive models that account for the wide range of disturbances affecting torque measurements. By incorporating advanced data-driven techniques and validating the models through rigorous experimentation, this study aims to provide a robust framework for accurate torque estimation in cobots​​​​​​.\n",
    "\n",
    "In conclusion, this research is essential for advancing the state of the art in torque estimation for collaborative robots. By addressing the limitations of existing methods and developing a more accurate and cost-effective solution, it will significantly enhance the performance and reliability of cobots in various high-precision applications."
   ]
  },
  {
   "cell_type": "markdown",
   "id": "c9615140-0cd1-4995-97b6-f01388c2b1a5",
   "metadata": {},
   "source": [
    "<h1> Literature </h1>\n",
    "<!-- BIBLIOGRAPHY START -->\n",
    "<div class=\"csl-bib-body\">\n",
    "  <div class=\"csl-entry\"><i id=\"zotero|17740253/MBVTIVPR\"></i>Zhang, H., Ahmad, S., &#38; Liu, G. (2015). Torque Estimation for Robotic Joint With Harmonic Drive Transmission Based on Position Measurements. <i>IEEE Transactions on Robotics</i>, <i>31</i>(2), 322–330. <a href=\"https://doi.org/10.1109/TRO.2015.2402511\">https://doi.org/10.1109/TRO.2015.2402511</a></div>\n",
    "</div>\n",
    "<!-- BIBLIOGRAPHY END -->"
   ]
  },
  {
   "cell_type": "code",
   "execution_count": null,
   "id": "a5764d11-b0bc-4d12-a96c-00dca587c5cb",
   "metadata": {},
   "outputs": [],
   "source": []
  }
 ],
 "metadata": {
  "citation-manager": {
   "items": {
    "zotero": {
     "17740253/MBVTIVPR": {
      "DOI": "10.1109/TRO.2015.2402511",
      "URL": "http://ieeexplore.ieee.org/document/7054560/",
      "abstract": "Joint torque sensory feedback is an effective technique for achieving high-performance robot force and motion control. However, most robots are not equipped with joint torque sensors, and it is difﬁcult to add them without changing the joint’s mechanical structure. A method for estimating joint torque that exploits the existing structural elasticity of robotic joints with harmonic drive transmission is proposed in this paper. In the presented joint torque estimation method, motor-side and link-side position measurements along with a proposed harmonic drive compliance model, are used to realize stiff and sensitive joint torque estimation, without the need for adding an additional elastic body and using strain gauges to measure the joint torque. The proposed method has been experimentally studied and its performance is compared with measurements of a commercial torque sensor. The results have attested the effectiveness of the proposed torque estimation method.",
      "accessed": {
       "date-parts": [
        [
         2024,
         6,
         13
        ]
       ]
      },
      "author": [
       {
        "family": "Zhang",
        "given": "Hongwei"
       },
       {
        "family": "Ahmad",
        "given": "Saleh"
       },
       {
        "family": "Liu",
        "given": "Guangjun"
       }
      ],
      "container-title": "IEEE Transactions on Robotics",
      "id": "17740253/MBVTIVPR",
      "issue": "2",
      "issued": {
       "date-parts": [
        [
         "2015"
        ]
       ]
      },
      "journalAbbreviation": "IEEE Trans. Robot.",
      "language": "en",
      "page": "322-330",
      "system_id": "zotero|17740253/MBVTIVPR",
      "title": "Torque Estimation for Robotic Joint With Harmonic Drive Transmission Based on Position Measurements",
      "type": "article-journal",
      "volume": "31"
     }
    }
   }
  },
  "kernelspec": {
   "display_name": "Python 3 (ipykernel)",
   "language": "python",
   "name": "python3"
  },
  "language_info": {
   "codemirror_mode": {
    "name": "ipython",
    "version": 3
   },
   "file_extension": ".py",
   "mimetype": "text/x-python",
   "name": "python",
   "nbconvert_exporter": "python",
   "pygments_lexer": "ipython3",
   "version": "3.8.19"
  }
 },
 "nbformat": 4,
 "nbformat_minor": 5
}
