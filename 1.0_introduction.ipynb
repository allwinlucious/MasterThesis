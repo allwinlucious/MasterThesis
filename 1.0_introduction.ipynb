{
 "cells": [
  {
   "cell_type": "markdown",
   "id": "17cbf08f-bdd4-44c2-99ff-82e825e86d1d",
   "metadata": {
    "editable": true,
    "slideshow": {
     "slide_type": ""
    },
    "tags": []
   },
   "source": [
    "# Introduction "
   ]
  },
  {
   "cell_type": "markdown",
   "id": "c9ad9289-2bd8-4f37-b38d-87a50711ae55",
   "metadata": {},
   "source": [
    "Collaborative robots(cobots) are being increasingly intergrated into various industrial and research applications. Unlike industrial robots, these robots are lightweight and cost effective and hence typically do not come with joint torque sensors. However, the need for joint torque measurements in cobots exists for collision detection, dynamic parameter identification, and force control tasks. Traditionally, torque estimation relies on motor current signals or dedicated physical torque sensors, such as optical sensors [] or linear encoders that measure the deformation in an elastic body placed in the joint solely for this purpose []. However, these methods face significant limitations, including high noise levels in current-based measurements and the additional compliance introduced to the system and increased costs in case of physical sensors.\n",
    "\n",
    "A viable substitute for torque estimation is offered  by the combination of dual encoders and harmonic drive transmissions. Joint torque can be estimated by measuring torsional deformation using encoders placed on both sides of the harmonic drive. This approach may provide an economical solution by utilizing the built-in harmonic drive transmission and dual encoders. However, this method is not without difficulties, since precise modelling of a variety of physical effects—including friction, gear eccentricity, and position-dependent deformations is necessary to obtain accurate torque estimates.\n",
    "\n",
    "In robotic joints, the total torque can be divided into several components: some are lost to internal factors like friction, hysteresis, while others contribute directly to the dynamics of the system, such as moving the robotic link. The torques required for these internal dynamics are generally well understood and can be modeled. Apart from these, an important component of joint torque is the external joint torques, these are torques that arise from interactions between the robot and its environment. These external torques are crucial for tasks involving physical manipulation and contact with objects or humans, where precise torque estimation is essential. Hence, the focus of this thesis will be on estimating external joint torques rather than the total joint torque. \n",
    "\n",
    "The goal of this thesis is to develop a virtual joint torque model using a data-driven approach that incorporates multiple sources of torque information, such as motor currents and deformation in harmonic drive transmissions. By doing so, this study aims to improve the accuracy and reliability of external torque estimation in cobots, enhancing their performance in real-world applications."
   ]
  },
  {
   "cell_type": "markdown",
   "id": "25478599-0e47-450d-a5ab-de41ca4cdaf8",
   "metadata": {},
   "source": [
    "## Thesis Outline"
   ]
  },
  {
   "cell_type": "raw",
   "id": "55fca079-97ce-44eb-a12b-9bcdf2cea59f",
   "metadata": {},
   "source": [
    "The rest of the thesis is organized as follows:\n",
    "\n",
    "\\begin{itemize}\n",
    "    \\item In Chapter 2, the state-of-the-art research is discussed, where some relevant methodologies based on HDT with dual encoders, motor current, and Machine Learning are explored.\n",
    "    \\item In Chapter 3, fundamental concepts needed to understand the thesis are discussed briefly, and their algorithms are implemented.\n",
    "    \\item In Chapter 4, an analytical method using HDT and dual encoders is discussed.\n",
    "    \\item In Chapter 5, a Machine Learning model for a single joint is developed, which builds the foundation for Chapter 6.\n",
    "    \\item In Chapter 6, a Machine Learning model for estimating the joint torques of all the joints of the robot is presented.\n",
    "    \\item In Chapter 7, a practical application using the trained model is demonstrated.\n",
    "    \\item In Chapter 8, conclusions are drawn based on the results, and directions for further research are proposed.\n",
    "\\end{itemize}\n"
   ]
  }
 ],
 "metadata": {
  "citation-manager": {
   "items": {}
  },
  "kernelspec": {
   "display_name": "Python 3 (ipykernel)",
   "language": "python",
   "name": "python3"
  },
  "language_info": {
   "codemirror_mode": {
    "name": "ipython",
    "version": 3
   },
   "file_extension": ".py",
   "mimetype": "text/x-python",
   "name": "python",
   "nbconvert_exporter": "python",
   "pygments_lexer": "ipython3",
   "version": "3.8.19"
  }
 },
 "nbformat": 4,
 "nbformat_minor": 5
}
