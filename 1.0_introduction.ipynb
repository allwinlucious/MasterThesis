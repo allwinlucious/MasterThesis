{
 "cells": [
  {
   "cell_type": "markdown",
   "id": "17cbf08f-bdd4-44c2-99ff-82e825e86d1d",
   "metadata": {
    "editable": true,
    "slideshow": {
     "slide_type": ""
    },
    "tags": []
   },
   "source": [
    "# 1.0 Introduction "
   ]
  },
  {
   "cell_type": "markdown",
   "id": "c9ad9289-2bd8-4f37-b38d-87a50711ae55",
   "metadata": {},
   "source": [
    "## 1.1 Background and Motivation\n",
    "The increasing integration of collaborative robots (cobots) into various industrial and research applications has highlighted the critical need for precise joint torque measurements. Accurate torque estimation is paramount for tasks such as collision detection, dynamic parameter identification, and force control. Traditionally, torque estimation relies on motor current signals or dedicated torque sensors. However, these methods face significant limitations, including high noise levels in current-based measurements and increased system compliance and cost with additional sensors​​​​.\n",
    "\n",
    "The use of dual encoders in harmonic drive transmissions presents a promising alternative for torque estimation. By measuring torsional deformation through encoders positioned on both sides of the harmonic drive, it is possible to infer the joint torque. This method leverages the inherent structural elasticity of the harmonic drive transmission, potentially offering a more accurate and cost-effective solution​​​​. However, this approach is not without challenges. Various physical effects, such as friction, gear eccentricity, and position-dependent deformations, must be accurately modeled to achieve reliable torque estimates​​​​.\n",
    "\n",
    "The existing research on harmonic drive systems has extensively explored modeling techniques to account for compliance, hysteresis, and friction. Studies have demonstrated that combining linear stiffness models with appropriate damping representations can effectively replicate the dynamic behavior of harmonic drives​​​​. Additionally, external force estimation methods, which often rely on model-based approaches, emphasize the importance of accurate inverse dynamic models (IDM) for reliable performance​​​​. These methods, while effective, often face challenges due to nonlinear effects such as backlash and friction, which significantly impact the accuracy of the IDM​​.\n",
    "\n",
    "In this context, the proposed research aims to enhance the accuracy of virtual joint torque sensors using dual encoder information in harmonic drives. By conducting a comprehensive literature review and developing robust mathematical models, this study will address the various disturbances affecting joint torque measurements. The goal is to devise an improved virtual joint torque model that incorporates data-driven approaches and compensates for identified disturbances through advanced algorithms​​​​​​.\n",
    "\n",
    "The significance of this research lies in its potential to improve the precision and reliability of torque estimation in cobots, thereby enhancing their performance in critical applications. The developed methods will be validated through extensive experiments, comparing the proposed approach with existing techniques based on motor currents and inverse dynamic calculations. This validation will ensure the practical applicability of the improved virtual joint torque sensor in real-world scenarios​​.\n",
    "Need for This Research\n",
    "\n",
    "The need for this research arises from the growing demand for more accurate and efficient torque estimation methods in cobots. Traditional methods, while widely used, suffer from significant drawbacks that limit their effectiveness in high-precision applications. Motor current-based torque estimation is prone to noise and signal degradation, while torque sensors introduce additional compliance and cost, making them less desirable for widespread adoption​​​​.\n",
    "\n",
    "Leveraging dual encoder information in harmonic drives offers a novel solution that can overcome these limitations. By accurately modeling the physical effects influencing torsional deformation, it is possible to achieve higher accuracy in torque estimation. This approach not only reduces the reliance on noisy current signals but also eliminates the need for costly additional sensors, making it a more feasible option for various industrial applications​​​​.\n",
    "\n",
    "Moreover, the proposed research addresses a critical gap in the existing literature. While significant progress has been made in modeling harmonic drives, there remains a need for comprehensive models that account for the wide range of disturbances affecting torque measurements. By incorporating advanced data-driven techniques and validating the models through rigorous experimentation, this study aims to provide a robust framework for accurate torque estimation in cobots​​​​​​.\n",
    "\n",
    "In conclusion, this research is essential for advancing the state of the art in torque estimation for collaborative robots. By addressing the limitations of existing methods and developing a more accurate and cost-effective solution, it will significantly enhance the performance and reliability of cobots in various high-precision applications.\n",
    "\n",
    "In this context, a \"joint torque sensor\" refers specifically to the estimation of the useful torque that is effectively transmitted through the joint to perform work, such as moving the robotic link or interacting with external forces. This definition excludes internal torques dissipated through friction and other losses within the HDT. As the forces required to move the robotic link are typically well-understood and can be accurately modeled, the primary focus shifts to estimating the external torques—those forces that are not intrinsic to the system's dynamics but are rather due to interactions with the environment."
   ]
  },
  {
   "cell_type": "markdown",
   "id": "a28e5a41-c33f-4c52-b916-0af5a5875a2f",
   "metadata": {},
   "source": [
    "## 1.2 Objectives"
   ]
  },
  {
   "cell_type": "markdown",
   "id": "f7053e21-5fef-4d8e-adac-8b401b48991b",
   "metadata": {},
   "source": [
    "## 1.3 Outline"
   ]
  },
  {
   "cell_type": "markdown",
   "id": "0860de6f-564f-4367-bcd9-e0cd4922ca45",
   "metadata": {},
   "source": [
    "The structure of this thesis is organized as follows:\n",
    "* Chapter 2\n",
    "* Chapter 3 presents the principles of robot manipulators used in this thesis.\n",
    "This includes basic concepts about kinematics, like a compact way to describe\n",
    "transformation between frames, the adopted conventions, typical kinematic\n",
    "problems, and the kinematic description of the robot employed in the experi-\n",
    "ments. But also concepts about the dynamics of the robot. In particular, two\n",
    "common techniques used to obtain the differential equation of motion of a\n",
    "generic open-chain robot are described. In addition, static friction models are\n",
    "introduced to refine the prediction of robot motion along with the dynamic\n",
    "model. Popular model identification techniques applied to industrial manipu-\n",
    "lators are mentioned together with the problem of the generation of suitable\n",
    "trajectories.\n"
   ]
  },
  {
   "cell_type": "code",
   "execution_count": null,
   "id": "a03b1aff-8ef9-4551-9d6a-daff6979f5eb",
   "metadata": {},
   "outputs": [],
   "source": []
  }
 ],
 "metadata": {
  "citation-manager": {
   "items": {}
  },
  "kernelspec": {
   "display_name": "Python 3 (ipykernel)",
   "language": "python",
   "name": "python3"
  },
  "language_info": {
   "codemirror_mode": {
    "name": "ipython",
    "version": 3
   },
   "file_extension": ".py",
   "mimetype": "text/x-python",
   "name": "python",
   "nbconvert_exporter": "python",
   "pygments_lexer": "ipython3",
   "version": "3.8.19"
  }
 },
 "nbformat": 4,
 "nbformat_minor": 5
}
