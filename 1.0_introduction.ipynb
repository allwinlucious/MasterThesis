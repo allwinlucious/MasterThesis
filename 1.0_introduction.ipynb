{
 "cells": [
  {
   "cell_type": "markdown",
   "id": "17cbf08f-bdd4-44c2-99ff-82e825e86d1d",
   "metadata": {
    "editable": true,
    "slideshow": {
     "slide_type": ""
    },
    "tags": []
   },
   "source": [
    "# Introduction "
   ]
  },
  {
   "cell_type": "markdown",
   "id": "c9ad9289-2bd8-4f37-b38d-87a50711ae55",
   "metadata": {
    "citation-manager": {
     "citations": {
      "71oa9": [
       {
        "id": "17740253/JH2DWQ5X",
        "source": "zotero"
       }
      ],
      "lcpqk": [
       {
        "id": "17740253/E4Z54QIF",
        "source": "zotero"
       }
      ]
     }
    }
   },
   "source": [
    "Collaborative robots (cobots) are increasingly integrated into various industrial and research applications. Unlike industrial robots, these are lightweight and cost-effective and typically do not come with joint torque sensors. However, the need for joint torque measurements in cobots exists for collision detection, dynamic parameter identification, and force control tasks. Traditionally, torque estimation relies on motor current signals or dedicated physical sensors, such as optical sensors <cite id=\"71oa9\"><a href=\"#zotero%7C17740253%2FJH2DWQ5X\">(Tsetserukou et al., 2006)</a></cite> or linear encoders that measure the deformation in an elastic body placed in the joint solely for this purpose <cite id=\"lcpqk\"><a href=\"#zotero%7C17740253%2FE4Z54QIF\">(Kawakami et al., 2010)</a></cite>. However, these methods face significant limitations, including high noise levels in current-based measurements, the additional compliance introduced to the system, and increased costs for physical sensors.\n",
    "\n",
    "The combination of dual encoders and harmonic drive transmissions offers a viable substitute for torque estimation. Joint torque can be estimated by measuring torsional deformation using encoders placed on both sides of the harmonic drive. This approach may provide an economical solution using the built-in harmonic drive transmission and dual encoders. However, this method is not without difficulties since precise modelling of various physical effects, including friction, gear eccentricity, and position-dependent deformations, is necessary to obtain accurate torque estimates.\n",
    "\n",
    "In robotic joints, the total torque can be divided into multiple components: some are lost to internal factors like friction and hysteresis, while others contribute directly to the system's dynamics, such as moving the robotic link. The torques required for these internal dynamics are generally understood and can often be modelled. Apart from these, an essential component of joint torque is the external joint torques. These torques arise from interactions between the robot and its environment. The estimation of these external torques are crucial for tasks involving physical manipulation and contact with objects or humans. Hence, this thesis will focus on estimating external joint torques rather than the total joint torque. \n",
    "\n",
    "This thesis aims to develop a virtual joint torque model using a data-driven approach that uses multiple sources of torque information, such as motor currents and deformation in harmonic drive transmissions measured with dual-encoders. This study aims to improve the accuracy of \"sensorless\" external torque estimation in cobots, enhancing their performance and utility in real-world applications."
   ]
  },
  {
   "cell_type": "raw",
   "id": "55fca079-97ce-44eb-a12b-9bcdf2cea59f",
   "metadata": {},
   "source": [
    "The thesis is organized as follows:\n",
    "\n",
    "\\begin{itemize}\n",
    "    \\item In Chapter 2, the state-of-the-art research is discussed, where some methodologies based on Harmonic Drive Transmission (HDT) with dual encoders, motor current, and Machine Learning are explored.\n",
    "    \\item In Chapter 3, fundamental concepts like kinematics, dynamics and machine learning needed to understand this thesis are discussed briefly, and their algorithms implemented.\n",
    "    \\item In Chapter 4, an analytical method using HDT and dual encoders is discussed.\n",
    "    \\item In Chapter 5, a Machine Learning model for a single joint is developed, which builds the foundation for Chapter 6.\n",
    "    \\item In Chapter 6, a Machine Learning model for estimating the joint torques of all the joints of the robot is presented.\n",
    "    \\item In Chapter 7, a practical application using the trained model is demonstrated.\n",
    "    \\item In Chapter 8, conclusions are drawn based on the results, and directions for further research are proposed.\n",
    "\\end{itemize}\n"
   ]
  },
  {
   "cell_type": "markdown",
   "id": "b5d22769-62e3-4213-84b9-1f407cb5b780",
   "metadata": {},
   "source": [
    "## Bibliography"
   ]
  },
  {
   "cell_type": "markdown",
   "id": "cb21b30e-94bc-41f1-89ca-29cbddd213ed",
   "metadata": {},
   "source": [
    "<!-- BIBLIOGRAPHY START -->\n",
    "<div class=\"csl-bib-body\">\n",
    "  <div class=\"csl-entry\"><i id=\"zotero|17740253/E4Z54QIF\"></i>Kawakami, T., Ayusawa, K., Kaminaga, H., &#38; Nakamura, Y. (2010). High-fidelity joint drive system by torque feedback control using high precision linear encoder. <i>2010 IEEE International Conference on Robotics and Automation</i>, 3904–3909. <a href=\"https://doi.org/10.1109/ROBOT.2010.5509625\">https://doi.org/10.1109/ROBOT.2010.5509625</a></div>\n",
    "  <div class=\"csl-entry\"><i id=\"zotero|17740253/JH2DWQ5X\"></i>Tsetserukou, D., Tadakuma, R., Kajimoto, H., &#38; Tachi, S. (2006). Optical torque sensors for implementation of local impedance control of the arm of humanoid robot. <i>Proceedings 2006 IEEE International Conference on Robotics and Automation, 2006. ICRA 2006.</i>, 1674–1679. <a href=\"https://doi.org/10.1109/ROBOT.2006.1641947\">https://doi.org/10.1109/ROBOT.2006.1641947</a></div>\n",
    "</div>\n",
    "<!-- BIBLIOGRAPHY END -->"
   ]
  }
 ],
 "metadata": {
  "citation-manager": {
   "items": {
    "zotero": {
     "17740253/E4Z54QIF": {
      "DOI": "10.1109/ROBOT.2010.5509625",
      "URL": "https://ieeexplore.ieee.org/abstract/document/5509625",
      "abstract": "When robots cooperate with humans it is necessary for robots to move safely on sudden impact. Joint torque sensing is vital for robots to realize safe behavior and enhance physical performance. Firstly, this paper describes a new torque sensor with linear encoders which demonstrates electro magnetic noise immunity and is unaffected temperature changes. Secondly, we propose a friction compensation method using a disturbance observer to improve the positioning accuracy. In addition, we describe a torque feedback control method which scales down the motor inertia and enhances the joint flexibility. Experimental results of the proposed controller are presented.",
      "accessed": {
       "date-parts": [
        [
         2024,
         8,
         18
        ]
       ]
      },
      "author": [
       {
        "family": "Kawakami",
        "given": "Tomohiro"
       },
       {
        "family": "Ayusawa",
        "given": "Ko"
       },
       {
        "family": "Kaminaga",
        "given": "Hiroshi"
       },
       {
        "family": "Nakamura",
        "given": "Yoshihiko"
       }
      ],
      "container-title": "2010 IEEE International Conference on Robotics and Automation",
      "event": "2010 IEEE International Conference on Robotics and Automation",
      "id": "17740253/E4Z54QIF",
      "issued": {
       "date-parts": [
        [
         2010,
         5
        ]
       ]
      },
      "note": "ISSN: 1050-4729",
      "page": "3904-3909",
      "system_id": "zotero|17740253/E4Z54QIF",
      "title": "High-fidelity joint drive system by torque feedback control using high precision linear encoder",
      "type": "paper-conference"
     },
     "17740253/JH2DWQ5X": {
      "DOI": "10.1109/ROBOT.2006.1641947",
      "URL": "https://ieeexplore.ieee.org/document/1641947",
      "abstract": "This paper describes the recent development of new optical torque sensor in order to replace expensive strain gauge sensor attached at the tip of the anthropomorphic robot arm and realize local impedance control in each joint",
      "accessed": {
       "date-parts": [
        [
         2024,
         8,
         18
        ]
       ]
      },
      "author": [
       {
        "family": "Tsetserukou",
        "given": "D."
       },
       {
        "family": "Tadakuma",
        "given": "R."
       },
       {
        "family": "Kajimoto",
        "given": "H."
       },
       {
        "family": "Tachi",
        "given": "S."
       }
      ],
      "container-title": "Proceedings 2006 IEEE International Conference on Robotics and Automation, 2006. ICRA 2006.",
      "event": "Proceedings 2006 IEEE International Conference on Robotics and Automation, 2006. ICRA 2006.",
      "id": "17740253/JH2DWQ5X",
      "issued": {
       "date-parts": [
        [
         2006,
         5
        ]
       ]
      },
      "note": "ISSN: 1050-4729",
      "page": "1674-1679",
      "system_id": "zotero|17740253/JH2DWQ5X",
      "title": "Optical torque sensors for implementation of local impedance control of the arm of humanoid robot",
      "type": "paper-conference"
     }
    }
   }
  },
  "kernelspec": {
   "display_name": "Python 3 (ipykernel)",
   "language": "python",
   "name": "python3"
  },
  "language_info": {
   "codemirror_mode": {
    "name": "ipython",
    "version": 3
   },
   "file_extension": ".py",
   "mimetype": "text/x-python",
   "name": "python",
   "nbconvert_exporter": "python",
   "pygments_lexer": "ipython3",
   "version": "3.8.19"
  }
 },
 "nbformat": 4,
 "nbformat_minor": 5
}
