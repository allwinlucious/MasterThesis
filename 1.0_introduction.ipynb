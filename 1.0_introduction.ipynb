{
 "cells": [
  {
   "cell_type": "markdown",
   "id": "c9ad9289-2bd8-4f37-b38d-87a50711ae55",
   "metadata": {
    "citation-manager": {
     "citations": {
      "amh5w": [
       {
        "id": "17740253/MBVTIVPR",
        "source": "zotero"
       }
      ]
     }
    },
    "jp-MarkdownHeadingCollapsed": true
   },
   "source": [
    "# Introduction ?\n",
    "\n",
    "i used this paper <cite id=\"amh5w\"><a href=\"#zotero%7C17740253%2FMBVTIVPR\">(Zhang et al., 2015)</a></cite>"
   ]
  },
  {
   "cell_type": "markdown",
   "id": "c9615140-0cd1-4995-97b6-f01388c2b1a5",
   "metadata": {},
   "source": [
    "<h1> Literature </h1>\n",
    "<!-- BIBLIOGRAPHY START -->\n",
    "<div class=\"csl-bib-body\">\n",
    "  <div class=\"csl-entry\"><i id=\"zotero|17740253/MBVTIVPR\"></i>Zhang, H., Ahmad, S., &#38; Liu, G. (2015). Torque Estimation for Robotic Joint With Harmonic Drive Transmission Based on Position Measurements. <i>IEEE Transactions on Robotics</i>, <i>31</i>(2), 322–330. <a href=\"https://doi.org/10.1109/TRO.2015.2402511\">https://doi.org/10.1109/TRO.2015.2402511</a></div>\n",
    "</div>\n",
    "<!-- BIBLIOGRAPHY END -->"
   ]
  },
  {
   "cell_type": "code",
   "execution_count": null,
   "id": "a5764d11-b0bc-4d12-a96c-00dca587c5cb",
   "metadata": {},
   "outputs": [],
   "source": []
  }
 ],
 "metadata": {
  "citation-manager": {
   "items": {
    "zotero": {
     "17740253/MBVTIVPR": {
      "DOI": "10.1109/TRO.2015.2402511",
      "URL": "http://ieeexplore.ieee.org/document/7054560/",
      "abstract": "Joint torque sensory feedback is an effective technique for achieving high-performance robot force and motion control. However, most robots are not equipped with joint torque sensors, and it is difﬁcult to add them without changing the joint’s mechanical structure. A method for estimating joint torque that exploits the existing structural elasticity of robotic joints with harmonic drive transmission is proposed in this paper. In the presented joint torque estimation method, motor-side and link-side position measurements along with a proposed harmonic drive compliance model, are used to realize stiff and sensitive joint torque estimation, without the need for adding an additional elastic body and using strain gauges to measure the joint torque. The proposed method has been experimentally studied and its performance is compared with measurements of a commercial torque sensor. The results have attested the effectiveness of the proposed torque estimation method.",
      "accessed": {
       "date-parts": [
        [
         2024,
         6,
         13
        ]
       ]
      },
      "author": [
       {
        "family": "Zhang",
        "given": "Hongwei"
       },
       {
        "family": "Ahmad",
        "given": "Saleh"
       },
       {
        "family": "Liu",
        "given": "Guangjun"
       }
      ],
      "container-title": "IEEE Transactions on Robotics",
      "id": "17740253/MBVTIVPR",
      "issue": "2",
      "issued": {
       "date-parts": [
        [
         "2015"
        ]
       ]
      },
      "journalAbbreviation": "IEEE Trans. Robot.",
      "language": "en",
      "page": "322-330",
      "system_id": "zotero|17740253/MBVTIVPR",
      "title": "Torque Estimation for Robotic Joint With Harmonic Drive Transmission Based on Position Measurements",
      "type": "article-journal",
      "volume": "31"
     }
    }
   }
  },
  "kernelspec": {
   "display_name": "Python 3 (ipykernel)",
   "language": "python",
   "name": "python3"
  },
  "language_info": {
   "codemirror_mode": {
    "name": "ipython",
    "version": 3
   },
   "file_extension": ".py",
   "mimetype": "text/x-python",
   "name": "python",
   "nbconvert_exporter": "python",
   "pygments_lexer": "ipython3",
   "version": "3.8.19"
  }
 },
 "nbformat": 4,
 "nbformat_minor": 5
}
