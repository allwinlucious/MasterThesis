{
 "cells": [
  {
   "cell_type": "markdown",
   "id": "055dea4a-da3c-435f-9805-775319233482",
   "metadata": {
    "citation-manager": {
     "citations": {
      "3m7ql": [
       {
        "id": "17740253/4JU53NME",
        "source": "zotero"
       }
      ],
      "6vala": [
       {
        "id": "17740253/BIWERWJ7",
        "source": "zotero"
       }
      ],
      "bh7m7": [
       {
        "id": "17740253/VIEJXI38",
        "source": "zotero"
       }
      ],
      "jth1q": [
       {
        "id": "17740253/CLTM4H38",
        "source": "zotero"
       }
      ],
      "nvw88": [
       {
        "id": "17740253/843QY6TN",
        "source": "zotero"
       }
      ],
      "ow8na": [
       {
        "id": "17740253/3KVDEEAC",
        "source": "zotero"
       }
      ],
      "r8xbm": [
       {
        "id": "17740253/QQJPQQQW",
        "source": "zotero"
       }
      ],
      "tg8wh": [
       {
        "id": "17740253/2JIYDKKU",
        "source": "zotero"
       }
      ],
      "vkkcp": [
       {
        "id": "17740253/4JU53NME",
        "source": "zotero"
       }
      ]
     }
    }
   },
   "source": [
    "# 2. State of the Art\n",
    "\n",
    "This chapter will cover the state of the art in torque and force estimation methods for\n",
    "robotic systems, focusing on techniques without a dedicated sensor that utilizes motor\n",
    "current and dual encoder measurements. It will examine the advancements in harmonic\n",
    "drive transmission-based, motor current-based and machine learning based methods. Additionally, the chapter will discuss the studies that incorporated machine learning and\n",
    "Kalman filtering into these models to enhance accuracy and robustness.\n",
    "\n",
    "## 2.1. Harmonic Drive Transmission and Dual Encoder-Based Torque Estimation\n",
    "A study by Zhang et al. <cite id=\"vkkcp\"><a href=\"#zotero%7C17740253%2F4JU53NME\">[1]</a></cite> uses only position measurements from motor-side and link-side encoders to provide a method for estimating joint torque in robotic systems that use harmonic drives. The approach considers kinematic errors and nonlinearities when modelling the harmonic drive's torsional compliance. The measured torsional deformation of the flexspline ($Δθ_{fs}$), which is obtained from position measurements using the following equation \n",
    "\\begin{equation}\n",
    "τ_{fs}=\\frac{tan⁡(Δθ_{fs}C_{fs}K_{fs0})}{C_{fs}},\\tag{2.1}\n",
    "\\end{equation}\n",
    "where $K_{fs0}$ is the initial stiffness, and $C_{fs}$ is a compliance constant and are both obtained emperically. This yields the estimated torque $τ_{fs}$. \n",
    "\n",
    "This method does not consider the harmonic drive system’s dynamic frictional effects and\n",
    "structural damping. Errors in estimation arise from these unmodelled dynamics, particularly when there are sudden changes in load or direction. A following study by Ismail\n",
    "et al. <cite id=\"ow8na\"><a href=\"#zotero%7C17740253%2F3KVDEEAC\">[2]</a></cite> builds up on this research to address this by introducing a simplified approach that leverages the structural damping friction of the harmonic drive system, which\n",
    "is mentioned to have a good correlation with the output torque from the transmission.\n",
    "The method simplifies the torque estimation process by focusing on the torsional rate\n",
    "rather than relying on nonlinear compliance models. The flexspline torsional deformation\n",
    "rate $\\Delta \\dot \\theta_{fs}$ is used along with a linear dynamic model to estimate the torque, represented\n",
    "by\n",
    "\\begin{equation}\n",
    "\\tau_{fs} = \\tau_{fs0} + B_{st} \\Delta \\thetȧ_{fs} e^{- t/T},\\tag{2.2}\n",
    "\\end{equation}\n",
    "where $B_{st}$ obtained empirically is the structural damping friction parameter, $e^{- t/T}$ is low pass filter with a time constant $T$ and $\\tau_{sf0}$ is the initial torque when motor output torque is zero. In the proposed method, the torsional rate $\\Delta \\thetȧ_{fs}$ is set to zero when the absolute value of the total torsional deformation $Δθ$ falls below a predefined threshold. This condition minimizes amplification of noise and small, insignificant deformations that do not correlate strongly with the actual torque. However, this discontinuity causes torque ripples in the estimates and limits performance in low torsional rate scenarios. \n",
    "\n",
    "Another research <cite id=\"tg8wh\"><a href=\"#zotero%7C17740253%2F2JIYDKKU\">[3]</a></cite> using the compliance model (Equation 2.1) reported that it\n",
    "degrades performance when coupling characteristics are involved and proposes a hybrid\n",
    "method to study this complex nonlinearity. Combining the harmonic drive compliance\n",
    "model with Gaussian Process Regression (GPR) enhances torque estimation\n",
    "precision by using GPR to correct the compliance model’s predictions. The hybrid model\n",
    "is expressed as\n",
    "\\begin{equation}\n",
    "\\tau_f = \\frac{\\tan(\\Delta \\theta_f C_f K_f)}{C_f} + f(\\theta_f, \\theta_w, I_m),\\tag{2.3}\n",
    "\\end{equation}\n",
    "\n",
    "where $f(\\theta_f, \\theta_w, I_m)$ represents the GPR-learned correction term based on link-side angles $\\theta_f$, motor-side angles $\\theta_w$, and motor current $I_m$. Although the model has only been tested primarily on an open kinematic chain with two links, this approach involving machine learning and including motor currents and encoder readings showed promising results. \n",
    "\n",
    "More studies build on the compliance model <cite id=\"3m7ql\"><a href=\"#zotero%7C17740253%2F4JU53NME\">[1]</a></cite>, like <cite id=\"jth1q\"><a href=\"#zotero%7C17740253%2FCLTM4H38\">[4]</a></cite>, which introduced an\n",
    "Unscented Kalman Filter to enhance torque estimation accuracy in robotic joints with\n",
    "harmonic drives. However, like the previous models, it was developed and tested on simple\n",
    "systems, and its performance in more complex robots like a 6-DOF serial manipulator\n",
    "has not been explored. Therefore, while these papers provide a solid introduction to\n",
    "state-of-the-art harmonic drive-based torque estimation methods, their applicability to\n",
    "more complex, multi-joint robotic systems with dominant coupling characteristics remain\n",
    "uncertain.\n",
    "\n",
    "## 2.2. Motor Current-Based Approaches\n",
    "\n",
    "Motor currents provide another source of information about the joint torques and many\n",
    "studies have leveraged this. This subsection provides a brief overview of these studies.\n",
    "\n",
    "Li et al. <cite id=\"r8xbm\"><a href=\"#zotero%7C17740253%2FQQJPQQQW\">[5]</a></cite> presented a method for force estimation using motor current measurements, eliminating the need for additional sensors. This approach uses the  dynamic model of the robotic manipulator, where the relationship between motor torques and motor currents is given by $\\tau_m = K I_m$, with $K$ being the motor torque constant and $I_m$ the motor current.\n",
    "\n",
    "The method estimates the external forces and torques applied at the Tool Center Point (TCP) by reducing the motor current-based torque estimates from the manipulator's dynamic equation. According to the dynamics, the relationship can be expressed as\n",
    "\n",
    "\\begin{equation}\n",
    "M(q)\\ddot{q} + C(q, \\dot{q})\\dot{q} + G(q) + \\tau_{f} = KI_m - J^T(q)f,\\tag{2.4}\n",
    "\\end{equation}\n",
    "\n",
    "where:\n",
    "- $M(q)\\ddot{q}$ is the inertia-related term.\n",
    "- $C(q,\\dot{q})\\dot{q}$ represents Coriolis and centrifugal forces.\n",
    "- $G(q)$ accounts for gravitational forces.\n",
    "- $\\tau_f$ is the friction torque.\n",
    "- $K I_m$ is the motor torque derived from the motor currents.\n",
    "- $J^T(q)f$ is the contribution of the external forces and torques at the end-effector.\n",
    "\n",
    "By rearranging this equation to solve for the external wrench  $f$, the method estimates the forces and torques acting on the end-effector based on the motor currents. This approach has been validated on a 6-DOF manipulator, demonstrating reliable force estimation and offering a cost-effective, sensorless alternative for force-controlled tasks in robotics.\n",
    "\n",
    "However, this approach is affected by the noisy nature of acceleration data derived from double differentiation of position measurements. To address this, Van Damme et al. <cite id=\"6vala\"><a href=\"#zotero%7C17740253%2FBIWERWJ7\">[6]</a></cite> proposed a generalized momentum-based disturbance observer that avoids the need for acceleration measurements altogether.\n",
    "\n",
    "In this approach, the generalized momentum $p$ is defined as\n",
    "\\begin{equation}\n",
    "p = H(q)\\dot{q},\\tag{2.5}\n",
    "\\end{equation}\n",
    "where $H(q)$ is the inertia matrix and $\\dot{q}$ is the joint velocity vector. The time derivative of the generalized momentum is given by\n",
    "\\begin{equation}\n",
    "\\dot{p} = \\tau + C^T(q, \\dot{q})\\dot{q} - G(q) - \\tau_f(\\dot{q}) + \\tau_d,\\tag{2.6}\n",
    "\\end{equation}\n",
    "where $\\tau$ represents the actuator torques, $C^T(q, \\dot{q})\\dot{q}$ includes Coriolis and centrifugal forces, $G(q)$ accounts for gravity, $\\tau_f(\\dot{q})$ represents friction, and $\\tau_d$ is the disturbance torque due to external forces acting on the end effector.\n",
    "\n",
    "The generalized momentum-based observer allows for the estimation of these disturbance torques, and subsequently, the external forces, without the need to directly measure or estimate acceleration. Hence, this approach provides a more accurate and noise-resistant estimation of external forces.\n",
    "\n",
    "Building upon this, Wahrburg et al. <cite id=\"bh7m7\"><a href=\"#zotero%7C17740253%2FVIEJXI38\">[7]</a></cite> proposed a method that combines the generalized momentum approach with a Kalman filter, improving estimation accuracy and robustness. By integrating a Kalman filter, the method accounts for measurement noise and uncertainty in the friction model, refining the estimate of external forces $f$. The Kalman filter models the wrench $f$ as a constant with a small noise term, resulting in a more accurate and robust estimation:\n",
    "\\begin{equation}\n",
    "\\dot{p} = \\tau - J^T(q)f + w_p,\\tag{2.7}\n",
    "\\end{equation}\n",
    "where $w_p$ represents the process noise. By modelling the wrench $f$ as a constant with a small noise term, the Kalman filter refines the estimate of $f$.\n",
    "\n",
    "Another approach mentioned in <cite id=\"nvw88\"><a href=\"#zotero%7C17740253%2F843QY6TN\">[8]</a></cite> estimated the external torque by reducing the motor torque $\\tau_m$ from the torque feedforward [Equation 3.8](./3.0_Fundamentals.ipynb#3.4.1.-Equations-of-motion) which is obtained from inverse dynamics calculations assuming no external torque. It is mentioned that \"This method may work reasonably well for stiff position control and smooth desired motion\".  This is a simple way to estimate external torques and is used as a baseline method in this thesis, to which, the later developed models will be compared to. This method will henceforth be referred to as \"motor current-based method\"."
   ]
  },
  {
   "cell_type": "markdown",
   "id": "da654827-b2c8-4dbc-9edb-31d950afd9ad",
   "metadata": {},
   "source": [
    "## 2.3. Machine Leanring Based Approaches"
   ]
  },
  {
   "cell_type": "markdown",
   "id": "363149f0-be09-4023-8207-93ae1a70e838",
   "metadata": {
    "citation-manager": {
     "citations": {
      "c0z8u": [
       {
        "id": "17740253/PGPL4Y7H",
        "source": "zotero"
       }
      ],
      "i8s3q": [
       {
        "id": "17740253/NDTXCQI7",
        "source": "zotero"
       }
      ]
     }
    }
   },
   "source": [
    "Guilia et al. <cite id=\"c0z8u\"><a href=\"#zotero%7C17740253%2FPGPL4Y7H\">[9]</a></cite> presented a Machine Learning based approach to predict the joint torques of a robot arm. By using the position, velocity and acceleration from all joints as inputs, the study was able to reliably estimate joint torques with a Mean Squared error of $10^{-4}Nm$. This study concluded that Neural Networks can predict joint torques\n",
    "and handle nonlinear dynamics well\n",
    "\n",
    "A study by Hung et al. <cite id=\"i8s3q\"><a href=\"#zotero%7C17740253%2FNDTXCQI7\">[10]</a></cite> presented a hybrid approach using traditional mathematical modelling and machine learning techniques, specifically Extreme Gradient Boosting\n",
    "(XGBoost), to estimate external torques and forces on a 6-DOF robotic arm. By using\n",
    "position, velocity, and acceleration data from all joints, they used the XGBoost model\n",
    "to estimate the torques at joints when there are no external disturbances. When external\n",
    "disturbances are present, the external torque can then be calculated by reducing this\n",
    "estimate from the motor torques. They also demonstrated the use of this method in a\n",
    "Hybrid position force controller to apply a target force in the Z-direction. This experiment\n",
    "resulted in the Root Mean Squared Error (RMSE) of approximately 13 N.\n",
    "These studies show that Machine Learning approaches are indeed finding success\n",
    "in the problem of Joint Torque estimation"
   ]
  },
  {
   "cell_type": "markdown",
   "id": "ae8390b4-4295-4642-9852-8d3e899b6da9",
   "metadata": {},
   "source": [
    "## Bibliography\n",
    "<!-- BIBLIOGRAPHY START -->\n",
    "<div class=\"csl-bib-body\">\n",
    "  <div class=\"csl-entry\"><i id=\"zotero|17740253/4JU53NME\"></i>\n",
    "    <div class=\"csl-left-margin\">[1]</div><div class=\"csl-right-inline\">H. Zhang, S. Ahmad, and G. Liu, “Torque Estimation for Robotic Joint With Harmonic Drive Transmission Based on Position Measurements,” <i>IEEE Trans. Robot.</i>, vol. 31, no. 2, pp. 322–330, 2015, doi: <a href=\"https://doi.org/10.1109/TRO.2015.2402511\">10.1109/TRO.2015.2402511</a>.</div>\n",
    "  </div>\n",
    "  <div class=\"csl-entry\"><i id=\"zotero|17740253/3KVDEEAC\"></i>\n",
    "    <div class=\"csl-left-margin\">[2]</div><div class=\"csl-right-inline\">M. A. A. Ismail, J. Windelberg, and G. Liu, “Simplified Sensorless Torque Estimation Method for Harmonic Drive Based Electro-Mechanical Actuator,” <i>IEEE Robot. Autom. Lett.</i>, vol. 6, no. 2, pp. 835–840, 2021, doi: <a href=\"https://doi.org/10.1109/LRA.2021.3052392\">10.1109/LRA.2021.3052392</a>.</div>\n",
    "  </div>\n",
    "  <div class=\"csl-entry\"><i id=\"zotero|17740253/2JIYDKKU\"></i>\n",
    "    <div class=\"csl-left-margin\">[3]</div><div class=\"csl-right-inline\">K. Xia, L. Ding, G. Liu, H. Gao, and Z. Deng, “A Novel Virtual Torque Sensor for Rescue Robots with Harmonic Drives.” Sep. 23, 2016. doi: <a href=\"https://doi.org/10.20944/preprints201609.0084.v1\">10.20944/preprints201609.0084.v1</a>.</div>\n",
    "  </div>\n",
    "  <div class=\"csl-entry\"><i id=\"zotero|17740253/CLTM4H38\"></i>\n",
    "    <div class=\"csl-left-margin\">[4]</div><div class=\"csl-right-inline\">Z. Minghong, X. Shu, and Y. Fei, “Torque estimation for robotic joint with harmonic drive trans- mission based on system dynamic characteristics,” vol. 33, no. 6, 2022.</div>\n",
    "  </div>\n",
    "  <div class=\"csl-entry\"><i id=\"zotero|17740253/QQJPQQQW\"></i>\n",
    "    <div class=\"csl-left-margin\">[5]</div><div class=\"csl-right-inline\">X. Li, Y. Wang, Z. Yang, and H. Zhou, “End-Effector Force Estimation for Robotic Manipulators from Motor Current Measurements,” in <i>2019 IEEE International Conference on Mechatronics and Automation (ICMA)</i>, Tianjin, China, 2019, pp. 744–749. doi: <a href=\"https://doi.org/10.1109/ICMA.2019.8816546\">10.1109/ICMA.2019.8816546</a>.</div>\n",
    "  </div>\n",
    "  <div class=\"csl-entry\"><i id=\"zotero|17740253/BIWERWJ7\"></i>\n",
    "    <div class=\"csl-left-margin\">[6]</div><div class=\"csl-right-inline\">M. Van Damme <i>et al.</i>, “Estimating robot end-effector force from noisy actuator torque measurements,” in <i>2011 IEEE International Conference on Robotics and Automation</i>, May 2011, pp. 1108–1113. doi: <a href=\"https://doi.org/10.1109/ICRA.2011.5980210\">10.1109/ICRA.2011.5980210</a>.</div>\n",
    "  </div>\n",
    "  <div class=\"csl-entry\"><i id=\"zotero|17740253/VIEJXI38\"></i>\n",
    "    <div class=\"csl-left-margin\">[7]</div><div class=\"csl-right-inline\">“Wahrburg et al. - 2018 - Motor-Current-Based Estimation of Cartesian Contac.pdf.”</div>\n",
    "   </div>\n",
    "  <div class=\"csl-entry\"><i id=\"zotero|17740253/843QY6TN\"></i>\n",
    "    <div class=\"csl-left-margin\">[8]</div><div class=\"csl-right-inline\">S. Haddadin, A. De Luca, and A. Albu-Schaffer, “Robot Collisions: A Survey on Detection, Isolation, and Identification,” <i>IEEE Trans. Robot.</i>, vol. 33, no. 6, pp. 1292–1312, 2017, doi: <a href=\"https://doi.org/10.1109/TRO.2017.2723903\">10.1109/TRO.2017.2723903</a>.</div>\n",
    "  </div>\n",
    "  <div class=\"csl-entry\"><i id=\"zotero|17740253/PGPL4Y7H\"></i>\n",
    "    <div class=\"csl-left-margin\">[9]</div><div class=\"csl-right-inline\">G. d’Addato, R. Carli, E. Pedrosa, A. Pereira, L. Palopoli, and D. Fontanelli, “Joint torques prediction of a robotic arm using neural networks.” arXiv, Mar. 28, 2024. Accessed: Jul. 03, 2024. [Online]. Available: <a href=\"http://arxiv.org/abs/2405.00695\">http://arxiv.org/abs/2405.00695</a></div>\n",
    "  </div>\n",
    "  <div class=\"csl-entry\"><i id=\"zotero|17740253/NDTXCQI7\"></i>\n",
    "    <div class=\"csl-left-margin\">[10]</div><div class=\"csl-right-inline\">C.-W. Hung and G.-Y. Jiang, “Application of External Torque Observer and Virtual Force Sensor for a 6-DOF Robot,” <i>Applied Sciences</i>, vol. 13, no. 19, p. 10917, Oct. 2023, doi: <a href=\"https://doi.org/10.3390/app131910917\">10.3390/app131910917</a>.</div>\n",
    "  </div>\n",
    "</div>\n",
    "<!-- BIBLIOGRAPHY END -->"
   ]
  }
 ],
 "metadata": {
  "citation-manager": {
   "items": {
    "zotero": {
     "17740253/2JIYDKKU": {
      "DOI": "10.20944/preprints201609.0084.v1",
      "URL": "http://www.preprints.org/manuscript/201609.0084/v1",
      "abstract": "In this paper, a method is developed for presenting a novel virtual torque sensor based on precise model and position measurements avoids the need of traditional strain gauges and amplifiers. More specifically, the harmonic drive compliance model and the Gaussian process regression (GPR) technique are used together to achieve virtual torque sensor measurement. While the harmonic drive compliance model provides the analytic part, the Gaussian process regression method is used to reconstruct the unmolded part based on motor-side and link-side joint angles as well as motor current. After an automatic offline calibration, the method allows for a lean online implementation. The virtual torque sensor measurement is compared with measurements of a commercial torque sensor, and the results have attested the effectiveness of the proposed method.",
      "accessed": {
       "date-parts": [
        [
         2024,
         7,
         3
        ]
       ]
      },
      "author": [
       {
        "family": "Xia",
        "given": "Kerui"
       },
       {
        "family": "Ding",
        "given": "Liang"
       },
       {
        "family": "Liu",
        "given": "Guangjun"
       },
       {
        "family": "Gao",
        "given": "Haibo"
       },
       {
        "family": "Deng",
        "given": "Zongquan"
       }
      ],
      "id": "17740253/2JIYDKKU",
      "issued": {
       "date-parts": [
        [
         2016,
         9,
         23
        ]
       ]
      },
      "language": "en",
      "system_id": "zotero|17740253/2JIYDKKU",
      "title": "A Novel Virtual Torque Sensor for Rescue Robots with Harmonic Drives",
      "type": "article"
     },
     "17740253/3KVDEEAC": {
      "DOI": "10.1109/LRA.2021.3052392",
      "URL": "https://ieeexplore.ieee.org/document/9326333/",
      "abstract": "Torque measurements can signiﬁcantly enhance control and monitoring loops for many mechatronic and aerospace applications. A typical challenge is to justify incorporating a torque sensor in terms of cost, system complexity, and reliability. Recently, sensorless torque estimation methods have been developed for robotic joints that include harmonic drive transmissions (HDTs). The principle is based on their relatively low torsional stiffness, which allows for estimating the transmitted torque by measuring the torsional angles (via existing joint encoders) and a compliance model. However, these methods are based on nonlinear models that are difﬁcult to identify and tune. In this study, a simpliﬁed torque estimation method is introduced based on the structural damping friction of the HDTs. The structural damping can be correlated to the HDT torque using a simpliﬁed linear dynamic model and torsional rate measurements. Experimental results have validated the proposed method, using a robotic joint setup with an external torque sensor that has been previously utilized for testing several torque estimation methods.",
      "accessed": {
       "date-parts": [
        [
         2024,
         7,
         3
        ]
       ]
      },
      "author": [
       {
        "family": "Ismail",
        "given": "Mohamed A. A."
       },
       {
        "family": "Windelberg",
        "given": "Jens"
       },
       {
        "family": "Liu",
        "given": "Guangjun"
       }
      ],
      "container-title": "IEEE Robotics and Automation Letters",
      "id": "17740253/3KVDEEAC",
      "issue": "2",
      "issued": {
       "date-parts": [
        [
         "2021"
        ]
       ]
      },
      "journalAbbreviation": "IEEE Robot. Autom. Lett.",
      "language": "en",
      "page": "835-840",
      "system_id": "zotero|17740253/3KVDEEAC",
      "title": "Simplified Sensorless Torque Estimation Method for Harmonic Drive Based Electro-Mechanical Actuator",
      "type": "article-journal",
      "volume": "6"
     },
     "17740253/4JU53NME": {
      "DOI": "10.1109/TRO.2015.2402511",
      "URL": "http://ieeexplore.ieee.org/document/7054560/",
      "abstract": "Joint torque sensory feedback is an effective technique for achieving high-performance robot force and motion control. However, most robots are not equipped with joint torque sensors, and it is difﬁcult to add them without changing the joint’s mechanical structure. A method for estimating joint torque that exploits the existing structural elasticity of robotic joints with harmonic drive transmission is proposed in this paper. In the presented joint torque estimation method, motor-side and link-side position measurements along with a proposed harmonic drive compliance model, are used to realize stiff and sensitive joint torque estimation, without the need for adding an additional elastic body and using strain gauges to measure the joint torque. The proposed method has been experimentally studied and its performance is compared with measurements of a commercial torque sensor. The results have attested the effectiveness of the proposed torque estimation method.",
      "accessed": {
       "date-parts": [
        [
         2024,
         7,
         3
        ]
       ]
      },
      "author": [
       {
        "family": "Zhang",
        "given": "Hongwei"
       },
       {
        "family": "Ahmad",
        "given": "Saleh"
       },
       {
        "family": "Liu",
        "given": "Guangjun"
       }
      ],
      "container-title": "IEEE Transactions on Robotics",
      "id": "17740253/4JU53NME",
      "issue": "2",
      "issued": {
       "date-parts": [
        [
         "2015"
        ]
       ]
      },
      "journalAbbreviation": "IEEE Trans. Robot.",
      "language": "en",
      "page": "322-330",
      "system_id": "zotero|17740253/4JU53NME",
      "title": "Torque Estimation for Robotic Joint With Harmonic Drive Transmission Based on Position Measurements",
      "type": "article-journal",
      "volume": "31"
     },
     "17740253/843QY6TN": {
      "DOI": "10.1109/TRO.2017.2723903",
      "URL": "https://ieeexplore.ieee.org/document/8059840/",
      "abstract": "Robot assistants and professional coworkers are becoming a commodity in domestic and industrial settings. In order to enable robots to share their workspace with humans and physically interact with them, fast and reliable handling of possible collisions on the entire robot structure is needed, along with control strategies for safe robot reaction. The primary motivation is the prevention or limitation of possible human injury due to physical contacts. In this survey paper, based on our early work on the subject, we review, extend, compare, and evaluate experimentally model-based algorithms for real-time collision detection, isolation, and identiﬁcation that use only proprioceptive sensors. This covers the context-independent phases of the collision event pipeline for robots interacting with the environment, as in physical human–robot interaction or manipulation tasks. The problem is addressed for rigid robots ﬁrst and then extended to the presence of joint/transmission ﬂexibility. The basic physically motivated solution has already been applied to numerous robotic systems worldwide, ranging from manipulators and humanoids to ﬂying robots, and even to commercial products.",
      "accessed": {
       "date-parts": [
        [
         2024,
         7,
         3
        ]
       ]
      },
      "author": [
       {
        "family": "Haddadin",
        "given": "Sami"
       },
       {
        "family": "De Luca",
        "given": "Alessandro"
       },
       {
        "family": "Albu-Schaffer",
        "given": "Alin"
       }
      ],
      "container-title": "IEEE Transactions on Robotics",
      "id": "17740253/843QY6TN",
      "issue": "6",
      "issued": {
       "date-parts": [
        [
         "2017"
        ]
       ]
      },
      "journalAbbreviation": "IEEE Trans. Robot.",
      "language": "en",
      "page": "1292-1312",
      "shortTitle": "Robot Collisions",
      "system_id": "zotero|17740253/843QY6TN",
      "title": "Robot Collisions: A Survey on Detection, Isolation, and Identification",
      "type": "article-journal",
      "volume": "33"
     },
     "17740253/BIWERWJ7": {
      "DOI": "10.1109/ICRA.2011.5980210",
      "URL": "https://ieeexplore.ieee.org/document/5980210",
      "abstract": "This paper discusses two ways to estimate the interaction force at the end-effector of a robot. The first approach that is presented combines filtered dynamic equations with a recursive least squares estimation algorithm to provide a smoothened force signal, which is useful in the (common) case of noisy torque measurements. The second approach, which uses a generalized momentum based disturbance observer, is mainly discussed to compare it to the first approach. Although very different in appearance, it is shown that a close connection exists between both approaches. Simulation results for both algorithms are shown, and experimental results derived from a sensorless admittance controller that was implemented using the algorithms are presented.",
      "accessed": {
       "date-parts": [
        [
         2024,
         8,
         25
        ]
       ]
      },
      "author": [
       {
        "family": "Van Damme",
        "given": "M."
       },
       {
        "family": "Beyl",
        "given": "P."
       },
       {
        "family": "Vanderborght",
        "given": "B."
       },
       {
        "family": "Grosu",
        "given": "V."
       },
       {
        "family": "Van Ham",
        "given": "R."
       },
       {
        "family": "Vanderniepen",
        "given": "I."
       },
       {
        "family": "Matthys",
        "given": "A."
       },
       {
        "family": "Lefeber",
        "given": "D."
       }
      ],
      "container-title": "2011 IEEE International Conference on Robotics and Automation",
      "event": "2011 IEEE International Conference on Robotics and Automation",
      "id": "17740253/BIWERWJ7",
      "issued": {
       "date-parts": [
        [
         2011,
         5
        ]
       ]
      },
      "note": "ISSN: 1050-4729",
      "page": "1108-1113",
      "system_id": "zotero|17740253/BIWERWJ7",
      "title": "Estimating robot end-effector force from noisy actuator torque measurements",
      "type": "paper-conference"
     },
     "17740253/CLTM4H38": {
      "abstract": "In the applications of joint control and robot movement, the joint torque estimation has been treated as an effective technique and widely used. Researches are made to analyze the kinematic and compliance model of the robot joint with harmonic drive to acquire high precision torque output. Through analyzing the structures of the harmonic drive and experiment apparatus, a scheme of the proposed joint torque estimation method based on both the dynamic characteristics and unscented Kalman filter (UKF) is designed and built. Based on research and scheme, torque estimation methods in view of only harmonic drive compliance model and compliance model with the Kalman filter are simulated as guidance and reference to promote the research on the torque estimation technique. Finally, a promoted torque estimation method depending on both harmonic drive compliance model and UKF is designed, and simulation results compared with the measurements of a commercial torque sensor, have verified the effectiveness of the proposed method.",
      "author": [
       {
        "family": "Minghong",
        "given": "ZHU"
       },
       {
        "family": "Shu",
        "given": "XIAO"
       },
       {
        "family": "Fei",
        "given": "YU"
       }
      ],
      "id": "17740253/CLTM4H38",
      "issue": "6",
      "issued": {
       "date-parts": [
        [
         2022
        ]
       ]
      },
      "language": "en",
      "system_id": "zotero|17740253/CLTM4H38",
      "title": "Torque estimation for robotic joint with harmonic drive trans- mission based on system dynamic characteristics",
      "type": "article-journal",
      "volume": "33"
     },
     "17740253/NDTXCQI7": {
      "DOI": "10.3390/app131910917",
      "URL": "https://www.mdpi.com/2076-3417/13/19/10917",
      "abstract": "A personal-computer-based and a Raspberry Pi single-board computer-based virtual force sensor with EtherCAT communication for a six-axis robotic arm are proposed in this paper. Both traditional mathematical modeling and machine learning techniques are used in the establishment of the dynamic model of the robotic arm. Thanks to the high updating rate of EtherCAT, the machine learning-based dynamic model on a personal computer achieved an average correlation coefﬁcient between the estimated torque and the actual torque feedback from the motor driver of about 0.99. The dynamic model created using traditional mathematical modeling and the Raspberry Pi single-board computer demonstrates an approximate correlation coefﬁcient of 0.988 between the estimated torque and the actual torque. The external torque observer is established by calculating the difference between the actual torque and the estimated torque, and the virtual force sensor converts the externally applied torques calculated for each axis to the end effector of the robotic arm. When detecting external forces applied to the end effector, the virtual force sensor demonstrates a correlation coefﬁcient of 0.75 and a Root Mean Square Error of 12.93 N, proving its fundamental competence for force measurement. In this paper, both the external torque observer and the virtual force control are applied to applications related to sensing external forces of the robotic arm. The external torque observer is utilized in the safety collision detection mechanism. Based on experimental results, the system can halt the motion of the robotic arm using the minimum external force that the human body can endure, thereby ensuring the operator’s safety. The virtual force control is utilized to implement a position and force hybrid controller. The experimental results demonstrate that, under identical control conditions, the position and force hybrid controller established by the Raspberry Pi single-board computer achieves superior control outcomes in a constant force control scenario with a pressure of 40 N. The average absolute error is 9.62 N, and the root mean square error is 11.16 N when compared to the target pressure. From the analysis of the results, it can be concluded that the Raspberry Pi system implemented in this paper can achieve a higher control command update rate compared to personal computers. As a result, it can provide greater control beneﬁts in position and force hybrid control.",
      "accessed": {
       "date-parts": [
        [
         2024,
         7,
         3
        ]
       ]
      },
      "author": [
       {
        "family": "Hung",
        "given": "Chung-Wen"
       },
       {
        "family": "Jiang",
        "given": "Guan-Yu"
       }
      ],
      "container-title": "Applied Sciences",
      "id": "17740253/NDTXCQI7",
      "issue": "19",
      "issued": {
       "date-parts": [
        [
         2023,
         10,
         2
        ]
       ]
      },
      "journalAbbreviation": "Applied Sciences",
      "language": "en",
      "page": "10917",
      "system_id": "zotero|17740253/NDTXCQI7",
      "title": "Application of External Torque Observer and Virtual Force Sensor for a 6-DOF Robot",
      "type": "article-journal",
      "volume": "13"
     },
     "17740253/PGPL4Y7H": {
      "URL": "http://arxiv.org/abs/2405.00695",
      "abstract": "Accurate dynamic models are crucial for many robotic applications. Traditional approaches to deriving these models are based on the application of Lagrangian or Newtonian mechanics. Although these methods provide a good insight into the physical behaviour of the system, they rely on the exact knowledge of parameters such as inertia, friction and joint flexibility. In addition, the system is often affected by uncertain and nonlinear effects, such as saturation and dead zones, which can be difficult to model. A popular alternative is the application of Machine Learning (ML) techniques e.g., Neural Networks (NNs) - in the context of a “black-box” methodology. This paper reports on our experience with this approach for a real-life 6 degrees of freedom (DoF) manipulator. Specifically, we considered several NN architectures: single NN, multiple NNs, and cascade NN. We compared the performance of the system by using different policies for selecting the NN hyperparameters. Our experiments reveal that the best accuracy and performance are obtained by a cascade NN, in which we encode our prior physical knowledge about the dependencies between joints, complemented by an appropriate optimisation of the hyperparameters.",
      "accessed": {
       "date-parts": [
        [
         2024,
         7,
         3
        ]
       ]
      },
      "author": [
       {
        "family": "d'Addato",
        "given": "Giulia"
       },
       {
        "family": "Carli",
        "given": "Ruggero"
       },
       {
        "family": "Pedrosa",
        "given": "Eurico"
       },
       {
        "family": "Pereira",
        "given": "Artur"
       },
       {
        "family": "Palopoli",
        "given": "Luigi"
       },
       {
        "family": "Fontanelli",
        "given": "Daniele"
       }
      ],
      "id": "17740253/PGPL4Y7H",
      "issued": {
       "date-parts": [
        [
         2024,
         3,
         28
        ]
       ]
      },
      "language": "en",
      "note": "arXiv:2405.00695 [cs]",
      "number": "arXiv:2405.00695",
      "publisher": "arXiv",
      "system_id": "zotero|17740253/PGPL4Y7H",
      "title": "Joint torques prediction of a robotic arm using neural networks",
      "type": "article"
     },
     "17740253/QQJPQQQW": {
      "DOI": "10.1109/ICMA.2019.8816546",
      "ISBN": "9781728116983 9781728116990",
      "URL": "https://ieeexplore.ieee.org/document/8816546/",
      "accessed": {
       "date-parts": [
        [
         2024,
         8,
         28
        ]
       ]
      },
      "author": [
       {
        "family": "Li",
        "given": "Xiaoqi"
       },
       {
        "family": "Wang",
        "given": "Yanbo"
       },
       {
        "family": "Yang",
        "given": "Zelin"
       },
       {
        "family": "Zhou",
        "given": "Haiping"
       }
      ],
      "container-title": "2019 IEEE International Conference on Mechatronics and Automation (ICMA)",
      "event": "2019 IEEE International Conference on Mechatronics and Automation (ICMA)",
      "event-place": "Tianjin, China",
      "id": "17740253/QQJPQQQW",
      "issued": {
       "date-parts": [
        [
         "2019"
        ]
       ]
      },
      "page": "744-749",
      "publisher": "IEEE",
      "publisher-place": "Tianjin, China",
      "system_id": "zotero|17740253/QQJPQQQW",
      "title": "End-Effector Force Estimation for Robotic Manipulators from Motor Current Measurements",
      "type": "paper-conference"
     },
     "17740253/VIEJXI38": {
      "id": "17740253/VIEJXI38",
      "system_id": "zotero|17740253/VIEJXI38",
      "title": "Wahrburg et al. - 2018 - Motor-Current-Based Estimation of Cartesian Contac.pdf",
      "type": "article"
     }
    }
   }
  },
  "kernelspec": {
   "display_name": "Python 3 (ipykernel)",
   "language": "python",
   "name": "python3"
  },
  "language_info": {
   "codemirror_mode": {
    "name": "ipython",
    "version": 3
   },
   "file_extension": ".py",
   "mimetype": "text/x-python",
   "name": "python",
   "nbconvert_exporter": "python",
   "pygments_lexer": "ipython3",
   "version": "3.8.19"
  }
 },
 "nbformat": 4,
 "nbformat_minor": 5
}
