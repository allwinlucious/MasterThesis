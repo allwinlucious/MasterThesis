{
 "cells": [
  {
   "cell_type": "markdown",
   "id": "c944d600-1ac5-4d5d-898a-40f0131275dc",
   "metadata": {},
   "source": [
    "# Appendix"
   ]
  },
  {
   "cell_type": "markdown",
   "id": "d48eabe7-e50a-4ab2-a0ed-9b7d72826f4d",
   "metadata": {},
   "source": [
    "**Proof that $F_x ,F_z$ and $T_y$ are the only three components of wrench affecting torque at Joint 3 when all other joints are fixed at $0 rad$.**"
   ]
  },
  {
   "cell_type": "code",
   "execution_count": 12,
   "id": "74b9fdfa-fc7e-456c-bc6c-4fbf7e411dd8",
   "metadata": {},
   "outputs": [
    {
     "name": "stdout",
     "output_type": "stream",
     "text": [
      "⎡0.8735⋅cos(θ₃) ⎤\n",
      "⎢               ⎥\n",
      "⎢       0       ⎥\n",
      "⎢               ⎥\n",
      "⎢-0.8735⋅sin(θ₃)⎥\n",
      "⎢               ⎥\n",
      "⎢       0       ⎥\n",
      "⎢               ⎥\n",
      "⎢       1       ⎥\n",
      "⎢               ⎥\n",
      "⎣       0       ⎦\n"
     ]
    }
   ],
   "source": [
    "import sympy as sp\n",
    "import numpy as np\n",
    "\n",
    "# Step 1: Define symbolic variable for theta3 (only variable)\n",
    "theta3 = sp.symbols('theta3')\n",
    "\n",
    "# Other joint angles are zero\n",
    "theta1 = theta2 = theta4 = theta5 = theta6 = 0\n",
    "\n",
    "# Step 2: Define the numerical DH parameters using sympy\n",
    "dh_params_symbolic = [\n",
    "    (0, -sp.pi/2, 0.26, theta1),       # Link 1\n",
    "    (0.48, 0, 0, theta2 - sp.pi/2),    # Link 2\n",
    "    (0, sp.pi/2, 0, theta3 + sp.pi/2), # Link 3 (only theta3 is variable)\n",
    "    (0, -sp.pi/2, 0.7, theta4),        # Link 4\n",
    "    (0, sp.pi/2, 0, theta5),           # Link 5\n",
    "    (0, 0, 0.1735, theta6)             # Link 6\n",
    "]\n",
    "\n",
    "# Step 3: Define DH transformation matrix function using sympy\n",
    "def dh_transform_symbolic(a, alpha, d, theta):\n",
    "    return sp.Matrix([\n",
    "        [sp.cos(theta), -sp.sin(theta) * sp.cos(alpha), sp.sin(theta) * sp.sin(alpha), a * sp.cos(theta)],\n",
    "        [sp.sin(theta), sp.cos(theta) * sp.cos(alpha), -sp.cos(theta) * sp.sin(alpha), a * sp.sin(theta)],\n",
    "        [0, sp.sin(alpha), sp.cos(alpha), d],\n",
    "        [0, 0, 0, 1]\n",
    "    ])\n",
    "\n",
    "# Step 4: Compute forward kinematics with this specific configuration\n",
    "def compute_forward_kinematics_symbolic(dh_params):\n",
    "    T = sp.eye(4)\n",
    "    transformations = [T]\n",
    "    \n",
    "    for a, alpha, d, theta in dh_params:\n",
    "        T_i = dh_transform_symbolic(a, alpha, d, theta)\n",
    "        T = T * T_i\n",
    "        transformations.append(T)\n",
    "    \n",
    "    T_0_n = transformations[-1]\n",
    "    return transformations, T_0_n\n",
    "\n",
    "# Compute transformations with only theta3 being non-zero\n",
    "transformations, T_0_n = compute_forward_kinematics_symbolic(dh_params_symbolic)\n",
    "\n",
    "# Step 5: Compute Jacobian symbolically\n",
    "def compute_geometric_jacobian_symbolic(transformations):\n",
    "    num_joints = len(transformations) - 1  # Exclude base frame\n",
    "    jacobian_base = sp.zeros(6, num_joints)\n",
    "    \n",
    "    T_0_n = transformations[-1]\n",
    "    o_n = T_0_n[:3, 3]\n",
    "\n",
    "    for i in range(num_joints):\n",
    "        T_0_i = transformations[i]\n",
    "        o_i = T_0_i[:3, 3]\n",
    "        z_i = T_0_i[:3, 2]\n",
    "\n",
    "        jacobian_base[:3, i] = z_i.cross(o_n - o_i)  # Linear velocity part\n",
    "        jacobian_base[3:, i] = z_i  # Angular velocity part\n",
    "\n",
    "    return jacobian_base\n",
    "\n",
    "# Compute the Jacobian for this configuration\n",
    "jacobian = compute_geometric_jacobian_symbolic(transformations)\n",
    "\n",
    "# Step 6: Isolate the Jacobian column for joint 3 (index 2)\n",
    "jacobian_joint3 = jacobian[:, 2]\n",
    "\n",
    "# Display the symbolic Jacobian column for joint 3\n",
    "sp.pprint(jacobian_joint3)\n"
   ]
  },
  {
   "cell_type": "markdown",
   "id": "272a9868-99b8-45fc-be28-7dd842a2ca14",
   "metadata": {},
   "source": [
    "The third column of the jacobain matrix is $[0.8735 cos(\\theta_3), 0, -0.8735 cos(\\theta_3), 0, 1, 0]^T$. \n",
    " In a configuration where all other joints are fixed at $0 rad$, by computing the Jacobain\n",
    "symbolically, it can be seen that the three indices of the third column of the jacobain\n",
    "matrix that are non-zero correspond to F_x ,F_z and T_y components of the wrench."
   ]
  }
 ],
 "metadata": {
  "citation-manager": {
   "items": {}
  },
  "kernelspec": {
   "display_name": "Python 3 (ipykernel)",
   "language": "python",
   "name": "python3"
  },
  "language_info": {
   "codemirror_mode": {
    "name": "ipython",
    "version": 3
   },
   "file_extension": ".py",
   "mimetype": "text/x-python",
   "name": "python",
   "nbconvert_exporter": "python",
   "pygments_lexer": "ipython3",
   "version": "3.8.19"
  }
 },
 "nbformat": 4,
 "nbformat_minor": 5
}
