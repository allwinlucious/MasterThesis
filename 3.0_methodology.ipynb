{
 "cells": [
  {
   "cell_type": "markdown",
   "id": "5f4cba0e-a317-4ffd-ac42-a55f2676e9cf",
   "metadata": {},
   "source": [
    "# Methodology\n",
    "\n",
    "30 Use of force-torque sensing in Robotics\n",
    "2.3.2 Joint Torque Estimation\n",
    "There are many robots that do not include joint torque sensors [91, 17, 89]. Adding series\n",
    "Elastic Actuators (SEA) [103] is a common solution to estimate joint torques. Often, this\n",
    "solution adds a degree of compliance into the robot, which makes the control and planning\n",
    "tasks more complex. Based on the same elastic principle, joint torque estimation can also be\n",
    "achieved by measuring the deformation in the Harmonic Drive to estimate Joint torques [152].\n",
    "Using any of these techniques for joint torque estimation requires mechanical changes, which\n",
    "may sometimes be not feasible. Another possible solution is to use current measurements and\n",
    "the motor model to estimate the motor torque. The whole model with the gearbox should be\n",
    "taken into account to provide the joint torque [149].\n",
    "There are techniques that combine the distributed FT to estimate joint torques [44, 29,\n",
    "30, 129]. The resulting accuracy of the joint torque value depends on the performance of the\n",
    "FT sensor. Some extensions of the momentum-based residual signal method have required to\n",
    "provide some estimate of the joint torques [40, 89, 17, 18]. Even if control actions have been\n",
    "successfully executed with these estimations, accuracy comparisons are not provided ### do not use this same para\n",
    "just for refernce"
   ]
  },
  {
   "cell_type": "markdown",
   "id": "c7b1430a-5c6d-4e4f-9c16-3c4bc71dcd08",
   "metadata": {},
   "source": [
    "The remainging part of thesis is divided into 3 parts, 3.1 focuses on the analytical approcach where the deformation in the Harmonic drive was used to estimate the joint torques. part 3.2 is about a Hybrid approach or a Grey Box model where the residuals of the analytical approach was learned by a ML model. section 3.3 focuses on a purely ML based approach or a Black Box model where the measurements from an FTS sensor is learned using a Neural Network. \n"
   ]
  },
  {
   "cell_type": "code",
   "execution_count": null,
   "id": "c1e90fb0-61b5-4392-bb0f-5507a42381d1",
   "metadata": {},
   "outputs": [],
   "source": []
  }
 ],
 "metadata": {
  "kernelspec": {
   "display_name": "Python 3 (ipykernel)",
   "language": "python",
   "name": "python3"
  },
  "language_info": {
   "codemirror_mode": {
    "name": "ipython",
    "version": 3
   },
   "file_extension": ".py",
   "mimetype": "text/x-python",
   "name": "python",
   "nbconvert_exporter": "python",
   "pygments_lexer": "ipython3",
   "version": "3.8.19"
  }
 },
 "nbformat": 4,
 "nbformat_minor": 5
}
