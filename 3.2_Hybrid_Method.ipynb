{
 "cells": [
  {
   "cell_type": "markdown",
   "id": "88da930f-5aa6-4597-8554-d1a5fb413ff1",
   "metadata": {},
   "source": [
    "# 3.2 Hybrid Method\n",
    "\n",
    "This method uses a combination of Analytical and Machine Learning Methods to estimate the joint torques. By training on a dataset with trajectories generated with no load, the hypothesis is that the ML model can capture the model inaccuracies, or unmodelled torques in the joint.  "
   ]
  },
  {
   "cell_type": "markdown",
   "id": "b612e67d-44f4-486e-b0b2-6f194c25747f",
   "metadata": {},
   "source": [
    "# Data Collection\n",
    "\n",
    "The focus was still no "
   ]
  },
  {
   "cell_type": "markdown",
   "id": "edcbadc9-8966-4b4e-b175-b13281d2c0c1",
   "metadata": {},
   "source": [
    "The problem with this approach is that the model has not been trained on trajectories with load, the hypothesis  is that the residual after analytical methods is not dependednt of the external load, but this could be false. "
   ]
  },
  {
   "cell_type": "code",
   "execution_count": null,
   "id": "40ac1d33-7265-48f2-90ad-efba96ecef09",
   "metadata": {},
   "outputs": [],
   "source": []
  }
 ],
 "metadata": {
  "kernelspec": {
   "display_name": "Python 3 (ipykernel)",
   "language": "python",
   "name": "python3"
  },
  "language_info": {
   "codemirror_mode": {
    "name": "ipython",
    "version": 3
   },
   "file_extension": ".py",
   "mimetype": "text/x-python",
   "name": "python",
   "nbconvert_exporter": "python",
   "pygments_lexer": "ipython3",
   "version": "3.8.19"
  }
 },
 "nbformat": 4,
 "nbformat_minor": 5
}
